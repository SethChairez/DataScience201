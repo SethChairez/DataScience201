{
 "cells": [
  {
   "cell_type": "markdown",
   "id": "3ee4f51c-e4db-4665-a559-c701fdbf47b5",
   "metadata": {},
   "source": [
    "## Intermediate Data Science\n",
    "\n",
    "#### University of Redlands - DATA 201\n",
    "#### Prof: Joanna Bieri [joanna_bieri@redlands.edu](mailto:joanna_bieri@redlands.edu)\n",
    "#### [Class Website: data201.joannabieri.com](https://joannabieri.com/data201_intermediate.html)"
   ]
  },
  {
   "cell_type": "markdown",
   "id": "9ad18c6f-984e-4743-997a-feed9d43d243",
   "metadata": {},
   "source": [
    "## Computer Set Up"
   ]
  },
  {
   "cell_type": "code",
   "execution_count": 3,
   "id": "a0a6e073-9c4b-4c0f-9b0c-e6f45c72ef03",
   "metadata": {},
   "outputs": [
    {
     "name": "stdout",
     "output_type": "stream",
     "text": [
      "Python 3.12.2\n"
     ]
    }
   ],
   "source": [
    "!python --version"
   ]
  },
  {
   "cell_type": "code",
   "execution_count": 4,
   "id": "adf4a7d3-b452-468f-9108-8173e236ba41",
   "metadata": {},
   "outputs": [
    {
     "name": "stdout",
     "output_type": "stream",
     "text": [
      "Error while loading conda entry point: conda-libmamba-solver (dlopen(/Users/sethchairez/anaconda3/lib/python3.12/site-packages/libmambapy/bindings.cpython-312-darwin.so, 0x0002): Library not loaded: @rpath/libarchive.19.dylib\n",
      "  Referenced from: <DABAAA67-C742-3F02-A1E7-430216CA1374> /Users/sethchairez/anaconda3/lib/libmamba.2.0.0.dylib\n",
      "  Reason: tried: '/Users/sethchairez/anaconda3/lib/libarchive.19.dylib' (no such file), '/Users/sethchairez/anaconda3/lib/python3.12/site-packages/libmambapy/../../../libarchive.19.dylib' (no such file), '/Users/sethchairez/anaconda3/lib/python3.12/site-packages/libmambapy/../../../libarchive.19.dylib' (no such file), '/Users/sethchairez/anaconda3/bin/../lib/libarchive.19.dylib' (no such file), '/Users/sethchairez/anaconda3/bin/../lib/libarchive.19.dylib' (no such file), '/usr/local/lib/libarchive.19.dylib' (no such file), '/usr/lib/libarchive.19.dylib' (no such file, not in dyld cache))\n",
      "conda 24.11.3\n"
     ]
    }
   ],
   "source": [
    "!conda --version"
   ]
  },
  {
   "cell_type": "code",
   "execution_count": 5,
   "id": "0beec1df-0868-4a19-ba62-c0bc8654fb98",
   "metadata": {},
   "outputs": [
    {
     "name": "stdout",
     "output_type": "stream",
     "text": [
      "git version 2.45.1\n"
     ]
    }
   ],
   "source": [
    "!git --version"
   ]
  },
  {
   "cell_type": "markdown",
   "id": "a3212ecb-0e5d-4af9-9c23-9da3f7d2c6e3",
   "metadata": {},
   "source": [
    "**Clone the Repo for our Class**\n",
    "\n",
    "<a href=\"https://github.com/Redlands-DATA201/FALL25\" target=\"_blank\">Redlands-DATA201/FALL2025</a>"
   ]
  },
  {
   "cell_type": "code",
   "execution_count": 7,
   "id": "d0a237b4-65d5-4c30-a428-5df8348361b8",
   "metadata": {},
   "outputs": [
    {
     "name": "stdout",
     "output_type": "stream",
     "text": [
      "Error while loading conda entry point: conda-libmamba-solver (dlopen(/Users/sethchairez/anaconda3/lib/python3.12/site-packages/libmambapy/bindings.cpython-312-darwin.so, 0x0002): Library not loaded: @rpath/libarchive.19.dylib\n",
      "  Referenced from: <DABAAA67-C742-3F02-A1E7-430216CA1374> /Users/sethchairez/anaconda3/lib/libmamba.2.0.0.dylib\n",
      "  Reason: tried: '/Users/sethchairez/anaconda3/lib/libarchive.19.dylib' (no such file), '/Users/sethchairez/anaconda3/lib/python3.12/site-packages/libmambapy/../../../libarchive.19.dylib' (no such file), '/Users/sethchairez/anaconda3/lib/python3.12/site-packages/libmambapy/../../../libarchive.19.dylib' (no such file), '/Users/sethchairez/anaconda3/bin/../lib/libarchive.19.dylib' (no such file), '/Users/sethchairez/anaconda3/bin/../lib/libarchive.19.dylib' (no such file), '/usr/local/lib/libarchive.19.dylib' (no such file), '/usr/lib/libarchive.19.dylib' (no such file, not in dyld cache))\n",
      "\n",
      "CondaValueError: You have chosen a non-default solver backend (libmamba) but it was not recognized. Choose one of: classic\n",
      "\n",
      "Error while loading conda entry point: conda-libmamba-solver (dlopen(/Users/sethchairez/anaconda3/lib/python3.12/site-packages/libmambapy/bindings.cpython-312-darwin.so, 0x0002): Library not loaded: @rpath/libarchive.19.dylib\n",
      "  Referenced from: <DABAAA67-C742-3F02-A1E7-430216CA1374> /Users/sethchairez/anaconda3/lib/libmamba.2.0.0.dylib\n",
      "  Reason: tried: '/Users/sethchairez/anaconda3/lib/libarchive.19.dylib' (no such file), '/Users/sethchairez/anaconda3/lib/python3.12/site-packages/libmambapy/../../../libarchive.19.dylib' (no such file), '/Users/sethchairez/anaconda3/lib/python3.12/site-packages/libmambapy/../../../libarchive.19.dylib' (no such file), '/Users/sethchairez/anaconda3/bin/../lib/libarchive.19.dylib' (no such file), '/Users/sethchairez/anaconda3/bin/../lib/libarchive.19.dylib' (no such file), '/usr/local/lib/libarchive.19.dylib' (no such file), '/usr/lib/libarchive.19.dylib' (no such file, not in dyld cache))\n",
      "\n",
      "CondaValueError: You have chosen a non-default solver backend (libmamba) but it was not recognized. Choose one of: classic\n",
      "\n",
      "Error while loading conda entry point: conda-libmamba-solver (dlopen(/Users/sethchairez/anaconda3/lib/python3.12/site-packages/libmambapy/bindings.cpython-312-darwin.so, 0x0002): Library not loaded: @rpath/libarchive.19.dylib\n",
      "  Referenced from: <DABAAA67-C742-3F02-A1E7-430216CA1374> /Users/sethchairez/anaconda3/lib/libmamba.2.0.0.dylib\n",
      "  Reason: tried: '/Users/sethchairez/anaconda3/lib/libarchive.19.dylib' (no such file), '/Users/sethchairez/anaconda3/lib/python3.12/site-packages/libmambapy/../../../libarchive.19.dylib' (no such file), '/Users/sethchairez/anaconda3/lib/python3.12/site-packages/libmambapy/../../../libarchive.19.dylib' (no such file), '/Users/sethchairez/anaconda3/bin/../lib/libarchive.19.dylib' (no such file), '/Users/sethchairez/anaconda3/bin/../lib/libarchive.19.dylib' (no such file), '/usr/local/lib/libarchive.19.dylib' (no such file), '/usr/lib/libarchive.19.dylib' (no such file, not in dyld cache))\n",
      "\n",
      "CondaValueError: You have chosen a non-default solver backend (libmamba) but it was not recognized. Choose one of: classic\n",
      "\n",
      "Error while loading conda entry point: conda-libmamba-solver (dlopen(/Users/sethchairez/anaconda3/lib/python3.12/site-packages/libmambapy/bindings.cpython-312-darwin.so, 0x0002): Library not loaded: @rpath/libarchive.19.dylib\n",
      "  Referenced from: <DABAAA67-C742-3F02-A1E7-430216CA1374> /Users/sethchairez/anaconda3/lib/libmamba.2.0.0.dylib\n",
      "  Reason: tried: '/Users/sethchairez/anaconda3/lib/libarchive.19.dylib' (no such file), '/Users/sethchairez/anaconda3/lib/python3.12/site-packages/libmambapy/../../../libarchive.19.dylib' (no such file), '/Users/sethchairez/anaconda3/lib/python3.12/site-packages/libmambapy/../../../libarchive.19.dylib' (no such file), '/Users/sethchairez/anaconda3/bin/../lib/libarchive.19.dylib' (no such file), '/Users/sethchairez/anaconda3/bin/../lib/libarchive.19.dylib' (no such file), '/usr/local/lib/libarchive.19.dylib' (no such file), '/usr/lib/libarchive.19.dylib' (no such file, not in dyld cache))\n",
      "\n",
      "CondaValueError: You have chosen a non-default solver backend (libmamba) but it was not recognized. Choose one of: classic\n",
      "\n"
     ]
    }
   ],
   "source": [
    "# # Depending on your setup you might need to install modules\n",
    "!conda install -y numpy\n",
    "!conda install -y pandas\n",
    "!conda install -y matplotlib\n",
    "!conda install -y plotly"
   ]
  },
  {
   "cell_type": "code",
   "execution_count": 30,
   "id": "455a007e-f738-4c0b-b885-7c936d5367b9",
   "metadata": {},
   "outputs": [],
   "source": [
    "# Some basic package imports\n",
    "import numpy as np\n",
    "import pandas as pd\n",
    "\n",
    "import matplotlib.pyplot as plt\n",
    "import plotly.express as px\n",
    "from plotly.subplots import make_subplots\n",
    "import plotly.io as pio\n",
    "pio.renderers.defaule = 'colab'"
   ]
  },
  {
   "cell_type": "markdown",
   "id": "e5225f08-a34f-490c-9ca1-24f8cd3b9253",
   "metadata": {},
   "source": [
    "# Review of DATA 101\n",
    "\n",
    "For our review we are going to jump in and do some Exploratory Data Analysis (EDA) on a data set that we have seen before. This time you are just given a .csv file and your goal is to analyze it - answering these questions.\n",
    "\n",
    "**I expect this to feel impossible at first!!!** but if you all work together, share code, and look things up as needed, I know you can do it!\n",
    "\n",
    "#### This was a Homework Assignment in Data 101 - but see how much you can figure out on your own!\n",
    "\n",
    "* Answer the following questions using reproducible Python code.\n",
    "    - What does it mean to be reproducible? This means someone else at any time in the future can run and understand your code almost like reading a blog post.\n",
    "* For each question, state your answer in a sentence, e.g. \"In this sample, the first three common names of purchasers are ...\".\n",
    "* Note that the answers to all questions are within the context of this particular sample of sales, i.e. you shouldn't make inferences about the population of all Lego sales based on this sample.\n",
    "\n",
    "0.  Read in the .csv file using Pandas and display it\n",
    "\n",
    "1.  Describe what you see in the data set (variables, observations, etc)\n",
    "\n",
    "2.  What are the three most common first names of purchasers?\n",
    "\n",
    "3.  What are the three most common themes of Lego sets purchased?\n",
    "\n",
    "4.  Among the most common theme of Lego sets purchased, what is the most common subtheme?\n",
    "\n",
    "5.  Create data frames for each of the ages in the following categories: \"18 and under\", \"19 - 25\", \"26 - 35\", \"36 - 50\", \"51 and over\". HINT - use masks\n",
    "\n",
    "6.  Which age group has purchased the highest number of Lego sets.\n",
    "\n",
    "7.  Which age group has spent the most money on Legos?\n",
    "\n",
    "8.  Which Lego theme has made the most money for Lego?\n",
    "\n",
    "9.  Which area code has spent the most money on Legos? In the US the area code is the first 3 digits of a phone number. Then using a for loop calculate the average money spent per customer for each area code.\n",
    "\n",
    "10.  Come up with a question you want to answer using these data, and write it down. Then, create a data visualization that answers the question, and explain how your visualization answers the question.\n",
    "\n",
    "**This exersize comes from: https://datasciencebox.org/course-materials/hw-instructions/hw-05/hw-05-legos**"
   ]
  },
  {
   "cell_type": "code",
   "execution_count": 32,
   "id": "67a96804-0133-4676-ae25-ebfe9e3e706a",
   "metadata": {},
   "outputs": [
    {
     "data": {
      "text/html": [
       "<div>\n",
       "<style scoped>\n",
       "    .dataframe tbody tr th:only-of-type {\n",
       "        vertical-align: middle;\n",
       "    }\n",
       "\n",
       "    .dataframe tbody tr th {\n",
       "        vertical-align: top;\n",
       "    }\n",
       "\n",
       "    .dataframe thead th {\n",
       "        text-align: right;\n",
       "    }\n",
       "</style>\n",
       "<table border=\"1\" class=\"dataframe\">\n",
       "  <thead>\n",
       "    <tr style=\"text-align: right;\">\n",
       "      <th></th>\n",
       "      <th>first_name</th>\n",
       "      <th>last_name</th>\n",
       "      <th>age</th>\n",
       "      <th>phone_number</th>\n",
       "      <th>set_id</th>\n",
       "      <th>number</th>\n",
       "      <th>theme</th>\n",
       "      <th>subtheme</th>\n",
       "      <th>year</th>\n",
       "      <th>name</th>\n",
       "      <th>pieces</th>\n",
       "      <th>us_price</th>\n",
       "      <th>image_url</th>\n",
       "      <th>quantity</th>\n",
       "    </tr>\n",
       "  </thead>\n",
       "  <tbody>\n",
       "    <tr>\n",
       "      <th>0</th>\n",
       "      <td>Kimberly</td>\n",
       "      <td>Beckstead</td>\n",
       "      <td>24</td>\n",
       "      <td>216-555-2549</td>\n",
       "      <td>24701</td>\n",
       "      <td>76062</td>\n",
       "      <td>DC Comics Super Heroes</td>\n",
       "      <td>Mighty Micros</td>\n",
       "      <td>2018</td>\n",
       "      <td>Robin vs. Bane</td>\n",
       "      <td>77.0</td>\n",
       "      <td>9.99</td>\n",
       "      <td>http://images.brickset.com/sets/images/76062-1...</td>\n",
       "      <td>1</td>\n",
       "    </tr>\n",
       "    <tr>\n",
       "      <th>1</th>\n",
       "      <td>Neel</td>\n",
       "      <td>Garvin</td>\n",
       "      <td>35</td>\n",
       "      <td>819-555-3189</td>\n",
       "      <td>25626</td>\n",
       "      <td>70595</td>\n",
       "      <td>Ninjago</td>\n",
       "      <td>Rise of the Villains</td>\n",
       "      <td>2018</td>\n",
       "      <td>Ultra Stealth Raider</td>\n",
       "      <td>1093.0</td>\n",
       "      <td>119.99</td>\n",
       "      <td>http://images.brickset.com/sets/images/70595-1...</td>\n",
       "      <td>1</td>\n",
       "    </tr>\n",
       "    <tr>\n",
       "      <th>2</th>\n",
       "      <td>Neel</td>\n",
       "      <td>Garvin</td>\n",
       "      <td>35</td>\n",
       "      <td>819-555-3189</td>\n",
       "      <td>24665</td>\n",
       "      <td>21031</td>\n",
       "      <td>Architecture</td>\n",
       "      <td>NaN</td>\n",
       "      <td>2018</td>\n",
       "      <td>Burj Khalifa</td>\n",
       "      <td>333.0</td>\n",
       "      <td>39.99</td>\n",
       "      <td>http://images.brickset.com/sets/images/21031-1...</td>\n",
       "      <td>1</td>\n",
       "    </tr>\n",
       "    <tr>\n",
       "      <th>3</th>\n",
       "      <td>Chelsea</td>\n",
       "      <td>Bouchard</td>\n",
       "      <td>41</td>\n",
       "      <td>NaN</td>\n",
       "      <td>24695</td>\n",
       "      <td>31048</td>\n",
       "      <td>Creator</td>\n",
       "      <td>NaN</td>\n",
       "      <td>2018</td>\n",
       "      <td>Lakeside Lodge</td>\n",
       "      <td>368.0</td>\n",
       "      <td>29.99</td>\n",
       "      <td>http://images.brickset.com/sets/images/31048-1...</td>\n",
       "      <td>1</td>\n",
       "    </tr>\n",
       "    <tr>\n",
       "      <th>4</th>\n",
       "      <td>Chelsea</td>\n",
       "      <td>Bouchard</td>\n",
       "      <td>41</td>\n",
       "      <td>NaN</td>\n",
       "      <td>25626</td>\n",
       "      <td>70595</td>\n",
       "      <td>Ninjago</td>\n",
       "      <td>Rise of the Villains</td>\n",
       "      <td>2018</td>\n",
       "      <td>Ultra Stealth Raider</td>\n",
       "      <td>1093.0</td>\n",
       "      <td>119.99</td>\n",
       "      <td>http://images.brickset.com/sets/images/70595-1...</td>\n",
       "      <td>1</td>\n",
       "    </tr>\n",
       "    <tr>\n",
       "      <th>...</th>\n",
       "      <td>...</td>\n",
       "      <td>...</td>\n",
       "      <td>...</td>\n",
       "      <td>...</td>\n",
       "      <td>...</td>\n",
       "      <td>...</td>\n",
       "      <td>...</td>\n",
       "      <td>...</td>\n",
       "      <td>...</td>\n",
       "      <td>...</td>\n",
       "      <td>...</td>\n",
       "      <td>...</td>\n",
       "      <td>...</td>\n",
       "      <td>...</td>\n",
       "    </tr>\n",
       "    <tr>\n",
       "      <th>615</th>\n",
       "      <td>Talise</td>\n",
       "      <td>Nieukirk</td>\n",
       "      <td>16</td>\n",
       "      <td>801-555-2343</td>\n",
       "      <td>24902</td>\n",
       "      <td>41556</td>\n",
       "      <td>Mixels</td>\n",
       "      <td>Series 7</td>\n",
       "      <td>2018</td>\n",
       "      <td>Tiketz</td>\n",
       "      <td>62.0</td>\n",
       "      <td>4.99</td>\n",
       "      <td>http://images.brickset.com/sets/images/41556-1...</td>\n",
       "      <td>2</td>\n",
       "    </tr>\n",
       "    <tr>\n",
       "      <th>616</th>\n",
       "      <td>Spencer</td>\n",
       "      <td>Morgan</td>\n",
       "      <td>28</td>\n",
       "      <td>784-555-3455</td>\n",
       "      <td>26041</td>\n",
       "      <td>41580</td>\n",
       "      <td>Mixels</td>\n",
       "      <td>Series 9</td>\n",
       "      <td>2018</td>\n",
       "      <td>Myke</td>\n",
       "      <td>63.0</td>\n",
       "      <td>4.99</td>\n",
       "      <td>NaN</td>\n",
       "      <td>2</td>\n",
       "    </tr>\n",
       "    <tr>\n",
       "      <th>617</th>\n",
       "      <td>Spencer</td>\n",
       "      <td>Morgan</td>\n",
       "      <td>28</td>\n",
       "      <td>784-555-3455</td>\n",
       "      <td>26060</td>\n",
       "      <td>5005051</td>\n",
       "      <td>Gear</td>\n",
       "      <td>Digital Media</td>\n",
       "      <td>2018</td>\n",
       "      <td>Friends of Heartlake City Girlz 4 Life</td>\n",
       "      <td>NaN</td>\n",
       "      <td>19.99</td>\n",
       "      <td>NaN</td>\n",
       "      <td>1</td>\n",
       "    </tr>\n",
       "    <tr>\n",
       "      <th>618</th>\n",
       "      <td>Amelia</td>\n",
       "      <td>Hageman</td>\n",
       "      <td>40</td>\n",
       "      <td>336-555-1950</td>\n",
       "      <td>24702</td>\n",
       "      <td>76063</td>\n",
       "      <td>DC Comics Super Heroes</td>\n",
       "      <td>Mighty Micros</td>\n",
       "      <td>2018</td>\n",
       "      <td>The Flash vs. Captain Cold</td>\n",
       "      <td>88.0</td>\n",
       "      <td>9.99</td>\n",
       "      <td>http://images.brickset.com/sets/images/76063-1...</td>\n",
       "      <td>2</td>\n",
       "    </tr>\n",
       "    <tr>\n",
       "      <th>619</th>\n",
       "      <td>Amelia</td>\n",
       "      <td>Hageman</td>\n",
       "      <td>40</td>\n",
       "      <td>336-555-1950</td>\n",
       "      <td>24720</td>\n",
       "      <td>10830</td>\n",
       "      <td>Duplo</td>\n",
       "      <td>NaN</td>\n",
       "      <td>2018</td>\n",
       "      <td>Minnie's Café</td>\n",
       "      <td>27.0</td>\n",
       "      <td>19.99</td>\n",
       "      <td>http://images.brickset.com/sets/images/10830-1...</td>\n",
       "      <td>4</td>\n",
       "    </tr>\n",
       "  </tbody>\n",
       "</table>\n",
       "<p>620 rows × 14 columns</p>\n",
       "</div>"
      ],
      "text/plain": [
       "    first_name  last_name  age  phone_number  set_id   number  \\\n",
       "0     Kimberly  Beckstead   24  216-555-2549   24701    76062   \n",
       "1         Neel     Garvin   35  819-555-3189   25626    70595   \n",
       "2         Neel     Garvin   35  819-555-3189   24665    21031   \n",
       "3      Chelsea   Bouchard   41           NaN   24695    31048   \n",
       "4      Chelsea   Bouchard   41           NaN   25626    70595   \n",
       "..         ...        ...  ...           ...     ...      ...   \n",
       "615     Talise   Nieukirk   16  801-555-2343   24902    41556   \n",
       "616    Spencer     Morgan   28  784-555-3455   26041    41580   \n",
       "617    Spencer     Morgan   28  784-555-3455   26060  5005051   \n",
       "618     Amelia    Hageman   40  336-555-1950   24702    76063   \n",
       "619     Amelia    Hageman   40  336-555-1950   24720    10830   \n",
       "\n",
       "                      theme              subtheme  year  \\\n",
       "0    DC Comics Super Heroes         Mighty Micros  2018   \n",
       "1                   Ninjago  Rise of the Villains  2018   \n",
       "2              Architecture                   NaN  2018   \n",
       "3                   Creator                   NaN  2018   \n",
       "4                   Ninjago  Rise of the Villains  2018   \n",
       "..                      ...                   ...   ...   \n",
       "615                  Mixels              Series 7  2018   \n",
       "616                  Mixels              Series 9  2018   \n",
       "617                    Gear         Digital Media  2018   \n",
       "618  DC Comics Super Heroes         Mighty Micros  2018   \n",
       "619                   Duplo                   NaN  2018   \n",
       "\n",
       "                                       name  pieces  us_price  \\\n",
       "0                            Robin vs. Bane    77.0      9.99   \n",
       "1                      Ultra Stealth Raider  1093.0    119.99   \n",
       "2                              Burj Khalifa   333.0     39.99   \n",
       "3                            Lakeside Lodge   368.0     29.99   \n",
       "4                      Ultra Stealth Raider  1093.0    119.99   \n",
       "..                                      ...     ...       ...   \n",
       "615                                  Tiketz    62.0      4.99   \n",
       "616                                    Myke    63.0      4.99   \n",
       "617  Friends of Heartlake City Girlz 4 Life     NaN     19.99   \n",
       "618              The Flash vs. Captain Cold    88.0      9.99   \n",
       "619                           Minnie's Café    27.0     19.99   \n",
       "\n",
       "                                             image_url  quantity  \n",
       "0    http://images.brickset.com/sets/images/76062-1...         1  \n",
       "1    http://images.brickset.com/sets/images/70595-1...         1  \n",
       "2    http://images.brickset.com/sets/images/21031-1...         1  \n",
       "3    http://images.brickset.com/sets/images/31048-1...         1  \n",
       "4    http://images.brickset.com/sets/images/70595-1...         1  \n",
       "..                                                 ...       ...  \n",
       "615  http://images.brickset.com/sets/images/41556-1...         2  \n",
       "616                                                NaN         2  \n",
       "617                                                NaN         1  \n",
       "618  http://images.brickset.com/sets/images/76063-1...         2  \n",
       "619  http://images.brickset.com/sets/images/10830-1...         4  \n",
       "\n",
       "[620 rows x 14 columns]"
      ]
     },
     "metadata": {},
     "output_type": "display_data"
    }
   ],
   "source": [
    "#0 Read in the .csv file using Pandas and display it\n",
    "file_name = 'data/lego-sales.csv'\n",
    "df = pd.read_csv(file_name)\n",
    "display(df)"
   ]
  },
  {
   "cell_type": "markdown",
   "id": "0bcfbe6f-48e4-4cb2-b8fa-f811cb35a022",
   "metadata": {},
   "source": [
    "1. In the dataframe there are 620 rows and 14 variables. The data is split between string's.integers, and floats. The phone numbers in the data set would normally be categorical data over it is read in as categorical. "
   ]
  },
  {
   "cell_type": "markdown",
   "id": "ce962a66-b67c-4c46-b62a-3f78338a863b",
   "metadata": {},
   "source": [
    "# 1 Describe what you see in the data set (variables, observations, etc)\n"
   ]
  },
  {
   "cell_type": "code",
   "execution_count": 34,
   "id": "d4689671-8930-49c0-8be9-6801930a85a4",
   "metadata": {},
   "outputs": [
    {
     "data": {
      "text/plain": [
       "(620, 14)"
      ]
     },
     "execution_count": 34,
     "metadata": {},
     "output_type": "execute_result"
    }
   ],
   "source": [
    "df.shape"
   ]
  },
  {
   "cell_type": "code",
   "execution_count": 36,
   "id": "877acfce-4e8e-4b74-933d-828b7827282a",
   "metadata": {},
   "outputs": [
    {
     "data": {
      "text/html": [
       "<div>\n",
       "<style scoped>\n",
       "    .dataframe tbody tr th:only-of-type {\n",
       "        vertical-align: middle;\n",
       "    }\n",
       "\n",
       "    .dataframe tbody tr th {\n",
       "        vertical-align: top;\n",
       "    }\n",
       "\n",
       "    .dataframe thead th {\n",
       "        text-align: right;\n",
       "    }\n",
       "</style>\n",
       "<table border=\"1\" class=\"dataframe\">\n",
       "  <thead>\n",
       "    <tr style=\"text-align: right;\">\n",
       "      <th></th>\n",
       "      <th>age</th>\n",
       "      <th>set_id</th>\n",
       "      <th>year</th>\n",
       "      <th>pieces</th>\n",
       "      <th>us_price</th>\n",
       "      <th>quantity</th>\n",
       "    </tr>\n",
       "  </thead>\n",
       "  <tbody>\n",
       "    <tr>\n",
       "      <th>count</th>\n",
       "      <td>620.000000</td>\n",
       "      <td>620.000000</td>\n",
       "      <td>620.0</td>\n",
       "      <td>551.000000</td>\n",
       "      <td>620.000000</td>\n",
       "      <td>620.000000</td>\n",
       "    </tr>\n",
       "    <tr>\n",
       "      <th>mean</th>\n",
       "      <td>34.356452</td>\n",
       "      <td>25124.982258</td>\n",
       "      <td>2018.0</td>\n",
       "      <td>254.206897</td>\n",
       "      <td>29.041613</td>\n",
       "      <td>1.437097</td>\n",
       "    </tr>\n",
       "    <tr>\n",
       "      <th>std</th>\n",
       "      <td>11.276537</td>\n",
       "      <td>506.760720</td>\n",
       "      <td>0.0</td>\n",
       "      <td>357.738804</td>\n",
       "      <td>34.630623</td>\n",
       "      <td>0.712849</td>\n",
       "    </tr>\n",
       "    <tr>\n",
       "      <th>min</th>\n",
       "      <td>16.000000</td>\n",
       "      <td>24548.000000</td>\n",
       "      <td>2018.0</td>\n",
       "      <td>13.000000</td>\n",
       "      <td>3.990000</td>\n",
       "      <td>1.000000</td>\n",
       "    </tr>\n",
       "    <tr>\n",
       "      <th>25%</th>\n",
       "      <td>25.000000</td>\n",
       "      <td>24724.750000</td>\n",
       "      <td>2018.0</td>\n",
       "      <td>70.000000</td>\n",
       "      <td>9.990000</td>\n",
       "      <td>1.000000</td>\n",
       "    </tr>\n",
       "    <tr>\n",
       "      <th>50%</th>\n",
       "      <td>33.000000</td>\n",
       "      <td>24804.500000</td>\n",
       "      <td>2018.0</td>\n",
       "      <td>114.000000</td>\n",
       "      <td>19.990000</td>\n",
       "      <td>1.000000</td>\n",
       "    </tr>\n",
       "    <tr>\n",
       "      <th>75%</th>\n",
       "      <td>41.000000</td>\n",
       "      <td>25640.250000</td>\n",
       "      <td>2018.0</td>\n",
       "      <td>313.000000</td>\n",
       "      <td>29.990000</td>\n",
       "      <td>2.000000</td>\n",
       "    </tr>\n",
       "    <tr>\n",
       "      <th>max</th>\n",
       "      <td>68.000000</td>\n",
       "      <td>26060.000000</td>\n",
       "      <td>2018.0</td>\n",
       "      <td>4634.000000</td>\n",
       "      <td>349.990000</td>\n",
       "      <td>5.000000</td>\n",
       "    </tr>\n",
       "  </tbody>\n",
       "</table>\n",
       "</div>"
      ],
      "text/plain": [
       "              age        set_id    year       pieces    us_price    quantity\n",
       "count  620.000000    620.000000   620.0   551.000000  620.000000  620.000000\n",
       "mean    34.356452  25124.982258  2018.0   254.206897   29.041613    1.437097\n",
       "std     11.276537    506.760720     0.0   357.738804   34.630623    0.712849\n",
       "min     16.000000  24548.000000  2018.0    13.000000    3.990000    1.000000\n",
       "25%     25.000000  24724.750000  2018.0    70.000000    9.990000    1.000000\n",
       "50%     33.000000  24804.500000  2018.0   114.000000   19.990000    1.000000\n",
       "75%     41.000000  25640.250000  2018.0   313.000000   29.990000    2.000000\n",
       "max     68.000000  26060.000000  2018.0  4634.000000  349.990000    5.000000"
      ]
     },
     "execution_count": 36,
     "metadata": {},
     "output_type": "execute_result"
    }
   ],
   "source": [
    "df.describe()"
   ]
  },
  {
   "cell_type": "code",
   "execution_count": 38,
   "id": "da65e183-28f7-4d50-a66e-40aaf5df6e14",
   "metadata": {},
   "outputs": [
    {
     "data": {
      "text/plain": [
       "Index(['first_name', 'last_name', 'age', 'phone_number', 'set_id', 'number',\n",
       "       'theme', 'subtheme', 'year', 'name', 'pieces', 'us_price', 'image_url',\n",
       "       'quantity'],\n",
       "      dtype='object')"
      ]
     },
     "execution_count": 38,
     "metadata": {},
     "output_type": "execute_result"
    }
   ],
   "source": [
    "df.keys()"
   ]
  },
  {
   "cell_type": "code",
   "execution_count": 40,
   "id": "0eae89ee-7f4d-438e-b27a-cc5a259bc0d1",
   "metadata": {},
   "outputs": [
    {
     "data": {
      "text/plain": [
       "first_name       object\n",
       "last_name        object\n",
       "age               int64\n",
       "phone_number     object\n",
       "set_id            int64\n",
       "number           object\n",
       "theme            object\n",
       "subtheme         object\n",
       "year              int64\n",
       "name             object\n",
       "pieces          float64\n",
       "us_price        float64\n",
       "image_url        object\n",
       "quantity          int64\n",
       "dtype: object"
      ]
     },
     "execution_count": 40,
     "metadata": {},
     "output_type": "execute_result"
    }
   ],
   "source": [
    "df.dtypes"
   ]
  },
  {
   "cell_type": "code",
   "execution_count": 42,
   "id": "764f43b7-3f11-441f-b12f-1c9de48a5c20",
   "metadata": {},
   "outputs": [
    {
     "data": {
      "text/plain": [
       "first_name\n",
       "Jackson     13\n",
       "Jacob       11\n",
       "Joseph      11\n",
       "Michael     10\n",
       "Kaitlyn      8\n",
       "            ..\n",
       "Erik         1\n",
       "Kelly        1\n",
       "Katelynn     1\n",
       "Talise       1\n",
       "Kimberly     1\n",
       "Name: count, Length: 211, dtype: int64"
      ]
     },
     "execution_count": 42,
     "metadata": {},
     "output_type": "execute_result"
    }
   ],
   "source": [
    "#2 What are the three most common first names of purchasers?\n",
    "\n",
    "df['first_name'].value_counts()"
   ]
  },
  {
   "cell_type": "markdown",
   "id": "c694aa9c-8d3c-4473-b2ca-3df1c41a5ecb",
   "metadata": {},
   "source": [
    "# 2. In this sample, The three most common first names of purchasers are Jackson, Jacob, and Joseph"
   ]
  },
  {
   "cell_type": "markdown",
   "id": "a6c3cfd2-f264-4969-af69-74f98a145dee",
   "metadata": {},
   "source": [
    "# 3 What are the three most common themes of Lego sets purchased?\n"
   ]
  },
  {
   "cell_type": "code",
   "execution_count": 44,
   "id": "699cc647-7209-466b-8ebf-c196b224459c",
   "metadata": {},
   "outputs": [
    {
     "data": {
      "text/plain": [
       "theme\n",
       "Star Wars                  75\n",
       "Nexo Knights               64\n",
       "Mixels                     55\n",
       "Gear                       55\n",
       "City                       45\n",
       "Friends                    42\n",
       "Ninjago                    38\n",
       "Duplo                      35\n",
       "Bionicle                   34\n",
       "Creator                    25\n",
       "Elves                      22\n",
       "DC Comics Super Heroes     22\n",
       "Marvel Super Heroes        19\n",
       "Dimensions                 18\n",
       "Disney Princess            15\n",
       "The Angry Birds Movie      11\n",
       "Architecture               10\n",
       "Technic                    10\n",
       "Minecraft                   9\n",
       "Advanced Models             4\n",
       "Ghostbusters                3\n",
       "Seasonal                    3\n",
       "Collectable Minifigures     3\n",
       "Ideas                       2\n",
       "Classic                     1\n",
       "Name: count, dtype: int64"
      ]
     },
     "metadata": {},
     "output_type": "display_data"
    }
   ],
   "source": [
    "theme_count = df['theme'].value_counts()\n",
    "display(theme_count)"
   ]
  },
  {
   "cell_type": "markdown",
   "id": "51283788-8b92-47be-913b-e480463ae53f",
   "metadata": {},
   "source": [
    "3. In this sample, The three most common themes of legos purchased are Star Wars, Nexo Knights and mixels. "
   ]
  },
  {
   "cell_type": "code",
   "execution_count": 48,
   "id": "8b72a00e-f205-4bb8-829e-b25cf1f41d39",
   "metadata": {},
   "outputs": [
    {
     "data": {
      "text/plain": [
       "Index(['Star Wars', 'Nexo Knights', 'Mixels'], dtype='object', name='theme')"
      ]
     },
     "metadata": {},
     "output_type": "display_data"
    }
   ],
   "source": [
    "lock_theme = theme_count.head(3).index\n",
    "display(lock_theme)"
   ]
  },
  {
   "cell_type": "markdown",
   "id": "3f14c046-72e6-4d48-886e-607578bf7728",
   "metadata": {},
   "source": [
    "# 4.  Among the most common theme of Lego sets purchased, what is the most common subtheme?"
   ]
  },
  {
   "cell_type": "code",
   "execution_count": 50,
   "id": "1fbdcdb1-908c-4ac8-a58a-afee042c7d76",
   "metadata": {},
   "outputs": [
    {
     "data": {
      "text/plain": [
       "'The Force Awakens'"
      ]
     },
     "execution_count": 50,
     "metadata": {},
     "output_type": "execute_result"
    }
   ],
   "source": [
    "theme_counts = df['theme'].value_counts()\n",
    "top_theme = theme_counts.index[0]\n",
    "theme_rows = df[df['theme'] == top_theme]\n",
    "count_subtheme = theme_rows['subtheme'].value_counts()\n",
    "count_subtheme\n",
    "common_subtheme = count_subtheme.index[0]\n",
    "common_subtheme"
   ]
  },
  {
   "cell_type": "markdown",
   "id": "3855ecee-7eb2-4640-83e3-d450ee58d865",
   "metadata": {},
   "source": [
    "4.In this code I again counted the most popular themes to begin and put it into a variable called theme_counts. After this I took the first index of the theme with the highest count and put this into a variable top_theme. I then matched the masked the data to theme and made it equal top theme and called it theme_rows. With this new variable theme_rows I mask subtheme and count the number of time this pops up in the data. The most common subtheme is the Force Awakens/"
   ]
  },
  {
   "cell_type": "markdown",
   "id": "c76af070-61da-4a7d-8cb5-207855dd358b",
   "metadata": {},
   "source": [
    "# 5. Create data frames for each of the ages in the following categories: \"18 and under\", \"19 - 25\", \"26 - 35\", \"36 - 50\", \"51 and over\". HINT - use masks"
   ]
  },
  {
   "cell_type": "code",
   "execution_count": 104,
   "id": "7d278d02-817e-409f-87c6-b9fe1f2228bc",
   "metadata": {},
   "outputs": [
    {
     "data": {
      "text/html": [
       "<div>\n",
       "<style scoped>\n",
       "    .dataframe tbody tr th:only-of-type {\n",
       "        vertical-align: middle;\n",
       "    }\n",
       "\n",
       "    .dataframe tbody tr th {\n",
       "        vertical-align: top;\n",
       "    }\n",
       "\n",
       "    .dataframe thead th {\n",
       "        text-align: right;\n",
       "    }\n",
       "</style>\n",
       "<table border=\"1\" class=\"dataframe\">\n",
       "  <thead>\n",
       "    <tr style=\"text-align: right;\">\n",
       "      <th></th>\n",
       "      <th>first_name</th>\n",
       "      <th>last_name</th>\n",
       "      <th>age</th>\n",
       "      <th>phone_number</th>\n",
       "      <th>set_id</th>\n",
       "      <th>number</th>\n",
       "      <th>theme</th>\n",
       "      <th>subtheme</th>\n",
       "      <th>year</th>\n",
       "      <th>name</th>\n",
       "      <th>pieces</th>\n",
       "      <th>us_price</th>\n",
       "      <th>image_url</th>\n",
       "      <th>quantity</th>\n",
       "      <th>total_spent</th>\n",
       "    </tr>\n",
       "  </thead>\n",
       "  <tbody>\n",
       "    <tr>\n",
       "      <th>44</th>\n",
       "      <td>Michelle</td>\n",
       "      <td>Uguccioni</td>\n",
       "      <td>17</td>\n",
       "      <td>NaN</td>\n",
       "      <td>24756</td>\n",
       "      <td>70310</td>\n",
       "      <td>Nexo Knights</td>\n",
       "      <td>NaN</td>\n",
       "      <td>2018</td>\n",
       "      <td>Knighton Battle Blaster</td>\n",
       "      <td>76.0</td>\n",
       "      <td>9.99</td>\n",
       "      <td>http://images.brickset.com/sets/images/70310-1...</td>\n",
       "      <td>1</td>\n",
       "      <td>9.99</td>\n",
       "    </tr>\n",
       "    <tr>\n",
       "      <th>45</th>\n",
       "      <td>Michelle</td>\n",
       "      <td>Uguccioni</td>\n",
       "      <td>17</td>\n",
       "      <td>NaN</td>\n",
       "      <td>24896</td>\n",
       "      <td>31046</td>\n",
       "      <td>Creator</td>\n",
       "      <td>NaN</td>\n",
       "      <td>2018</td>\n",
       "      <td>Fast Car</td>\n",
       "      <td>222.0</td>\n",
       "      <td>19.99</td>\n",
       "      <td>http://images.brickset.com/sets/images/31046-1...</td>\n",
       "      <td>1</td>\n",
       "      <td>19.99</td>\n",
       "    </tr>\n",
       "    <tr>\n",
       "      <th>70</th>\n",
       "      <td>Lucas</td>\n",
       "      <td>Jimenez-Dominguez</td>\n",
       "      <td>18</td>\n",
       "      <td>712-555-0459</td>\n",
       "      <td>24691</td>\n",
       "      <td>31043</td>\n",
       "      <td>Creator</td>\n",
       "      <td>NaN</td>\n",
       "      <td>2018</td>\n",
       "      <td>Chopper Transporter</td>\n",
       "      <td>124.0</td>\n",
       "      <td>9.99</td>\n",
       "      <td>http://images.brickset.com/sets/images/31043-1...</td>\n",
       "      <td>2</td>\n",
       "      <td>19.98</td>\n",
       "    </tr>\n",
       "    <tr>\n",
       "      <th>71</th>\n",
       "      <td>Lucas</td>\n",
       "      <td>Jimenez-Dominguez</td>\n",
       "      <td>18</td>\n",
       "      <td>712-555-0459</td>\n",
       "      <td>26034</td>\n",
       "      <td>41573</td>\n",
       "      <td>Mixels</td>\n",
       "      <td>Series 9</td>\n",
       "      <td>2018</td>\n",
       "      <td>Sweepz</td>\n",
       "      <td>61.0</td>\n",
       "      <td>4.99</td>\n",
       "      <td>NaN</td>\n",
       "      <td>1</td>\n",
       "      <td>4.99</td>\n",
       "    </tr>\n",
       "    <tr>\n",
       "      <th>72</th>\n",
       "      <td>Lucas</td>\n",
       "      <td>Jimenez-Dominguez</td>\n",
       "      <td>18</td>\n",
       "      <td>712-555-0459</td>\n",
       "      <td>24704</td>\n",
       "      <td>41140</td>\n",
       "      <td>Disney Princess</td>\n",
       "      <td>Palace Pets</td>\n",
       "      <td>2018</td>\n",
       "      <td>Daisy's Beauty Salon</td>\n",
       "      <td>98.0</td>\n",
       "      <td>9.99</td>\n",
       "      <td>http://images.brickset.com/sets/images/41140-1...</td>\n",
       "      <td>1</td>\n",
       "      <td>9.99</td>\n",
       "    </tr>\n",
       "    <tr>\n",
       "      <th>73</th>\n",
       "      <td>Lucas</td>\n",
       "      <td>Jimenez-Dominguez</td>\n",
       "      <td>18</td>\n",
       "      <td>712-555-0459</td>\n",
       "      <td>24903</td>\n",
       "      <td>41558</td>\n",
       "      <td>Mixels</td>\n",
       "      <td>Series 7</td>\n",
       "      <td>2018</td>\n",
       "      <td>Mixadel</td>\n",
       "      <td>63.0</td>\n",
       "      <td>4.99</td>\n",
       "      <td>http://images.brickset.com/sets/images/41558-1...</td>\n",
       "      <td>2</td>\n",
       "      <td>9.98</td>\n",
       "    </tr>\n",
       "    <tr>\n",
       "      <th>74</th>\n",
       "      <td>Lucas</td>\n",
       "      <td>Jimenez-Dominguez</td>\n",
       "      <td>18</td>\n",
       "      <td>712-555-0459</td>\n",
       "      <td>26033</td>\n",
       "      <td>41572</td>\n",
       "      <td>Mixels</td>\n",
       "      <td>Series 9</td>\n",
       "      <td>2018</td>\n",
       "      <td>Gobbol</td>\n",
       "      <td>62.0</td>\n",
       "      <td>4.99</td>\n",
       "      <td>NaN</td>\n",
       "      <td>1</td>\n",
       "      <td>4.99</td>\n",
       "    </tr>\n",
       "    <tr>\n",
       "      <th>187</th>\n",
       "      <td>Chayanne</td>\n",
       "      <td>Williams</td>\n",
       "      <td>17</td>\n",
       "      <td>869-555-6681</td>\n",
       "      <td>24678</td>\n",
       "      <td>60109</td>\n",
       "      <td>City</td>\n",
       "      <td>Fire</td>\n",
       "      <td>2018</td>\n",
       "      <td>Fire Boat</td>\n",
       "      <td>412.0</td>\n",
       "      <td>79.99</td>\n",
       "      <td>http://images.brickset.com/sets/images/60109-1...</td>\n",
       "      <td>2</td>\n",
       "      <td>159.98</td>\n",
       "    </tr>\n",
       "    <tr>\n",
       "      <th>188</th>\n",
       "      <td>Chayanne</td>\n",
       "      <td>Williams</td>\n",
       "      <td>17</td>\n",
       "      <td>869-555-6681</td>\n",
       "      <td>24697</td>\n",
       "      <td>76044</td>\n",
       "      <td>DC Comics Super Heroes</td>\n",
       "      <td>Batman v Superman: Dawn of Justice</td>\n",
       "      <td>2018</td>\n",
       "      <td>Clash of the Heroes</td>\n",
       "      <td>92.0</td>\n",
       "      <td>12.99</td>\n",
       "      <td>http://images.brickset.com/sets/images/76044-1...</td>\n",
       "      <td>1</td>\n",
       "      <td>12.99</td>\n",
       "    </tr>\n",
       "    <tr>\n",
       "      <th>223</th>\n",
       "      <td>Michael</td>\n",
       "      <td>Cruz</td>\n",
       "      <td>17</td>\n",
       "      <td>361-555-8212</td>\n",
       "      <td>24723</td>\n",
       "      <td>41172</td>\n",
       "      <td>Elves</td>\n",
       "      <td>NaN</td>\n",
       "      <td>2018</td>\n",
       "      <td>The Water Dragon Adventure</td>\n",
       "      <td>212.0</td>\n",
       "      <td>19.99</td>\n",
       "      <td>http://images.brickset.com/sets/images/41172-1...</td>\n",
       "      <td>1</td>\n",
       "      <td>19.99</td>\n",
       "    </tr>\n",
       "    <tr>\n",
       "      <th>224</th>\n",
       "      <td>Michael</td>\n",
       "      <td>Cruz</td>\n",
       "      <td>17</td>\n",
       "      <td>361-555-8212</td>\n",
       "      <td>24618</td>\n",
       "      <td>71238</td>\n",
       "      <td>Dimensions</td>\n",
       "      <td>Fun Pack</td>\n",
       "      <td>2018</td>\n",
       "      <td>Fun Pack: Cyberman</td>\n",
       "      <td>40.0</td>\n",
       "      <td>14.99</td>\n",
       "      <td>http://images.brickset.com/sets/images/71238-1...</td>\n",
       "      <td>1</td>\n",
       "      <td>14.99</td>\n",
       "    </tr>\n",
       "    <tr>\n",
       "      <th>225</th>\n",
       "      <td>Michael</td>\n",
       "      <td>Cruz</td>\n",
       "      <td>17</td>\n",
       "      <td>361-555-8212</td>\n",
       "      <td>24920</td>\n",
       "      <td>70605</td>\n",
       "      <td>Ninjago</td>\n",
       "      <td>Skybound</td>\n",
       "      <td>2018</td>\n",
       "      <td>Misfortune's Keep</td>\n",
       "      <td>754.0</td>\n",
       "      <td>79.99</td>\n",
       "      <td>http://images.brickset.com/sets/images/70605-1...</td>\n",
       "      <td>1</td>\n",
       "      <td>79.99</td>\n",
       "    </tr>\n",
       "    <tr>\n",
       "      <th>284</th>\n",
       "      <td>Steven</td>\n",
       "      <td>Washington</td>\n",
       "      <td>16</td>\n",
       "      <td>336-555-1433</td>\n",
       "      <td>25910</td>\n",
       "      <td>30347</td>\n",
       "      <td>City</td>\n",
       "      <td>Fire</td>\n",
       "      <td>2018</td>\n",
       "      <td>Fire Car</td>\n",
       "      <td>53.0</td>\n",
       "      <td>3.99</td>\n",
       "      <td>http://images.brickset.com/sets/images/30347-1...</td>\n",
       "      <td>1</td>\n",
       "      <td>3.99</td>\n",
       "    </tr>\n",
       "    <tr>\n",
       "      <th>285</th>\n",
       "      <td>Steven</td>\n",
       "      <td>Washington</td>\n",
       "      <td>16</td>\n",
       "      <td>336-555-1433</td>\n",
       "      <td>25893</td>\n",
       "      <td>30349</td>\n",
       "      <td>City</td>\n",
       "      <td>NaN</td>\n",
       "      <td>2018</td>\n",
       "      <td>Sports Car</td>\n",
       "      <td>47.0</td>\n",
       "      <td>3.99</td>\n",
       "      <td>http://images.brickset.com/sets/images/30349-1...</td>\n",
       "      <td>5</td>\n",
       "      <td>19.95</td>\n",
       "    </tr>\n",
       "    <tr>\n",
       "      <th>286</th>\n",
       "      <td>Serena</td>\n",
       "      <td>Bartkowiak</td>\n",
       "      <td>16</td>\n",
       "      <td>305-555-2377</td>\n",
       "      <td>24806</td>\n",
       "      <td>71311</td>\n",
       "      <td>Bionicle</td>\n",
       "      <td>Miscellaneous</td>\n",
       "      <td>2018</td>\n",
       "      <td>Kopaka and Melum - Unity set</td>\n",
       "      <td>171.0</td>\n",
       "      <td>24.99</td>\n",
       "      <td>http://images.brickset.com/sets/images/71311-1...</td>\n",
       "      <td>2</td>\n",
       "      <td>49.98</td>\n",
       "    </tr>\n",
       "    <tr>\n",
       "      <th>287</th>\n",
       "      <td>Serena</td>\n",
       "      <td>Bartkowiak</td>\n",
       "      <td>16</td>\n",
       "      <td>305-555-2377</td>\n",
       "      <td>24778</td>\n",
       "      <td>75113</td>\n",
       "      <td>Star Wars</td>\n",
       "      <td>Buildable Figures</td>\n",
       "      <td>2018</td>\n",
       "      <td>Rey</td>\n",
       "      <td>84.0</td>\n",
       "      <td>19.99</td>\n",
       "      <td>http://images.brickset.com/sets/images/75113-1...</td>\n",
       "      <td>1</td>\n",
       "      <td>19.99</td>\n",
       "    </tr>\n",
       "    <tr>\n",
       "      <th>288</th>\n",
       "      <td>Serena</td>\n",
       "      <td>Bartkowiak</td>\n",
       "      <td>16</td>\n",
       "      <td>305-555-2377</td>\n",
       "      <td>24987</td>\n",
       "      <td>40201</td>\n",
       "      <td>Seasonal</td>\n",
       "      <td>Valentine's Day</td>\n",
       "      <td>2018</td>\n",
       "      <td>Valentine's Cupid Dog</td>\n",
       "      <td>150.0</td>\n",
       "      <td>9.99</td>\n",
       "      <td>http://images.brickset.com/sets/images/40201-1...</td>\n",
       "      <td>1</td>\n",
       "      <td>9.99</td>\n",
       "    </tr>\n",
       "    <tr>\n",
       "      <th>439</th>\n",
       "      <td>Aaron</td>\n",
       "      <td>Bruner</td>\n",
       "      <td>18</td>\n",
       "      <td>914-555-5003</td>\n",
       "      <td>24679</td>\n",
       "      <td>60111</td>\n",
       "      <td>City</td>\n",
       "      <td>Fire</td>\n",
       "      <td>2018</td>\n",
       "      <td>Fire Utility Truck</td>\n",
       "      <td>368.0</td>\n",
       "      <td>39.99</td>\n",
       "      <td>http://images.brickset.com/sets/images/60111-1...</td>\n",
       "      <td>4</td>\n",
       "      <td>159.96</td>\n",
       "    </tr>\n",
       "    <tr>\n",
       "      <th>440</th>\n",
       "      <td>Aaron</td>\n",
       "      <td>Bruner</td>\n",
       "      <td>18</td>\n",
       "      <td>914-555-5003</td>\n",
       "      <td>24956</td>\n",
       "      <td>71300</td>\n",
       "      <td>Bionicle</td>\n",
       "      <td>companions</td>\n",
       "      <td>2018</td>\n",
       "      <td>Uxar - Creature of Jungle</td>\n",
       "      <td>89.0</td>\n",
       "      <td>9.99</td>\n",
       "      <td>http://images.brickset.com/sets/images/71300-1...</td>\n",
       "      <td>1</td>\n",
       "      <td>9.99</td>\n",
       "    </tr>\n",
       "    <tr>\n",
       "      <th>441</th>\n",
       "      <td>Aaron</td>\n",
       "      <td>Bruner</td>\n",
       "      <td>18</td>\n",
       "      <td>914-555-5003</td>\n",
       "      <td>24796</td>\n",
       "      <td>75137</td>\n",
       "      <td>Star Wars</td>\n",
       "      <td>Episode V</td>\n",
       "      <td>2018</td>\n",
       "      <td>Carbon-Freezing Chamber</td>\n",
       "      <td>231.0</td>\n",
       "      <td>24.99</td>\n",
       "      <td>http://images.brickset.com/sets/images/75137-1...</td>\n",
       "      <td>2</td>\n",
       "      <td>49.98</td>\n",
       "    </tr>\n",
       "    <tr>\n",
       "      <th>443</th>\n",
       "      <td>Michael</td>\n",
       "      <td>Donner</td>\n",
       "      <td>18</td>\n",
       "      <td>432-555-3069</td>\n",
       "      <td>24660</td>\n",
       "      <td>71241</td>\n",
       "      <td>Dimensions</td>\n",
       "      <td>Fun Pack</td>\n",
       "      <td>2018</td>\n",
       "      <td>Fun Pack: Slimer</td>\n",
       "      <td>33.0</td>\n",
       "      <td>14.99</td>\n",
       "      <td>http://images.brickset.com/sets/images/71241-1...</td>\n",
       "      <td>2</td>\n",
       "      <td>29.98</td>\n",
       "    </tr>\n",
       "    <tr>\n",
       "      <th>444</th>\n",
       "      <td>Michael</td>\n",
       "      <td>Donner</td>\n",
       "      <td>18</td>\n",
       "      <td>432-555-3069</td>\n",
       "      <td>24709</td>\n",
       "      <td>10803</td>\n",
       "      <td>Duplo</td>\n",
       "      <td>NaN</td>\n",
       "      <td>2018</td>\n",
       "      <td>Arctic</td>\n",
       "      <td>40.0</td>\n",
       "      <td>29.99</td>\n",
       "      <td>http://images.brickset.com/sets/images/10803-1...</td>\n",
       "      <td>1</td>\n",
       "      <td>29.99</td>\n",
       "    </tr>\n",
       "    <tr>\n",
       "      <th>445</th>\n",
       "      <td>Michael</td>\n",
       "      <td>Donner</td>\n",
       "      <td>18</td>\n",
       "      <td>432-555-3069</td>\n",
       "      <td>26059</td>\n",
       "      <td>5005060</td>\n",
       "      <td>Gear</td>\n",
       "      <td>Video Games/3DS</td>\n",
       "      <td>2018</td>\n",
       "      <td>Marvel Avengers Nintendo 3DS Video Game</td>\n",
       "      <td>NaN</td>\n",
       "      <td>29.99</td>\n",
       "      <td>http://images.brickset.com/sets/images/5005060...</td>\n",
       "      <td>1</td>\n",
       "      <td>29.99</td>\n",
       "    </tr>\n",
       "    <tr>\n",
       "      <th>476</th>\n",
       "      <td>Dylan</td>\n",
       "      <td>Mcgrath</td>\n",
       "      <td>18</td>\n",
       "      <td>229-555-1970</td>\n",
       "      <td>24748</td>\n",
       "      <td>76050</td>\n",
       "      <td>Marvel Super Heroes</td>\n",
       "      <td>Captain America: Civil War</td>\n",
       "      <td>2018</td>\n",
       "      <td>Crossbones' Hazard Heist</td>\n",
       "      <td>179.0</td>\n",
       "      <td>19.99</td>\n",
       "      <td>http://images.brickset.com/sets/images/76050-1...</td>\n",
       "      <td>1</td>\n",
       "      <td>19.99</td>\n",
       "    </tr>\n",
       "    <tr>\n",
       "      <th>477</th>\n",
       "      <td>Dylan</td>\n",
       "      <td>Mcgrath</td>\n",
       "      <td>18</td>\n",
       "      <td>229-555-1970</td>\n",
       "      <td>25645</td>\n",
       "      <td>71314</td>\n",
       "      <td>Bionicle</td>\n",
       "      <td>Reboot Villains</td>\n",
       "      <td>2018</td>\n",
       "      <td>Storm Beast</td>\n",
       "      <td>109.0</td>\n",
       "      <td>14.99</td>\n",
       "      <td>NaN</td>\n",
       "      <td>1</td>\n",
       "      <td>14.99</td>\n",
       "    </tr>\n",
       "    <tr>\n",
       "      <th>611</th>\n",
       "      <td>Natalia</td>\n",
       "      <td>Vonduyke</td>\n",
       "      <td>16</td>\n",
       "      <td>859-555-3818</td>\n",
       "      <td>25879</td>\n",
       "      <td>853534</td>\n",
       "      <td>Gear</td>\n",
       "      <td>Key Chains/Ninjago</td>\n",
       "      <td>2018</td>\n",
       "      <td>Airjitzu Jay Key Chain</td>\n",
       "      <td>NaN</td>\n",
       "      <td>5.99</td>\n",
       "      <td>http://images.brickset.com/sets/images/853534-...</td>\n",
       "      <td>2</td>\n",
       "      <td>11.98</td>\n",
       "    </tr>\n",
       "    <tr>\n",
       "      <th>612</th>\n",
       "      <td>Natalia</td>\n",
       "      <td>Vonduyke</td>\n",
       "      <td>16</td>\n",
       "      <td>859-555-3818</td>\n",
       "      <td>24714</td>\n",
       "      <td>10814</td>\n",
       "      <td>Duplo</td>\n",
       "      <td>NaN</td>\n",
       "      <td>2018</td>\n",
       "      <td>Tow Truck</td>\n",
       "      <td>28.0</td>\n",
       "      <td>19.99</td>\n",
       "      <td>http://images.brickset.com/sets/images/10814-1...</td>\n",
       "      <td>1</td>\n",
       "      <td>19.99</td>\n",
       "    </tr>\n",
       "    <tr>\n",
       "      <th>613</th>\n",
       "      <td>Natalia</td>\n",
       "      <td>Vonduyke</td>\n",
       "      <td>16</td>\n",
       "      <td>859-555-3818</td>\n",
       "      <td>24765</td>\n",
       "      <td>70332</td>\n",
       "      <td>Nexo Knights</td>\n",
       "      <td>Ultimate</td>\n",
       "      <td>2018</td>\n",
       "      <td>Ultimate Aaron</td>\n",
       "      <td>82.0</td>\n",
       "      <td>9.99</td>\n",
       "      <td>http://images.brickset.com/sets/images/70332-1...</td>\n",
       "      <td>1</td>\n",
       "      <td>9.99</td>\n",
       "    </tr>\n",
       "    <tr>\n",
       "      <th>614</th>\n",
       "      <td>Natalia</td>\n",
       "      <td>Vonduyke</td>\n",
       "      <td>16</td>\n",
       "      <td>859-555-3818</td>\n",
       "      <td>25922</td>\n",
       "      <td>75149</td>\n",
       "      <td>Star Wars</td>\n",
       "      <td>The Force Awakens</td>\n",
       "      <td>2018</td>\n",
       "      <td>Resistance X-wing Fighter</td>\n",
       "      <td>740.0</td>\n",
       "      <td>79.99</td>\n",
       "      <td>http://images.brickset.com/sets/images/75149-1...</td>\n",
       "      <td>1</td>\n",
       "      <td>79.99</td>\n",
       "    </tr>\n",
       "    <tr>\n",
       "      <th>615</th>\n",
       "      <td>Talise</td>\n",
       "      <td>Nieukirk</td>\n",
       "      <td>16</td>\n",
       "      <td>801-555-2343</td>\n",
       "      <td>24902</td>\n",
       "      <td>41556</td>\n",
       "      <td>Mixels</td>\n",
       "      <td>Series 7</td>\n",
       "      <td>2018</td>\n",
       "      <td>Tiketz</td>\n",
       "      <td>62.0</td>\n",
       "      <td>4.99</td>\n",
       "      <td>http://images.brickset.com/sets/images/41556-1...</td>\n",
       "      <td>2</td>\n",
       "      <td>9.98</td>\n",
       "    </tr>\n",
       "  </tbody>\n",
       "</table>\n",
       "</div>"
      ],
      "text/plain": [
       "    first_name          last_name  age  phone_number  set_id   number  \\\n",
       "44    Michelle          Uguccioni   17           NaN   24756    70310   \n",
       "45    Michelle          Uguccioni   17           NaN   24896    31046   \n",
       "70       Lucas  Jimenez-Dominguez   18  712-555-0459   24691    31043   \n",
       "71       Lucas  Jimenez-Dominguez   18  712-555-0459   26034    41573   \n",
       "72       Lucas  Jimenez-Dominguez   18  712-555-0459   24704    41140   \n",
       "73       Lucas  Jimenez-Dominguez   18  712-555-0459   24903    41558   \n",
       "74       Lucas  Jimenez-Dominguez   18  712-555-0459   26033    41572   \n",
       "187   Chayanne           Williams   17  869-555-6681   24678    60109   \n",
       "188   Chayanne           Williams   17  869-555-6681   24697    76044   \n",
       "223    Michael               Cruz   17  361-555-8212   24723    41172   \n",
       "224    Michael               Cruz   17  361-555-8212   24618    71238   \n",
       "225    Michael               Cruz   17  361-555-8212   24920    70605   \n",
       "284     Steven         Washington   16  336-555-1433   25910    30347   \n",
       "285     Steven         Washington   16  336-555-1433   25893    30349   \n",
       "286     Serena         Bartkowiak   16  305-555-2377   24806    71311   \n",
       "287     Serena         Bartkowiak   16  305-555-2377   24778    75113   \n",
       "288     Serena         Bartkowiak   16  305-555-2377   24987    40201   \n",
       "439      Aaron             Bruner   18  914-555-5003   24679    60111   \n",
       "440      Aaron             Bruner   18  914-555-5003   24956    71300   \n",
       "441      Aaron             Bruner   18  914-555-5003   24796    75137   \n",
       "443    Michael             Donner   18  432-555-3069   24660    71241   \n",
       "444    Michael             Donner   18  432-555-3069   24709    10803   \n",
       "445    Michael             Donner   18  432-555-3069   26059  5005060   \n",
       "476      Dylan            Mcgrath   18  229-555-1970   24748    76050   \n",
       "477      Dylan            Mcgrath   18  229-555-1970   25645    71314   \n",
       "611    Natalia           Vonduyke   16  859-555-3818   25879   853534   \n",
       "612    Natalia           Vonduyke   16  859-555-3818   24714    10814   \n",
       "613    Natalia           Vonduyke   16  859-555-3818   24765    70332   \n",
       "614    Natalia           Vonduyke   16  859-555-3818   25922    75149   \n",
       "615     Talise           Nieukirk   16  801-555-2343   24902    41556   \n",
       "\n",
       "                      theme                            subtheme  year  \\\n",
       "44             Nexo Knights                                 NaN  2018   \n",
       "45                  Creator                                 NaN  2018   \n",
       "70                  Creator                                 NaN  2018   \n",
       "71                   Mixels                            Series 9  2018   \n",
       "72          Disney Princess                         Palace Pets  2018   \n",
       "73                   Mixels                            Series 7  2018   \n",
       "74                   Mixels                            Series 9  2018   \n",
       "187                    City                                Fire  2018   \n",
       "188  DC Comics Super Heroes  Batman v Superman: Dawn of Justice  2018   \n",
       "223                   Elves                                 NaN  2018   \n",
       "224              Dimensions                            Fun Pack  2018   \n",
       "225                 Ninjago                            Skybound  2018   \n",
       "284                    City                                Fire  2018   \n",
       "285                    City                                 NaN  2018   \n",
       "286                Bionicle                       Miscellaneous  2018   \n",
       "287               Star Wars                   Buildable Figures  2018   \n",
       "288                Seasonal                     Valentine's Day  2018   \n",
       "439                    City                                Fire  2018   \n",
       "440                Bionicle                          companions  2018   \n",
       "441               Star Wars                           Episode V  2018   \n",
       "443              Dimensions                            Fun Pack  2018   \n",
       "444                   Duplo                                 NaN  2018   \n",
       "445                    Gear                     Video Games/3DS  2018   \n",
       "476     Marvel Super Heroes          Captain America: Civil War  2018   \n",
       "477                Bionicle                     Reboot Villains  2018   \n",
       "611                    Gear                  Key Chains/Ninjago  2018   \n",
       "612                   Duplo                                 NaN  2018   \n",
       "613            Nexo Knights                            Ultimate  2018   \n",
       "614               Star Wars                   The Force Awakens  2018   \n",
       "615                  Mixels                            Series 7  2018   \n",
       "\n",
       "                                        name  pieces  us_price  \\\n",
       "44                   Knighton Battle Blaster    76.0      9.99   \n",
       "45                                  Fast Car   222.0     19.99   \n",
       "70                       Chopper Transporter   124.0      9.99   \n",
       "71                                    Sweepz    61.0      4.99   \n",
       "72                      Daisy's Beauty Salon    98.0      9.99   \n",
       "73                                   Mixadel    63.0      4.99   \n",
       "74                                    Gobbol    62.0      4.99   \n",
       "187                                Fire Boat   412.0     79.99   \n",
       "188                      Clash of the Heroes    92.0     12.99   \n",
       "223               The Water Dragon Adventure   212.0     19.99   \n",
       "224                       Fun Pack: Cyberman    40.0     14.99   \n",
       "225                        Misfortune's Keep   754.0     79.99   \n",
       "284                                 Fire Car    53.0      3.99   \n",
       "285                               Sports Car    47.0      3.99   \n",
       "286             Kopaka and Melum - Unity set   171.0     24.99   \n",
       "287                                      Rey    84.0     19.99   \n",
       "288                    Valentine's Cupid Dog   150.0      9.99   \n",
       "439                       Fire Utility Truck   368.0     39.99   \n",
       "440                Uxar - Creature of Jungle    89.0      9.99   \n",
       "441                  Carbon-Freezing Chamber   231.0     24.99   \n",
       "443                         Fun Pack: Slimer    33.0     14.99   \n",
       "444                                   Arctic    40.0     29.99   \n",
       "445  Marvel Avengers Nintendo 3DS Video Game     NaN     29.99   \n",
       "476                 Crossbones' Hazard Heist   179.0     19.99   \n",
       "477                              Storm Beast   109.0     14.99   \n",
       "611                   Airjitzu Jay Key Chain     NaN      5.99   \n",
       "612                                Tow Truck    28.0     19.99   \n",
       "613                           Ultimate Aaron    82.0      9.99   \n",
       "614                Resistance X-wing Fighter   740.0     79.99   \n",
       "615                                   Tiketz    62.0      4.99   \n",
       "\n",
       "                                             image_url  quantity  total_spent  \n",
       "44   http://images.brickset.com/sets/images/70310-1...         1         9.99  \n",
       "45   http://images.brickset.com/sets/images/31046-1...         1        19.99  \n",
       "70   http://images.brickset.com/sets/images/31043-1...         2        19.98  \n",
       "71                                                 NaN         1         4.99  \n",
       "72   http://images.brickset.com/sets/images/41140-1...         1         9.99  \n",
       "73   http://images.brickset.com/sets/images/41558-1...         2         9.98  \n",
       "74                                                 NaN         1         4.99  \n",
       "187  http://images.brickset.com/sets/images/60109-1...         2       159.98  \n",
       "188  http://images.brickset.com/sets/images/76044-1...         1        12.99  \n",
       "223  http://images.brickset.com/sets/images/41172-1...         1        19.99  \n",
       "224  http://images.brickset.com/sets/images/71238-1...         1        14.99  \n",
       "225  http://images.brickset.com/sets/images/70605-1...         1        79.99  \n",
       "284  http://images.brickset.com/sets/images/30347-1...         1         3.99  \n",
       "285  http://images.brickset.com/sets/images/30349-1...         5        19.95  \n",
       "286  http://images.brickset.com/sets/images/71311-1...         2        49.98  \n",
       "287  http://images.brickset.com/sets/images/75113-1...         1        19.99  \n",
       "288  http://images.brickset.com/sets/images/40201-1...         1         9.99  \n",
       "439  http://images.brickset.com/sets/images/60111-1...         4       159.96  \n",
       "440  http://images.brickset.com/sets/images/71300-1...         1         9.99  \n",
       "441  http://images.brickset.com/sets/images/75137-1...         2        49.98  \n",
       "443  http://images.brickset.com/sets/images/71241-1...         2        29.98  \n",
       "444  http://images.brickset.com/sets/images/10803-1...         1        29.99  \n",
       "445  http://images.brickset.com/sets/images/5005060...         1        29.99  \n",
       "476  http://images.brickset.com/sets/images/76050-1...         1        19.99  \n",
       "477                                                NaN         1        14.99  \n",
       "611  http://images.brickset.com/sets/images/853534-...         2        11.98  \n",
       "612  http://images.brickset.com/sets/images/10814-1...         1        19.99  \n",
       "613  http://images.brickset.com/sets/images/70332-1...         1         9.99  \n",
       "614  http://images.brickset.com/sets/images/75149-1...         1        79.99  \n",
       "615  http://images.brickset.com/sets/images/41556-1...         2         9.98  "
      ]
     },
     "execution_count": 104,
     "metadata": {},
     "output_type": "execute_result"
    }
   ],
   "source": [
    "first_mask = df['age'] <= 18\n",
    "masked_df_u18= df[first_mask] \n",
    "masked_df_u18"
   ]
  },
  {
   "cell_type": "code",
   "execution_count": 108,
   "id": "0eccd5f3-5d06-43f1-9bfe-47be4e447ffc",
   "metadata": {},
   "outputs": [
    {
     "data": {
      "text/html": [
       "<div>\n",
       "<style scoped>\n",
       "    .dataframe tbody tr th:only-of-type {\n",
       "        vertical-align: middle;\n",
       "    }\n",
       "\n",
       "    .dataframe tbody tr th {\n",
       "        vertical-align: top;\n",
       "    }\n",
       "\n",
       "    .dataframe thead th {\n",
       "        text-align: right;\n",
       "    }\n",
       "</style>\n",
       "<table border=\"1\" class=\"dataframe\">\n",
       "  <thead>\n",
       "    <tr style=\"text-align: right;\">\n",
       "      <th></th>\n",
       "      <th>first_name</th>\n",
       "      <th>last_name</th>\n",
       "      <th>age</th>\n",
       "      <th>phone_number</th>\n",
       "      <th>set_id</th>\n",
       "      <th>number</th>\n",
       "      <th>theme</th>\n",
       "      <th>subtheme</th>\n",
       "      <th>year</th>\n",
       "      <th>name</th>\n",
       "      <th>pieces</th>\n",
       "      <th>us_price</th>\n",
       "      <th>image_url</th>\n",
       "      <th>quantity</th>\n",
       "      <th>total_spent</th>\n",
       "    </tr>\n",
       "  </thead>\n",
       "  <tbody>\n",
       "    <tr>\n",
       "      <th>0</th>\n",
       "      <td>Kimberly</td>\n",
       "      <td>Beckstead</td>\n",
       "      <td>24</td>\n",
       "      <td>216-555-2549</td>\n",
       "      <td>24701</td>\n",
       "      <td>76062</td>\n",
       "      <td>DC Comics Super Heroes</td>\n",
       "      <td>Mighty Micros</td>\n",
       "      <td>2018</td>\n",
       "      <td>Robin vs. Bane</td>\n",
       "      <td>77.0</td>\n",
       "      <td>9.99</td>\n",
       "      <td>http://images.brickset.com/sets/images/76062-1...</td>\n",
       "      <td>1</td>\n",
       "      <td>9.99</td>\n",
       "    </tr>\n",
       "    <tr>\n",
       "      <th>6</th>\n",
       "      <td>Bryanna</td>\n",
       "      <td>Welsh</td>\n",
       "      <td>19</td>\n",
       "      <td>NaN</td>\n",
       "      <td>24797</td>\n",
       "      <td>75138</td>\n",
       "      <td>Star Wars</td>\n",
       "      <td>Episode V</td>\n",
       "      <td>2018</td>\n",
       "      <td>Hoth Attack</td>\n",
       "      <td>233.0</td>\n",
       "      <td>24.99</td>\n",
       "      <td>http://images.brickset.com/sets/images/75138-1...</td>\n",
       "      <td>1</td>\n",
       "      <td>24.99</td>\n",
       "    </tr>\n",
       "    <tr>\n",
       "      <th>7</th>\n",
       "      <td>Bryanna</td>\n",
       "      <td>Welsh</td>\n",
       "      <td>19</td>\n",
       "      <td>NaN</td>\n",
       "      <td>24701</td>\n",
       "      <td>76062</td>\n",
       "      <td>DC Comics Super Heroes</td>\n",
       "      <td>Mighty Micros</td>\n",
       "      <td>2018</td>\n",
       "      <td>Robin vs. Bane</td>\n",
       "      <td>77.0</td>\n",
       "      <td>9.99</td>\n",
       "      <td>http://images.brickset.com/sets/images/76062-1...</td>\n",
       "      <td>3</td>\n",
       "      <td>29.97</td>\n",
       "    </tr>\n",
       "    <tr>\n",
       "      <th>10</th>\n",
       "      <td>Chase</td>\n",
       "      <td>Fortenberry</td>\n",
       "      <td>19</td>\n",
       "      <td>205-555-3704</td>\n",
       "      <td>24707</td>\n",
       "      <td>10801</td>\n",
       "      <td>Duplo</td>\n",
       "      <td>NaN</td>\n",
       "      <td>2018</td>\n",
       "      <td>Baby Animals</td>\n",
       "      <td>13.0</td>\n",
       "      <td>9.99</td>\n",
       "      <td>http://images.brickset.com/sets/images/10801-1...</td>\n",
       "      <td>1</td>\n",
       "      <td>9.99</td>\n",
       "    </tr>\n",
       "    <tr>\n",
       "      <th>11</th>\n",
       "      <td>Chase</td>\n",
       "      <td>Fortenberry</td>\n",
       "      <td>19</td>\n",
       "      <td>205-555-3704</td>\n",
       "      <td>24713</td>\n",
       "      <td>10809</td>\n",
       "      <td>Duplo</td>\n",
       "      <td>NaN</td>\n",
       "      <td>2018</td>\n",
       "      <td>Police Patrol</td>\n",
       "      <td>15.0</td>\n",
       "      <td>14.99</td>\n",
       "      <td>http://images.brickset.com/sets/images/10809-1...</td>\n",
       "      <td>1</td>\n",
       "      <td>14.99</td>\n",
       "    </tr>\n",
       "    <tr>\n",
       "      <th>...</th>\n",
       "      <td>...</td>\n",
       "      <td>...</td>\n",
       "      <td>...</td>\n",
       "      <td>...</td>\n",
       "      <td>...</td>\n",
       "      <td>...</td>\n",
       "      <td>...</td>\n",
       "      <td>...</td>\n",
       "      <td>...</td>\n",
       "      <td>...</td>\n",
       "      <td>...</td>\n",
       "      <td>...</td>\n",
       "      <td>...</td>\n",
       "      <td>...</td>\n",
       "      <td>...</td>\n",
       "    </tr>\n",
       "    <tr>\n",
       "      <th>591</th>\n",
       "      <td>Paige</td>\n",
       "      <td>Ice</td>\n",
       "      <td>21</td>\n",
       "      <td>NaN</td>\n",
       "      <td>26038</td>\n",
       "      <td>41577</td>\n",
       "      <td>Mixels</td>\n",
       "      <td>Series 9</td>\n",
       "      <td>2018</td>\n",
       "      <td>Mysto</td>\n",
       "      <td>64.0</td>\n",
       "      <td>4.99</td>\n",
       "      <td>NaN</td>\n",
       "      <td>1</td>\n",
       "      <td>4.99</td>\n",
       "    </tr>\n",
       "    <tr>\n",
       "      <th>592</th>\n",
       "      <td>Aiden</td>\n",
       "      <td>Ganley</td>\n",
       "      <td>19</td>\n",
       "      <td>786-555-5067</td>\n",
       "      <td>25639</td>\n",
       "      <td>70324</td>\n",
       "      <td>Nexo Knights</td>\n",
       "      <td>NaN</td>\n",
       "      <td>2018</td>\n",
       "      <td>Merlok's Library 2.0</td>\n",
       "      <td>288.0</td>\n",
       "      <td>24.99</td>\n",
       "      <td>http://images.brickset.com/sets/images/70324-1...</td>\n",
       "      <td>1</td>\n",
       "      <td>24.99</td>\n",
       "    </tr>\n",
       "    <tr>\n",
       "      <th>593</th>\n",
       "      <td>Aiden</td>\n",
       "      <td>Ganley</td>\n",
       "      <td>19</td>\n",
       "      <td>786-555-5067</td>\n",
       "      <td>24756</td>\n",
       "      <td>70310</td>\n",
       "      <td>Nexo Knights</td>\n",
       "      <td>NaN</td>\n",
       "      <td>2018</td>\n",
       "      <td>Knighton Battle Blaster</td>\n",
       "      <td>76.0</td>\n",
       "      <td>9.99</td>\n",
       "      <td>http://images.brickset.com/sets/images/70310-1...</td>\n",
       "      <td>2</td>\n",
       "      <td>19.98</td>\n",
       "    </tr>\n",
       "    <tr>\n",
       "      <th>608</th>\n",
       "      <td>Carolyn</td>\n",
       "      <td>Quarry</td>\n",
       "      <td>23</td>\n",
       "      <td>567-555-7649</td>\n",
       "      <td>25627</td>\n",
       "      <td>70596</td>\n",
       "      <td>Ninjago</td>\n",
       "      <td>Rise of the Villains</td>\n",
       "      <td>2018</td>\n",
       "      <td>Samurai X Cave Chaos</td>\n",
       "      <td>1253.0</td>\n",
       "      <td>119.99</td>\n",
       "      <td>NaN</td>\n",
       "      <td>2</td>\n",
       "      <td>239.98</td>\n",
       "    </tr>\n",
       "    <tr>\n",
       "      <th>609</th>\n",
       "      <td>Carolyn</td>\n",
       "      <td>Quarry</td>\n",
       "      <td>23</td>\n",
       "      <td>567-555-7649</td>\n",
       "      <td>24806</td>\n",
       "      <td>71311</td>\n",
       "      <td>Bionicle</td>\n",
       "      <td>Miscellaneous</td>\n",
       "      <td>2018</td>\n",
       "      <td>Kopaka and Melum - Unity set</td>\n",
       "      <td>171.0</td>\n",
       "      <td>24.99</td>\n",
       "      <td>http://images.brickset.com/sets/images/71311-1...</td>\n",
       "      <td>2</td>\n",
       "      <td>49.98</td>\n",
       "    </tr>\n",
       "  </tbody>\n",
       "</table>\n",
       "<p>129 rows × 15 columns</p>\n",
       "</div>"
      ],
      "text/plain": [
       "    first_name    last_name  age  phone_number  set_id number  \\\n",
       "0     Kimberly    Beckstead   24  216-555-2549   24701  76062   \n",
       "6      Bryanna        Welsh   19           NaN   24797  75138   \n",
       "7      Bryanna        Welsh   19           NaN   24701  76062   \n",
       "10       Chase  Fortenberry   19  205-555-3704   24707  10801   \n",
       "11       Chase  Fortenberry   19  205-555-3704   24713  10809   \n",
       "..         ...          ...  ...           ...     ...    ...   \n",
       "591      Paige          Ice   21           NaN   26038  41577   \n",
       "592      Aiden       Ganley   19  786-555-5067   25639  70324   \n",
       "593      Aiden       Ganley   19  786-555-5067   24756  70310   \n",
       "608    Carolyn       Quarry   23  567-555-7649   25627  70596   \n",
       "609    Carolyn       Quarry   23  567-555-7649   24806  71311   \n",
       "\n",
       "                      theme              subtheme  year  \\\n",
       "0    DC Comics Super Heroes         Mighty Micros  2018   \n",
       "6                 Star Wars             Episode V  2018   \n",
       "7    DC Comics Super Heroes         Mighty Micros  2018   \n",
       "10                    Duplo                   NaN  2018   \n",
       "11                    Duplo                   NaN  2018   \n",
       "..                      ...                   ...   ...   \n",
       "591                  Mixels              Series 9  2018   \n",
       "592            Nexo Knights                   NaN  2018   \n",
       "593            Nexo Knights                   NaN  2018   \n",
       "608                 Ninjago  Rise of the Villains  2018   \n",
       "609                Bionicle         Miscellaneous  2018   \n",
       "\n",
       "                             name  pieces  us_price  \\\n",
       "0                  Robin vs. Bane    77.0      9.99   \n",
       "6                     Hoth Attack   233.0     24.99   \n",
       "7                  Robin vs. Bane    77.0      9.99   \n",
       "10                   Baby Animals    13.0      9.99   \n",
       "11                  Police Patrol    15.0     14.99   \n",
       "..                            ...     ...       ...   \n",
       "591                         Mysto    64.0      4.99   \n",
       "592          Merlok's Library 2.0   288.0     24.99   \n",
       "593       Knighton Battle Blaster    76.0      9.99   \n",
       "608          Samurai X Cave Chaos  1253.0    119.99   \n",
       "609  Kopaka and Melum - Unity set   171.0     24.99   \n",
       "\n",
       "                                             image_url  quantity  total_spent  \n",
       "0    http://images.brickset.com/sets/images/76062-1...         1         9.99  \n",
       "6    http://images.brickset.com/sets/images/75138-1...         1        24.99  \n",
       "7    http://images.brickset.com/sets/images/76062-1...         3        29.97  \n",
       "10   http://images.brickset.com/sets/images/10801-1...         1         9.99  \n",
       "11   http://images.brickset.com/sets/images/10809-1...         1        14.99  \n",
       "..                                                 ...       ...          ...  \n",
       "591                                                NaN         1         4.99  \n",
       "592  http://images.brickset.com/sets/images/70324-1...         1        24.99  \n",
       "593  http://images.brickset.com/sets/images/70310-1...         2        19.98  \n",
       "608                                                NaN         2       239.98  \n",
       "609  http://images.brickset.com/sets/images/71311-1...         2        49.98  \n",
       "\n",
       "[129 rows x 15 columns]"
      ]
     },
     "execution_count": 108,
     "metadata": {},
     "output_type": "execute_result"
    }
   ],
   "source": [
    "second_mask = (df['age'] >= 19) & (df['age'] <=25)\n",
    "second_mask_df = df[second_mask]\n",
    "second_mask_df"
   ]
  },
  {
   "cell_type": "code",
   "execution_count": 110,
   "id": "7ad7d9cd-83a7-4f6f-a939-6495f2e3442b",
   "metadata": {},
   "outputs": [
    {
     "data": {
      "text/html": [
       "<div>\n",
       "<style scoped>\n",
       "    .dataframe tbody tr th:only-of-type {\n",
       "        vertical-align: middle;\n",
       "    }\n",
       "\n",
       "    .dataframe tbody tr th {\n",
       "        vertical-align: top;\n",
       "    }\n",
       "\n",
       "    .dataframe thead th {\n",
       "        text-align: right;\n",
       "    }\n",
       "</style>\n",
       "<table border=\"1\" class=\"dataframe\">\n",
       "  <thead>\n",
       "    <tr style=\"text-align: right;\">\n",
       "      <th></th>\n",
       "      <th>first_name</th>\n",
       "      <th>last_name</th>\n",
       "      <th>age</th>\n",
       "      <th>phone_number</th>\n",
       "      <th>set_id</th>\n",
       "      <th>number</th>\n",
       "      <th>theme</th>\n",
       "      <th>subtheme</th>\n",
       "      <th>year</th>\n",
       "      <th>name</th>\n",
       "      <th>pieces</th>\n",
       "      <th>us_price</th>\n",
       "      <th>image_url</th>\n",
       "      <th>quantity</th>\n",
       "      <th>total_spent</th>\n",
       "    </tr>\n",
       "  </thead>\n",
       "  <tbody>\n",
       "    <tr>\n",
       "      <th>1</th>\n",
       "      <td>Neel</td>\n",
       "      <td>Garvin</td>\n",
       "      <td>35</td>\n",
       "      <td>819-555-3189</td>\n",
       "      <td>25626</td>\n",
       "      <td>70595</td>\n",
       "      <td>Ninjago</td>\n",
       "      <td>Rise of the Villains</td>\n",
       "      <td>2018</td>\n",
       "      <td>Ultra Stealth Raider</td>\n",
       "      <td>1093.0</td>\n",
       "      <td>119.99</td>\n",
       "      <td>http://images.brickset.com/sets/images/70595-1...</td>\n",
       "      <td>1</td>\n",
       "      <td>119.99</td>\n",
       "    </tr>\n",
       "    <tr>\n",
       "      <th>2</th>\n",
       "      <td>Neel</td>\n",
       "      <td>Garvin</td>\n",
       "      <td>35</td>\n",
       "      <td>819-555-3189</td>\n",
       "      <td>24665</td>\n",
       "      <td>21031</td>\n",
       "      <td>Architecture</td>\n",
       "      <td>NaN</td>\n",
       "      <td>2018</td>\n",
       "      <td>Burj Khalifa</td>\n",
       "      <td>333.0</td>\n",
       "      <td>39.99</td>\n",
       "      <td>http://images.brickset.com/sets/images/21031-1...</td>\n",
       "      <td>1</td>\n",
       "      <td>39.99</td>\n",
       "    </tr>\n",
       "    <tr>\n",
       "      <th>27</th>\n",
       "      <td>Jacob</td>\n",
       "      <td>Nzabanita</td>\n",
       "      <td>31</td>\n",
       "      <td>339-555-2572</td>\n",
       "      <td>24732</td>\n",
       "      <td>41117</td>\n",
       "      <td>Friends</td>\n",
       "      <td>Pop Star</td>\n",
       "      <td>2018</td>\n",
       "      <td>Pop Star TV Studio</td>\n",
       "      <td>194.0</td>\n",
       "      <td>19.99</td>\n",
       "      <td>http://images.brickset.com/sets/images/41117-1...</td>\n",
       "      <td>1</td>\n",
       "      <td>19.99</td>\n",
       "    </tr>\n",
       "    <tr>\n",
       "      <th>28</th>\n",
       "      <td>Jacob</td>\n",
       "      <td>Nzabanita</td>\n",
       "      <td>31</td>\n",
       "      <td>339-555-2572</td>\n",
       "      <td>24793</td>\n",
       "      <td>75133</td>\n",
       "      <td>Star Wars</td>\n",
       "      <td>Battlefront</td>\n",
       "      <td>2018</td>\n",
       "      <td>Rebel Alliance Battle Pack</td>\n",
       "      <td>101.0</td>\n",
       "      <td>12.99</td>\n",
       "      <td>http://images.brickset.com/sets/images/75133-1...</td>\n",
       "      <td>2</td>\n",
       "      <td>25.98</td>\n",
       "    </tr>\n",
       "    <tr>\n",
       "      <th>29</th>\n",
       "      <td>Jacob</td>\n",
       "      <td>Nzabanita</td>\n",
       "      <td>31</td>\n",
       "      <td>339-555-2572</td>\n",
       "      <td>24723</td>\n",
       "      <td>41172</td>\n",
       "      <td>Elves</td>\n",
       "      <td>NaN</td>\n",
       "      <td>2018</td>\n",
       "      <td>The Water Dragon Adventure</td>\n",
       "      <td>212.0</td>\n",
       "      <td>19.99</td>\n",
       "      <td>http://images.brickset.com/sets/images/41172-1...</td>\n",
       "      <td>1</td>\n",
       "      <td>19.99</td>\n",
       "    </tr>\n",
       "    <tr>\n",
       "      <th>...</th>\n",
       "      <td>...</td>\n",
       "      <td>...</td>\n",
       "      <td>...</td>\n",
       "      <td>...</td>\n",
       "      <td>...</td>\n",
       "      <td>...</td>\n",
       "      <td>...</td>\n",
       "      <td>...</td>\n",
       "      <td>...</td>\n",
       "      <td>...</td>\n",
       "      <td>...</td>\n",
       "      <td>...</td>\n",
       "      <td>...</td>\n",
       "      <td>...</td>\n",
       "      <td>...</td>\n",
       "    </tr>\n",
       "    <tr>\n",
       "      <th>606</th>\n",
       "      <td>Benjamin</td>\n",
       "      <td>Park</td>\n",
       "      <td>33</td>\n",
       "      <td>NaN</td>\n",
       "      <td>24957</td>\n",
       "      <td>71309</td>\n",
       "      <td>Bionicle</td>\n",
       "      <td>Toa</td>\n",
       "      <td>2018</td>\n",
       "      <td>Onua - Uniter of Earth</td>\n",
       "      <td>143.0</td>\n",
       "      <td>19.99</td>\n",
       "      <td>http://images.brickset.com/sets/images/71309-1...</td>\n",
       "      <td>2</td>\n",
       "      <td>39.98</td>\n",
       "    </tr>\n",
       "    <tr>\n",
       "      <th>607</th>\n",
       "      <td>Miles</td>\n",
       "      <td>Hill</td>\n",
       "      <td>34</td>\n",
       "      <td>NaN</td>\n",
       "      <td>24758</td>\n",
       "      <td>70312</td>\n",
       "      <td>Nexo Knights</td>\n",
       "      <td>NaN</td>\n",
       "      <td>2018</td>\n",
       "      <td>Lance's Mecha Horse</td>\n",
       "      <td>237.0</td>\n",
       "      <td>19.99</td>\n",
       "      <td>http://images.brickset.com/sets/images/70312-1...</td>\n",
       "      <td>2</td>\n",
       "      <td>39.98</td>\n",
       "    </tr>\n",
       "    <tr>\n",
       "      <th>610</th>\n",
       "      <td>Jennifer</td>\n",
       "      <td>Reinert</td>\n",
       "      <td>29</td>\n",
       "      <td>402-555-0467</td>\n",
       "      <td>24660</td>\n",
       "      <td>71241</td>\n",
       "      <td>Dimensions</td>\n",
       "      <td>Fun Pack</td>\n",
       "      <td>2018</td>\n",
       "      <td>Fun Pack: Slimer</td>\n",
       "      <td>33.0</td>\n",
       "      <td>14.99</td>\n",
       "      <td>http://images.brickset.com/sets/images/71241-1...</td>\n",
       "      <td>3</td>\n",
       "      <td>44.97</td>\n",
       "    </tr>\n",
       "    <tr>\n",
       "      <th>616</th>\n",
       "      <td>Spencer</td>\n",
       "      <td>Morgan</td>\n",
       "      <td>28</td>\n",
       "      <td>784-555-3455</td>\n",
       "      <td>26041</td>\n",
       "      <td>41580</td>\n",
       "      <td>Mixels</td>\n",
       "      <td>Series 9</td>\n",
       "      <td>2018</td>\n",
       "      <td>Myke</td>\n",
       "      <td>63.0</td>\n",
       "      <td>4.99</td>\n",
       "      <td>NaN</td>\n",
       "      <td>2</td>\n",
       "      <td>9.98</td>\n",
       "    </tr>\n",
       "    <tr>\n",
       "      <th>617</th>\n",
       "      <td>Spencer</td>\n",
       "      <td>Morgan</td>\n",
       "      <td>28</td>\n",
       "      <td>784-555-3455</td>\n",
       "      <td>26060</td>\n",
       "      <td>5005051</td>\n",
       "      <td>Gear</td>\n",
       "      <td>Digital Media</td>\n",
       "      <td>2018</td>\n",
       "      <td>Friends of Heartlake City Girlz 4 Life</td>\n",
       "      <td>NaN</td>\n",
       "      <td>19.99</td>\n",
       "      <td>NaN</td>\n",
       "      <td>1</td>\n",
       "      <td>19.99</td>\n",
       "    </tr>\n",
       "  </tbody>\n",
       "</table>\n",
       "<p>183 rows × 15 columns</p>\n",
       "</div>"
      ],
      "text/plain": [
       "    first_name  last_name  age  phone_number  set_id   number         theme  \\\n",
       "1         Neel     Garvin   35  819-555-3189   25626    70595       Ninjago   \n",
       "2         Neel     Garvin   35  819-555-3189   24665    21031  Architecture   \n",
       "27       Jacob  Nzabanita   31  339-555-2572   24732    41117       Friends   \n",
       "28       Jacob  Nzabanita   31  339-555-2572   24793    75133     Star Wars   \n",
       "29       Jacob  Nzabanita   31  339-555-2572   24723    41172         Elves   \n",
       "..         ...        ...  ...           ...     ...      ...           ...   \n",
       "606   Benjamin       Park   33           NaN   24957    71309      Bionicle   \n",
       "607      Miles       Hill   34           NaN   24758    70312  Nexo Knights   \n",
       "610   Jennifer    Reinert   29  402-555-0467   24660    71241    Dimensions   \n",
       "616    Spencer     Morgan   28  784-555-3455   26041    41580        Mixels   \n",
       "617    Spencer     Morgan   28  784-555-3455   26060  5005051          Gear   \n",
       "\n",
       "                 subtheme  year                                    name  \\\n",
       "1    Rise of the Villains  2018                    Ultra Stealth Raider   \n",
       "2                     NaN  2018                            Burj Khalifa   \n",
       "27               Pop Star  2018                      Pop Star TV Studio   \n",
       "28            Battlefront  2018              Rebel Alliance Battle Pack   \n",
       "29                    NaN  2018              The Water Dragon Adventure   \n",
       "..                    ...   ...                                     ...   \n",
       "606                   Toa  2018                  Onua - Uniter of Earth   \n",
       "607                   NaN  2018                     Lance's Mecha Horse   \n",
       "610              Fun Pack  2018                        Fun Pack: Slimer   \n",
       "616              Series 9  2018                                    Myke   \n",
       "617         Digital Media  2018  Friends of Heartlake City Girlz 4 Life   \n",
       "\n",
       "     pieces  us_price                                          image_url  \\\n",
       "1    1093.0    119.99  http://images.brickset.com/sets/images/70595-1...   \n",
       "2     333.0     39.99  http://images.brickset.com/sets/images/21031-1...   \n",
       "27    194.0     19.99  http://images.brickset.com/sets/images/41117-1...   \n",
       "28    101.0     12.99  http://images.brickset.com/sets/images/75133-1...   \n",
       "29    212.0     19.99  http://images.brickset.com/sets/images/41172-1...   \n",
       "..      ...       ...                                                ...   \n",
       "606   143.0     19.99  http://images.brickset.com/sets/images/71309-1...   \n",
       "607   237.0     19.99  http://images.brickset.com/sets/images/70312-1...   \n",
       "610    33.0     14.99  http://images.brickset.com/sets/images/71241-1...   \n",
       "616    63.0      4.99                                                NaN   \n",
       "617     NaN     19.99                                                NaN   \n",
       "\n",
       "     quantity  total_spent  \n",
       "1           1       119.99  \n",
       "2           1        39.99  \n",
       "27          1        19.99  \n",
       "28          2        25.98  \n",
       "29          1        19.99  \n",
       "..        ...          ...  \n",
       "606         2        39.98  \n",
       "607         2        39.98  \n",
       "610         3        44.97  \n",
       "616         2         9.98  \n",
       "617         1        19.99  \n",
       "\n",
       "[183 rows x 15 columns]"
      ]
     },
     "execution_count": 110,
     "metadata": {},
     "output_type": "execute_result"
    }
   ],
   "source": [
    "third_mask = (df['age'] >= 26) & (df['age'] <= 35)\n",
    "third_mask_df = df[third_mask]\n",
    "third_mask_df"
   ]
  },
  {
   "cell_type": "code",
   "execution_count": 112,
   "id": "b8242b5c-19cf-42ef-a262-c7d37525922a",
   "metadata": {},
   "outputs": [
    {
     "data": {
      "text/html": [
       "<div>\n",
       "<style scoped>\n",
       "    .dataframe tbody tr th:only-of-type {\n",
       "        vertical-align: middle;\n",
       "    }\n",
       "\n",
       "    .dataframe tbody tr th {\n",
       "        vertical-align: top;\n",
       "    }\n",
       "\n",
       "    .dataframe thead th {\n",
       "        text-align: right;\n",
       "    }\n",
       "</style>\n",
       "<table border=\"1\" class=\"dataframe\">\n",
       "  <thead>\n",
       "    <tr style=\"text-align: right;\">\n",
       "      <th></th>\n",
       "      <th>first_name</th>\n",
       "      <th>last_name</th>\n",
       "      <th>age</th>\n",
       "      <th>phone_number</th>\n",
       "      <th>set_id</th>\n",
       "      <th>number</th>\n",
       "      <th>theme</th>\n",
       "      <th>subtheme</th>\n",
       "      <th>year</th>\n",
       "      <th>name</th>\n",
       "      <th>pieces</th>\n",
       "      <th>us_price</th>\n",
       "      <th>image_url</th>\n",
       "      <th>quantity</th>\n",
       "      <th>total_spent</th>\n",
       "    </tr>\n",
       "  </thead>\n",
       "  <tbody>\n",
       "    <tr>\n",
       "      <th>3</th>\n",
       "      <td>Chelsea</td>\n",
       "      <td>Bouchard</td>\n",
       "      <td>41</td>\n",
       "      <td>NaN</td>\n",
       "      <td>24695</td>\n",
       "      <td>31048</td>\n",
       "      <td>Creator</td>\n",
       "      <td>NaN</td>\n",
       "      <td>2018</td>\n",
       "      <td>Lakeside Lodge</td>\n",
       "      <td>368.0</td>\n",
       "      <td>29.99</td>\n",
       "      <td>http://images.brickset.com/sets/images/31048-1...</td>\n",
       "      <td>1</td>\n",
       "      <td>29.99</td>\n",
       "    </tr>\n",
       "    <tr>\n",
       "      <th>4</th>\n",
       "      <td>Chelsea</td>\n",
       "      <td>Bouchard</td>\n",
       "      <td>41</td>\n",
       "      <td>NaN</td>\n",
       "      <td>25626</td>\n",
       "      <td>70595</td>\n",
       "      <td>Ninjago</td>\n",
       "      <td>Rise of the Villains</td>\n",
       "      <td>2018</td>\n",
       "      <td>Ultra Stealth Raider</td>\n",
       "      <td>1093.0</td>\n",
       "      <td>119.99</td>\n",
       "      <td>http://images.brickset.com/sets/images/70595-1...</td>\n",
       "      <td>1</td>\n",
       "      <td>119.99</td>\n",
       "    </tr>\n",
       "    <tr>\n",
       "      <th>5</th>\n",
       "      <td>Chelsea</td>\n",
       "      <td>Bouchard</td>\n",
       "      <td>41</td>\n",
       "      <td>NaN</td>\n",
       "      <td>24721</td>\n",
       "      <td>10831</td>\n",
       "      <td>Duplo</td>\n",
       "      <td>NaN</td>\n",
       "      <td>2018</td>\n",
       "      <td>My First Caterpillar</td>\n",
       "      <td>19.0</td>\n",
       "      <td>9.99</td>\n",
       "      <td>http://images.brickset.com/sets/images/10831-1...</td>\n",
       "      <td>1</td>\n",
       "      <td>9.99</td>\n",
       "    </tr>\n",
       "    <tr>\n",
       "      <th>8</th>\n",
       "      <td>Caleb</td>\n",
       "      <td>Garcia-Wideman</td>\n",
       "      <td>37</td>\n",
       "      <td>907-555-9236</td>\n",
       "      <td>24730</td>\n",
       "      <td>41115</td>\n",
       "      <td>Friends</td>\n",
       "      <td>NaN</td>\n",
       "      <td>2018</td>\n",
       "      <td>Emma's Creative Workshop</td>\n",
       "      <td>108.0</td>\n",
       "      <td>9.99</td>\n",
       "      <td>http://images.brickset.com/sets/images/41115-1...</td>\n",
       "      <td>1</td>\n",
       "      <td>9.99</td>\n",
       "    </tr>\n",
       "    <tr>\n",
       "      <th>9</th>\n",
       "      <td>Caleb</td>\n",
       "      <td>Garcia-Wideman</td>\n",
       "      <td>37</td>\n",
       "      <td>907-555-9236</td>\n",
       "      <td>25611</td>\n",
       "      <td>21127</td>\n",
       "      <td>Minecraft</td>\n",
       "      <td>Minifig-scale</td>\n",
       "      <td>2018</td>\n",
       "      <td>The Fortress</td>\n",
       "      <td>NaN</td>\n",
       "      <td>109.99</td>\n",
       "      <td>http://images.brickset.com/sets/images/21127-1...</td>\n",
       "      <td>2</td>\n",
       "      <td>219.98</td>\n",
       "    </tr>\n",
       "    <tr>\n",
       "      <th>...</th>\n",
       "      <td>...</td>\n",
       "      <td>...</td>\n",
       "      <td>...</td>\n",
       "      <td>...</td>\n",
       "      <td>...</td>\n",
       "      <td>...</td>\n",
       "      <td>...</td>\n",
       "      <td>...</td>\n",
       "      <td>...</td>\n",
       "      <td>...</td>\n",
       "      <td>...</td>\n",
       "      <td>...</td>\n",
       "      <td>...</td>\n",
       "      <td>...</td>\n",
       "      <td>...</td>\n",
       "    </tr>\n",
       "    <tr>\n",
       "      <th>598</th>\n",
       "      <td>Payton</td>\n",
       "      <td>Milsap</td>\n",
       "      <td>42</td>\n",
       "      <td>NaN</td>\n",
       "      <td>24702</td>\n",
       "      <td>76063</td>\n",
       "      <td>DC Comics Super Heroes</td>\n",
       "      <td>Mighty Micros</td>\n",
       "      <td>2018</td>\n",
       "      <td>The Flash vs. Captain Cold</td>\n",
       "      <td>88.0</td>\n",
       "      <td>9.99</td>\n",
       "      <td>http://images.brickset.com/sets/images/76063-1...</td>\n",
       "      <td>3</td>\n",
       "      <td>29.97</td>\n",
       "    </tr>\n",
       "    <tr>\n",
       "      <th>599</th>\n",
       "      <td>Payton</td>\n",
       "      <td>Milsap</td>\n",
       "      <td>42</td>\n",
       "      <td>NaN</td>\n",
       "      <td>24678</td>\n",
       "      <td>60109</td>\n",
       "      <td>City</td>\n",
       "      <td>Fire</td>\n",
       "      <td>2018</td>\n",
       "      <td>Fire Boat</td>\n",
       "      <td>412.0</td>\n",
       "      <td>79.99</td>\n",
       "      <td>http://images.brickset.com/sets/images/60109-1...</td>\n",
       "      <td>2</td>\n",
       "      <td>159.98</td>\n",
       "    </tr>\n",
       "    <tr>\n",
       "      <th>602</th>\n",
       "      <td>Stephanie</td>\n",
       "      <td>Harrison</td>\n",
       "      <td>42</td>\n",
       "      <td>NaN</td>\n",
       "      <td>24736</td>\n",
       "      <td>41121</td>\n",
       "      <td>Friends</td>\n",
       "      <td>Adventure Camp</td>\n",
       "      <td>2018</td>\n",
       "      <td>Adventure Camp Rafting</td>\n",
       "      <td>320.0</td>\n",
       "      <td>29.99</td>\n",
       "      <td>http://images.brickset.com/sets/images/41121-1...</td>\n",
       "      <td>1</td>\n",
       "      <td>29.99</td>\n",
       "    </tr>\n",
       "    <tr>\n",
       "      <th>618</th>\n",
       "      <td>Amelia</td>\n",
       "      <td>Hageman</td>\n",
       "      <td>40</td>\n",
       "      <td>336-555-1950</td>\n",
       "      <td>24702</td>\n",
       "      <td>76063</td>\n",
       "      <td>DC Comics Super Heroes</td>\n",
       "      <td>Mighty Micros</td>\n",
       "      <td>2018</td>\n",
       "      <td>The Flash vs. Captain Cold</td>\n",
       "      <td>88.0</td>\n",
       "      <td>9.99</td>\n",
       "      <td>http://images.brickset.com/sets/images/76063-1...</td>\n",
       "      <td>2</td>\n",
       "      <td>19.98</td>\n",
       "    </tr>\n",
       "    <tr>\n",
       "      <th>619</th>\n",
       "      <td>Amelia</td>\n",
       "      <td>Hageman</td>\n",
       "      <td>40</td>\n",
       "      <td>336-555-1950</td>\n",
       "      <td>24720</td>\n",
       "      <td>10830</td>\n",
       "      <td>Duplo</td>\n",
       "      <td>NaN</td>\n",
       "      <td>2018</td>\n",
       "      <td>Minnie's Café</td>\n",
       "      <td>27.0</td>\n",
       "      <td>19.99</td>\n",
       "      <td>http://images.brickset.com/sets/images/10830-1...</td>\n",
       "      <td>4</td>\n",
       "      <td>79.96</td>\n",
       "    </tr>\n",
       "  </tbody>\n",
       "</table>\n",
       "<p>216 rows × 15 columns</p>\n",
       "</div>"
      ],
      "text/plain": [
       "    first_name       last_name  age  phone_number  set_id number  \\\n",
       "3      Chelsea        Bouchard   41           NaN   24695  31048   \n",
       "4      Chelsea        Bouchard   41           NaN   25626  70595   \n",
       "5      Chelsea        Bouchard   41           NaN   24721  10831   \n",
       "8        Caleb  Garcia-Wideman   37  907-555-9236   24730  41115   \n",
       "9        Caleb  Garcia-Wideman   37  907-555-9236   25611  21127   \n",
       "..         ...             ...  ...           ...     ...    ...   \n",
       "598     Payton          Milsap   42           NaN   24702  76063   \n",
       "599     Payton          Milsap   42           NaN   24678  60109   \n",
       "602  Stephanie        Harrison   42           NaN   24736  41121   \n",
       "618     Amelia         Hageman   40  336-555-1950   24702  76063   \n",
       "619     Amelia         Hageman   40  336-555-1950   24720  10830   \n",
       "\n",
       "                      theme              subtheme  year  \\\n",
       "3                   Creator                   NaN  2018   \n",
       "4                   Ninjago  Rise of the Villains  2018   \n",
       "5                     Duplo                   NaN  2018   \n",
       "8                   Friends                   NaN  2018   \n",
       "9                 Minecraft         Minifig-scale  2018   \n",
       "..                      ...                   ...   ...   \n",
       "598  DC Comics Super Heroes         Mighty Micros  2018   \n",
       "599                    City                  Fire  2018   \n",
       "602                 Friends        Adventure Camp  2018   \n",
       "618  DC Comics Super Heroes         Mighty Micros  2018   \n",
       "619                   Duplo                   NaN  2018   \n",
       "\n",
       "                           name  pieces  us_price  \\\n",
       "3                Lakeside Lodge   368.0     29.99   \n",
       "4          Ultra Stealth Raider  1093.0    119.99   \n",
       "5          My First Caterpillar    19.0      9.99   \n",
       "8      Emma's Creative Workshop   108.0      9.99   \n",
       "9                  The Fortress     NaN    109.99   \n",
       "..                          ...     ...       ...   \n",
       "598  The Flash vs. Captain Cold    88.0      9.99   \n",
       "599                   Fire Boat   412.0     79.99   \n",
       "602      Adventure Camp Rafting   320.0     29.99   \n",
       "618  The Flash vs. Captain Cold    88.0      9.99   \n",
       "619               Minnie's Café    27.0     19.99   \n",
       "\n",
       "                                             image_url  quantity  total_spent  \n",
       "3    http://images.brickset.com/sets/images/31048-1...         1        29.99  \n",
       "4    http://images.brickset.com/sets/images/70595-1...         1       119.99  \n",
       "5    http://images.brickset.com/sets/images/10831-1...         1         9.99  \n",
       "8    http://images.brickset.com/sets/images/41115-1...         1         9.99  \n",
       "9    http://images.brickset.com/sets/images/21127-1...         2       219.98  \n",
       "..                                                 ...       ...          ...  \n",
       "598  http://images.brickset.com/sets/images/76063-1...         3        29.97  \n",
       "599  http://images.brickset.com/sets/images/60109-1...         2       159.98  \n",
       "602  http://images.brickset.com/sets/images/41121-1...         1        29.99  \n",
       "618  http://images.brickset.com/sets/images/76063-1...         2        19.98  \n",
       "619  http://images.brickset.com/sets/images/10830-1...         4        79.96  \n",
       "\n",
       "[216 rows x 15 columns]"
      ]
     },
     "execution_count": 112,
     "metadata": {},
     "output_type": "execute_result"
    }
   ],
   "source": [
    "fourth_mask = (df['age'] >= 36) & (df['age'] <= 50)\n",
    "fourth_mask_df = df[fourth_mask]\n",
    "fourth_mask_df"
   ]
  },
  {
   "cell_type": "code",
   "execution_count": 114,
   "id": "65ca63fb-c03e-47b7-8a00-cd1deabf0aef",
   "metadata": {},
   "outputs": [
    {
     "data": {
      "text/html": [
       "<div>\n",
       "<style scoped>\n",
       "    .dataframe tbody tr th:only-of-type {\n",
       "        vertical-align: middle;\n",
       "    }\n",
       "\n",
       "    .dataframe tbody tr th {\n",
       "        vertical-align: top;\n",
       "    }\n",
       "\n",
       "    .dataframe thead th {\n",
       "        text-align: right;\n",
       "    }\n",
       "</style>\n",
       "<table border=\"1\" class=\"dataframe\">\n",
       "  <thead>\n",
       "    <tr style=\"text-align: right;\">\n",
       "      <th></th>\n",
       "      <th>first_name</th>\n",
       "      <th>last_name</th>\n",
       "      <th>age</th>\n",
       "      <th>phone_number</th>\n",
       "      <th>set_id</th>\n",
       "      <th>number</th>\n",
       "      <th>theme</th>\n",
       "      <th>subtheme</th>\n",
       "      <th>year</th>\n",
       "      <th>name</th>\n",
       "      <th>pieces</th>\n",
       "      <th>us_price</th>\n",
       "      <th>image_url</th>\n",
       "      <th>quantity</th>\n",
       "      <th>total_spent</th>\n",
       "    </tr>\n",
       "  </thead>\n",
       "  <tbody>\n",
       "    <tr>\n",
       "      <th>31</th>\n",
       "      <td>Hannah</td>\n",
       "      <td>Drews Stunkel</td>\n",
       "      <td>55</td>\n",
       "      <td>339-555-6320</td>\n",
       "      <td>25628</td>\n",
       "      <td>70590</td>\n",
       "      <td>Ninjago</td>\n",
       "      <td>NaN</td>\n",
       "      <td>2018</td>\n",
       "      <td>Airjitzu Battle Grounds</td>\n",
       "      <td>666.0</td>\n",
       "      <td>59.99</td>\n",
       "      <td>NaN</td>\n",
       "      <td>1</td>\n",
       "      <td>59.99</td>\n",
       "    </tr>\n",
       "    <tr>\n",
       "      <th>32</th>\n",
       "      <td>Hannah</td>\n",
       "      <td>Drews Stunkel</td>\n",
       "      <td>55</td>\n",
       "      <td>339-555-6320</td>\n",
       "      <td>25624</td>\n",
       "      <td>70593</td>\n",
       "      <td>Ninjago</td>\n",
       "      <td>Skybound</td>\n",
       "      <td>2018</td>\n",
       "      <td>The Green NRG Dragon</td>\n",
       "      <td>567.0</td>\n",
       "      <td>49.99</td>\n",
       "      <td>http://images.brickset.com/sets/images/70593-1...</td>\n",
       "      <td>3</td>\n",
       "      <td>149.97</td>\n",
       "    </tr>\n",
       "    <tr>\n",
       "      <th>33</th>\n",
       "      <td>Hannah</td>\n",
       "      <td>Drews Stunkel</td>\n",
       "      <td>55</td>\n",
       "      <td>339-555-6320</td>\n",
       "      <td>24734</td>\n",
       "      <td>41119</td>\n",
       "      <td>Friends</td>\n",
       "      <td>NaN</td>\n",
       "      <td>2018</td>\n",
       "      <td>Heartlake Cupcake Cafe</td>\n",
       "      <td>439.0</td>\n",
       "      <td>39.99</td>\n",
       "      <td>http://images.brickset.com/sets/images/41119-1...</td>\n",
       "      <td>1</td>\n",
       "      <td>39.99</td>\n",
       "    </tr>\n",
       "    <tr>\n",
       "      <th>38</th>\n",
       "      <td>Riley</td>\n",
       "      <td>Ott</td>\n",
       "      <td>51</td>\n",
       "      <td>517-555-2093</td>\n",
       "      <td>24785</td>\n",
       "      <td>75126</td>\n",
       "      <td>Star Wars</td>\n",
       "      <td>MicroFighters</td>\n",
       "      <td>2018</td>\n",
       "      <td>First Order Snowspeeder</td>\n",
       "      <td>91.0</td>\n",
       "      <td>9.99</td>\n",
       "      <td>http://images.brickset.com/sets/images/75126-1...</td>\n",
       "      <td>2</td>\n",
       "      <td>19.98</td>\n",
       "    </tr>\n",
       "    <tr>\n",
       "      <th>39</th>\n",
       "      <td>Riley</td>\n",
       "      <td>Ott</td>\n",
       "      <td>51</td>\n",
       "      <td>517-555-2093</td>\n",
       "      <td>24772</td>\n",
       "      <td>70604</td>\n",
       "      <td>Ninjago</td>\n",
       "      <td>Skybound</td>\n",
       "      <td>2018</td>\n",
       "      <td>Tiger Widow Island</td>\n",
       "      <td>450.0</td>\n",
       "      <td>49.99</td>\n",
       "      <td>http://images.brickset.com/sets/images/70604-1...</td>\n",
       "      <td>1</td>\n",
       "      <td>49.99</td>\n",
       "    </tr>\n",
       "    <tr>\n",
       "      <th>...</th>\n",
       "      <td>...</td>\n",
       "      <td>...</td>\n",
       "      <td>...</td>\n",
       "      <td>...</td>\n",
       "      <td>...</td>\n",
       "      <td>...</td>\n",
       "      <td>...</td>\n",
       "      <td>...</td>\n",
       "      <td>...</td>\n",
       "      <td>...</td>\n",
       "      <td>...</td>\n",
       "      <td>...</td>\n",
       "      <td>...</td>\n",
       "      <td>...</td>\n",
       "      <td>...</td>\n",
       "    </tr>\n",
       "    <tr>\n",
       "      <th>552</th>\n",
       "      <td>Angel</td>\n",
       "      <td>Payne</td>\n",
       "      <td>62</td>\n",
       "      <td>NaN</td>\n",
       "      <td>25605</td>\n",
       "      <td>75146</td>\n",
       "      <td>Star Wars</td>\n",
       "      <td>Seasonal</td>\n",
       "      <td>2018</td>\n",
       "      <td>Star Wars Advent Calendar</td>\n",
       "      <td>282.0</td>\n",
       "      <td>39.99</td>\n",
       "      <td>http://images.brickset.com/sets/images/75146-1...</td>\n",
       "      <td>4</td>\n",
       "      <td>159.96</td>\n",
       "    </tr>\n",
       "    <tr>\n",
       "      <th>553</th>\n",
       "      <td>Angel</td>\n",
       "      <td>Payne</td>\n",
       "      <td>62</td>\n",
       "      <td>NaN</td>\n",
       "      <td>24793</td>\n",
       "      <td>75133</td>\n",
       "      <td>Star Wars</td>\n",
       "      <td>Battlefront</td>\n",
       "      <td>2018</td>\n",
       "      <td>Rebel Alliance Battle Pack</td>\n",
       "      <td>101.0</td>\n",
       "      <td>12.99</td>\n",
       "      <td>http://images.brickset.com/sets/images/75133-1...</td>\n",
       "      <td>1</td>\n",
       "      <td>12.99</td>\n",
       "    </tr>\n",
       "    <tr>\n",
       "      <th>594</th>\n",
       "      <td>Dustin</td>\n",
       "      <td>Vanvuuren</td>\n",
       "      <td>51</td>\n",
       "      <td>812-555-1009</td>\n",
       "      <td>24709</td>\n",
       "      <td>10803</td>\n",
       "      <td>Duplo</td>\n",
       "      <td>NaN</td>\n",
       "      <td>2018</td>\n",
       "      <td>Arctic</td>\n",
       "      <td>40.0</td>\n",
       "      <td>29.99</td>\n",
       "      <td>http://images.brickset.com/sets/images/10803-1...</td>\n",
       "      <td>2</td>\n",
       "      <td>59.98</td>\n",
       "    </tr>\n",
       "    <tr>\n",
       "      <th>595</th>\n",
       "      <td>Dustin</td>\n",
       "      <td>Vanvuuren</td>\n",
       "      <td>51</td>\n",
       "      <td>812-555-1009</td>\n",
       "      <td>24807</td>\n",
       "      <td>71235</td>\n",
       "      <td>Dimensions</td>\n",
       "      <td>Level Pack</td>\n",
       "      <td>2018</td>\n",
       "      <td>Level Pack: Midway Arcade</td>\n",
       "      <td>96.0</td>\n",
       "      <td>29.99</td>\n",
       "      <td>http://images.brickset.com/sets/images/71235-1...</td>\n",
       "      <td>1</td>\n",
       "      <td>29.99</td>\n",
       "    </tr>\n",
       "    <tr>\n",
       "      <th>596</th>\n",
       "      <td>Dustin</td>\n",
       "      <td>Vanvuuren</td>\n",
       "      <td>51</td>\n",
       "      <td>812-555-1009</td>\n",
       "      <td>25920</td>\n",
       "      <td>75151</td>\n",
       "      <td>Star Wars</td>\n",
       "      <td>Episode III</td>\n",
       "      <td>2018</td>\n",
       "      <td>Clone Turbo Tank</td>\n",
       "      <td>903.0</td>\n",
       "      <td>109.99</td>\n",
       "      <td>http://images.brickset.com/sets/images/75151-1...</td>\n",
       "      <td>1</td>\n",
       "      <td>109.99</td>\n",
       "    </tr>\n",
       "  </tbody>\n",
       "</table>\n",
       "<p>62 rows × 15 columns</p>\n",
       "</div>"
      ],
      "text/plain": [
       "    first_name      last_name  age  phone_number  set_id number       theme  \\\n",
       "31      Hannah  Drews Stunkel   55  339-555-6320   25628  70590     Ninjago   \n",
       "32      Hannah  Drews Stunkel   55  339-555-6320   25624  70593     Ninjago   \n",
       "33      Hannah  Drews Stunkel   55  339-555-6320   24734  41119     Friends   \n",
       "38       Riley            Ott   51  517-555-2093   24785  75126   Star Wars   \n",
       "39       Riley            Ott   51  517-555-2093   24772  70604     Ninjago   \n",
       "..         ...            ...  ...           ...     ...    ...         ...   \n",
       "552      Angel          Payne   62           NaN   25605  75146   Star Wars   \n",
       "553      Angel          Payne   62           NaN   24793  75133   Star Wars   \n",
       "594     Dustin      Vanvuuren   51  812-555-1009   24709  10803       Duplo   \n",
       "595     Dustin      Vanvuuren   51  812-555-1009   24807  71235  Dimensions   \n",
       "596     Dustin      Vanvuuren   51  812-555-1009   25920  75151   Star Wars   \n",
       "\n",
       "          subtheme  year                        name  pieces  us_price  \\\n",
       "31             NaN  2018     Airjitzu Battle Grounds   666.0     59.99   \n",
       "32        Skybound  2018        The Green NRG Dragon   567.0     49.99   \n",
       "33             NaN  2018      Heartlake Cupcake Cafe   439.0     39.99   \n",
       "38   MicroFighters  2018     First Order Snowspeeder    91.0      9.99   \n",
       "39        Skybound  2018          Tiger Widow Island   450.0     49.99   \n",
       "..             ...   ...                         ...     ...       ...   \n",
       "552       Seasonal  2018   Star Wars Advent Calendar   282.0     39.99   \n",
       "553    Battlefront  2018  Rebel Alliance Battle Pack   101.0     12.99   \n",
       "594            NaN  2018                      Arctic    40.0     29.99   \n",
       "595     Level Pack  2018   Level Pack: Midway Arcade    96.0     29.99   \n",
       "596    Episode III  2018            Clone Turbo Tank   903.0    109.99   \n",
       "\n",
       "                                             image_url  quantity  total_spent  \n",
       "31                                                 NaN         1        59.99  \n",
       "32   http://images.brickset.com/sets/images/70593-1...         3       149.97  \n",
       "33   http://images.brickset.com/sets/images/41119-1...         1        39.99  \n",
       "38   http://images.brickset.com/sets/images/75126-1...         2        19.98  \n",
       "39   http://images.brickset.com/sets/images/70604-1...         1        49.99  \n",
       "..                                                 ...       ...          ...  \n",
       "552  http://images.brickset.com/sets/images/75146-1...         4       159.96  \n",
       "553  http://images.brickset.com/sets/images/75133-1...         1        12.99  \n",
       "594  http://images.brickset.com/sets/images/10803-1...         2        59.98  \n",
       "595  http://images.brickset.com/sets/images/71235-1...         1        29.99  \n",
       "596  http://images.brickset.com/sets/images/75151-1...         1       109.99  \n",
       "\n",
       "[62 rows x 15 columns]"
      ]
     },
     "execution_count": 114,
     "metadata": {},
     "output_type": "execute_result"
    }
   ],
   "source": [
    "fifth_mask = (df['age'] >= 51)\n",
    "fifth_mask_df = df[fifth_mask]\n",
    "fifth_mask_df"
   ]
  },
  {
   "cell_type": "code",
   "execution_count": 116,
   "id": "9c18e857-fa3a-4ad1-8236-e22778a268c2",
   "metadata": {},
   "outputs": [
    {
     "data": {
      "text/plain": [
       "age\n",
       "16    10\n",
       "17     7\n",
       "18    13\n",
       "19    10\n",
       "20    20\n",
       "21    23\n",
       "22    19\n",
       "23    23\n",
       "24    22\n",
       "25    12\n",
       "26    29\n",
       "27    22\n",
       "28    15\n",
       "29     8\n",
       "30    25\n",
       "31    12\n",
       "32    10\n",
       "33    32\n",
       "34    13\n",
       "35    17\n",
       "36    15\n",
       "37    22\n",
       "38    30\n",
       "39    26\n",
       "40    18\n",
       "41    20\n",
       "42    15\n",
       "43    13\n",
       "44    13\n",
       "45     8\n",
       "46     6\n",
       "47     8\n",
       "48     5\n",
       "49     4\n",
       "50    13\n",
       "51     9\n",
       "52     4\n",
       "53     9\n",
       "54     4\n",
       "55     5\n",
       "56     8\n",
       "57     3\n",
       "59     3\n",
       "61     8\n",
       "62     3\n",
       "63     3\n",
       "68     3\n",
       "Name: count, dtype: int64"
      ]
     },
     "execution_count": 116,
     "metadata": {},
     "output_type": "execute_result"
    }
   ],
   "source": [
    "df['age'].value_counts().sort_index() "
   ]
  },
  {
   "cell_type": "markdown",
   "id": "a2bee9e9-f73a-443d-b5a7-ba950f40fc9e",
   "metadata": {},
   "source": [
    "# 6.  Which age group has purchased the highest number of Lego sets."
   ]
  },
  {
   "cell_type": "code",
   "execution_count": 118,
   "id": "09ec456b-ac17-40af-89d5-547bff4205f9",
   "metadata": {},
   "outputs": [
    {
     "data": {
      "text/plain": [
       "45"
      ]
     },
     "execution_count": 118,
     "metadata": {},
     "output_type": "execute_result"
    }
   ],
   "source": [
    "masked_df_u18['quantity'].sum() "
   ]
  },
  {
   "cell_type": "code",
   "execution_count": 86,
   "id": "1a386b1a-ef5c-493f-ae9b-ba2ef8b250c4",
   "metadata": {},
   "outputs": [
    {
     "data": {
      "text/plain": [
       "174"
      ]
     },
     "execution_count": 86,
     "metadata": {},
     "output_type": "execute_result"
    }
   ],
   "source": [
    "second_mask_df['quantity'].sum() "
   ]
  },
  {
   "cell_type": "code",
   "execution_count": 88,
   "id": "03a7fc7d-d5cb-4798-a47a-807450848b5e",
   "metadata": {},
   "outputs": [
    {
     "data": {
      "text/plain": [
       "267"
      ]
     },
     "execution_count": 88,
     "metadata": {},
     "output_type": "execute_result"
    }
   ],
   "source": [
    "third_mask_df['quantity'].sum()"
   ]
  },
  {
   "cell_type": "code",
   "execution_count": 90,
   "id": "b46ee3a4-900e-4b02-a187-6d7776a4820c",
   "metadata": {},
   "outputs": [
    {
     "data": {
      "text/plain": [
       "313"
      ]
     },
     "execution_count": 90,
     "metadata": {},
     "output_type": "execute_result"
    }
   ],
   "source": [
    "fourth_mask_df['quantity'].sum()"
   ]
  },
  {
   "cell_type": "code",
   "execution_count": 92,
   "id": "282c3190-c42c-4cc3-b9af-0be4bebeb217",
   "metadata": {},
   "outputs": [
    {
     "data": {
      "text/plain": [
       "92"
      ]
     },
     "execution_count": 92,
     "metadata": {},
     "output_type": "execute_result"
    }
   ],
   "source": [
    "fifth_mask_df['quantity'].sum()"
   ]
  },
  {
   "cell_type": "markdown",
   "id": "9967b95a-24c9-448f-be84-9ff9cf65a24f",
   "metadata": {},
   "source": [
    "# 6 .In this sample data set, the age group that has purchased the highest number of legos 36 and 50. "
   ]
  },
  {
   "cell_type": "markdown",
   "id": "5b96267f-1c38-4eca-a543-ae638c70ba3c",
   "metadata": {},
   "source": [
    "# 7. Which age group has spent the most money on Legos?"
   ]
  },
  {
   "cell_type": "code",
   "execution_count": 120,
   "id": "6b5ecd9d-3a53-4a50-b271-9c9793f7a7f5",
   "metadata": {},
   "outputs": [
    {
     "data": {
      "text/plain": [
       "948.5500000000001"
      ]
     },
     "execution_count": 120,
     "metadata": {},
     "output_type": "execute_result"
    }
   ],
   "source": [
    "df['total_spent'] = df['us_price'] * df['quantity']\n",
    "\n",
    "masked_df_u18['total_spent'].sum()"
   ]
  },
  {
   "cell_type": "code",
   "execution_count": 122,
   "id": "615d18ad-2145-4c22-949b-7c57a1ec23b6",
   "metadata": {},
   "outputs": [
    {
     "data": {
      "text/plain": [
       "4939.26"
      ]
     },
     "execution_count": 122,
     "metadata": {},
     "output_type": "execute_result"
    }
   ],
   "source": [
    "second_mask_df['total_spent'].sum()"
   ]
  },
  {
   "cell_type": "code",
   "execution_count": 124,
   "id": "3c28855c-0112-4366-90be-4078b675af55",
   "metadata": {},
   "outputs": [
    {
     "data": {
      "text/plain": [
       "7576.33"
      ]
     },
     "execution_count": 124,
     "metadata": {},
     "output_type": "execute_result"
    }
   ],
   "source": [
    "third_mask_df['total_spent'].sum()"
   ]
  },
  {
   "cell_type": "code",
   "execution_count": 126,
   "id": "73af7712-73ab-4c14-933f-c8ced3b85abc",
   "metadata": {},
   "outputs": [
    {
     "data": {
      "text/plain": [
       "9532.870000000003"
      ]
     },
     "execution_count": 126,
     "metadata": {},
     "output_type": "execute_result"
    }
   ],
   "source": [
    "fourth_mask_df['total_spent'].sum()"
   ]
  },
  {
   "cell_type": "code",
   "execution_count": 128,
   "id": "60f979d4-dc6d-4268-a528-b843984ac921",
   "metadata": {},
   "outputs": [
    {
     "data": {
      "text/plain": [
       "2475.0799999999995"
      ]
     },
     "execution_count": 128,
     "metadata": {},
     "output_type": "execute_result"
    }
   ],
   "source": [
    "fifth_mask_df['total_spent'].sum()"
   ]
  },
  {
   "cell_type": "markdown",
   "id": "7a8da9c3-f930-4b97-90c7-742f8401ee89",
   "metadata": {},
   "source": [
    "The age group that has spent the most amount of money on legos is age group 36 through 50."
   ]
  },
  {
   "cell_type": "code",
   "execution_count": 131,
   "id": "e679c9a2-714a-41a4-bf5f-5548a68f92c8",
   "metadata": {},
   "outputs": [
    {
     "data": {
      "text/plain": [
       "Index(['first_name', 'last_name', 'age', 'phone_number', 'set_id', 'number',\n",
       "       'theme', 'subtheme', 'year', 'name', 'pieces', 'us_price', 'image_url',\n",
       "       'quantity', 'total_spent'],\n",
       "      dtype='object')"
      ]
     },
     "execution_count": 131,
     "metadata": {},
     "output_type": "execute_result"
    }
   ],
   "source": [
    "df.keys()"
   ]
  },
  {
   "cell_type": "markdown",
   "id": "569ffe0c-42ca-4c5b-8245-09e6382f5728",
   "metadata": {},
   "source": [
    "# 8.  Which Lego theme has made the most money for Lego?\n"
   ]
  },
  {
   "cell_type": "code",
   "execution_count": 133,
   "id": "8713148b-f84c-4f82-8a1f-d64fb57bbbb0",
   "metadata": {},
   "outputs": [
    {
     "data": {
      "text/html": [
       "<div>\n",
       "<style scoped>\n",
       "    .dataframe tbody tr th:only-of-type {\n",
       "        vertical-align: middle;\n",
       "    }\n",
       "\n",
       "    .dataframe tbody tr th {\n",
       "        vertical-align: top;\n",
       "    }\n",
       "\n",
       "    .dataframe thead th {\n",
       "        text-align: right;\n",
       "    }\n",
       "</style>\n",
       "<table border=\"1\" class=\"dataframe\">\n",
       "  <thead>\n",
       "    <tr style=\"text-align: right;\">\n",
       "      <th></th>\n",
       "      <th>total_spent</th>\n",
       "    </tr>\n",
       "    <tr>\n",
       "      <th>theme</th>\n",
       "      <th></th>\n",
       "    </tr>\n",
       "  </thead>\n",
       "  <tbody>\n",
       "    <tr>\n",
       "      <th>Star Wars</th>\n",
       "      <td>4447.83</td>\n",
       "    </tr>\n",
       "    <tr>\n",
       "      <th>Ninjago</th>\n",
       "      <td>2279.41</td>\n",
       "    </tr>\n",
       "    <tr>\n",
       "      <th>City</th>\n",
       "      <td>2211.35</td>\n",
       "    </tr>\n",
       "    <tr>\n",
       "      <th>Nexo Knights</th>\n",
       "      <td>2209.07</td>\n",
       "    </tr>\n",
       "    <tr>\n",
       "      <th>Minecraft</th>\n",
       "      <td>1549.90</td>\n",
       "    </tr>\n",
       "    <tr>\n",
       "      <th>Gear</th>\n",
       "      <td>1533.21</td>\n",
       "    </tr>\n",
       "    <tr>\n",
       "      <th>Friends</th>\n",
       "      <td>1279.44</td>\n",
       "    </tr>\n",
       "    <tr>\n",
       "      <th>Duplo</th>\n",
       "      <td>1219.50</td>\n",
       "    </tr>\n",
       "    <tr>\n",
       "      <th>Elves</th>\n",
       "      <td>1119.72</td>\n",
       "    </tr>\n",
       "    <tr>\n",
       "      <th>Ghostbusters</th>\n",
       "      <td>879.95</td>\n",
       "    </tr>\n",
       "    <tr>\n",
       "      <th>Advanced Models</th>\n",
       "      <td>849.95</td>\n",
       "    </tr>\n",
       "    <tr>\n",
       "      <th>Marvel Super Heroes</th>\n",
       "      <td>839.70</td>\n",
       "    </tr>\n",
       "    <tr>\n",
       "      <th>Bionicle</th>\n",
       "      <td>779.54</td>\n",
       "    </tr>\n",
       "    <tr>\n",
       "      <th>DC Comics Super Heroes</th>\n",
       "      <td>653.65</td>\n",
       "    </tr>\n",
       "    <tr>\n",
       "      <th>Architecture</th>\n",
       "      <td>589.85</td>\n",
       "    </tr>\n",
       "    <tr>\n",
       "      <th>Technic</th>\n",
       "      <td>572.88</td>\n",
       "    </tr>\n",
       "    <tr>\n",
       "      <th>Creator</th>\n",
       "      <td>549.65</td>\n",
       "    </tr>\n",
       "    <tr>\n",
       "      <th>Dimensions</th>\n",
       "      <td>484.76</td>\n",
       "    </tr>\n",
       "    <tr>\n",
       "      <th>The Angry Birds Movie</th>\n",
       "      <td>478.87</td>\n",
       "    </tr>\n",
       "    <tr>\n",
       "      <th>Mixels</th>\n",
       "      <td>414.17</td>\n",
       "    </tr>\n",
       "    <tr>\n",
       "      <th>Disney Princess</th>\n",
       "      <td>237.80</td>\n",
       "    </tr>\n",
       "    <tr>\n",
       "      <th>Ideas</th>\n",
       "      <td>209.97</td>\n",
       "    </tr>\n",
       "    <tr>\n",
       "      <th>Seasonal</th>\n",
       "      <td>39.96</td>\n",
       "    </tr>\n",
       "    <tr>\n",
       "      <th>Classic</th>\n",
       "      <td>29.99</td>\n",
       "    </tr>\n",
       "    <tr>\n",
       "      <th>Collectable Minifigures</th>\n",
       "      <td>11.97</td>\n",
       "    </tr>\n",
       "  </tbody>\n",
       "</table>\n",
       "</div>"
      ],
      "text/plain": [
       "                         total_spent\n",
       "theme                               \n",
       "Star Wars                    4447.83\n",
       "Ninjago                      2279.41\n",
       "City                         2211.35\n",
       "Nexo Knights                 2209.07\n",
       "Minecraft                    1549.90\n",
       "Gear                         1533.21\n",
       "Friends                      1279.44\n",
       "Duplo                        1219.50\n",
       "Elves                        1119.72\n",
       "Ghostbusters                  879.95\n",
       "Advanced Models               849.95\n",
       "Marvel Super Heroes           839.70\n",
       "Bionicle                      779.54\n",
       "DC Comics Super Heroes        653.65\n",
       "Architecture                  589.85\n",
       "Technic                       572.88\n",
       "Creator                       549.65\n",
       "Dimensions                    484.76\n",
       "The Angry Birds Movie         478.87\n",
       "Mixels                        414.17\n",
       "Disney Princess               237.80\n",
       "Ideas                         209.97\n",
       "Seasonal                       39.96\n",
       "Classic                        29.99\n",
       "Collectable Minifigures        11.97"
      ]
     },
     "execution_count": 133,
     "metadata": {},
     "output_type": "execute_result"
    }
   ],
   "source": [
    "columns = ['theme','total_spent']\n",
    "df[columns].groupby('theme').sum().sort_values('total_spent',ascending = False) "
   ]
  },
  {
   "cell_type": "markdown",
   "id": "1291c9a2-cf38-4307-bfbb-2445ae661a59",
   "metadata": {},
   "source": [
    "The theme that has the most money spent is Star Wars is $4447.83 "
   ]
  },
  {
   "cell_type": "markdown",
   "id": "02e968d7-fc27-47c6-8c3d-274d1f19e4c5",
   "metadata": {},
   "source": [
    "# 9. Which area code has spent the most money on Legos? In the US the area code is the first 3 digits of a phone number. Then using a for loop calculate the average money spent per customer for each area code.\n"
   ]
  },
  {
   "cell_type": "code",
   "execution_count": 139,
   "id": "25dda1ed-7978-4206-9572-90aed11148e7",
   "metadata": {},
   "outputs": [
    {
     "data": {
      "text/html": [
       "<div>\n",
       "<style scoped>\n",
       "    .dataframe tbody tr th:only-of-type {\n",
       "        vertical-align: middle;\n",
       "    }\n",
       "\n",
       "    .dataframe tbody tr th {\n",
       "        vertical-align: top;\n",
       "    }\n",
       "\n",
       "    .dataframe thead th {\n",
       "        text-align: right;\n",
       "    }\n",
       "</style>\n",
       "<table border=\"1\" class=\"dataframe\">\n",
       "  <thead>\n",
       "    <tr style=\"text-align: right;\">\n",
       "      <th></th>\n",
       "      <th>total_spent</th>\n",
       "    </tr>\n",
       "    <tr>\n",
       "      <th>area_code</th>\n",
       "      <th></th>\n",
       "    </tr>\n",
       "  </thead>\n",
       "  <tbody>\n",
       "    <tr>\n",
       "      <th>nan</th>\n",
       "      <td>3992.64</td>\n",
       "    </tr>\n",
       "    <tr>\n",
       "      <th>956</th>\n",
       "      <td>719.96</td>\n",
       "    </tr>\n",
       "    <tr>\n",
       "      <th>973</th>\n",
       "      <td>684.91</td>\n",
       "    </tr>\n",
       "    <tr>\n",
       "      <th>567</th>\n",
       "      <td>549.86</td>\n",
       "    </tr>\n",
       "    <tr>\n",
       "      <th>281</th>\n",
       "      <td>464.90</td>\n",
       "    </tr>\n",
       "    <tr>\n",
       "      <th>...</th>\n",
       "      <td>...</td>\n",
       "    </tr>\n",
       "    <tr>\n",
       "      <th>216</th>\n",
       "      <td>9.99</td>\n",
       "    </tr>\n",
       "    <tr>\n",
       "      <th>308</th>\n",
       "      <td>9.99</td>\n",
       "    </tr>\n",
       "    <tr>\n",
       "      <th>509</th>\n",
       "      <td>9.99</td>\n",
       "    </tr>\n",
       "    <tr>\n",
       "      <th>325</th>\n",
       "      <td>9.98</td>\n",
       "    </tr>\n",
       "    <tr>\n",
       "      <th>636</th>\n",
       "      <td>4.99</td>\n",
       "    </tr>\n",
       "  </tbody>\n",
       "</table>\n",
       "<p>157 rows × 1 columns</p>\n",
       "</div>"
      ],
      "text/plain": [
       "           total_spent\n",
       "area_code             \n",
       "nan            3992.64\n",
       "956             719.96\n",
       "973             684.91\n",
       "567             549.86\n",
       "281             464.90\n",
       "...                ...\n",
       "216               9.99\n",
       "308               9.99\n",
       "509               9.99\n",
       "325               9.98\n",
       "636               4.99\n",
       "\n",
       "[157 rows x 1 columns]"
      ]
     },
     "execution_count": 139,
     "metadata": {},
     "output_type": "execute_result"
    }
   ],
   "source": [
    "#I used your solution so I will explain what the code is doing \n",
    "\n",
    "df['area_code'] = df['phone_number'].apply(lambda x: str(x).split('-')[0])   \n",
    "# To begin this command is a Lambda, meaning that we are only going to do this one time for the data. We are creating a new column in the data frame named 'area_code', \n",
    "# and making it equal to the data frame masked with the phone number column. The actual lambda itself is taking the string and taking out the '-' in each of the numbers.\n",
    "\n",
    "columns = ['area_code','total_spent'] \n",
    "df[columns].groupby('area_code').sum().sort_values('total_spent',ascending = False)\n",
    "#after we are taking the data frame and masking it by the two columns in the list. We are then grouping it by the area_code and recieving the sum of that. \n",
    "#the data frame is put in descending order and oragnized by total_spent."
   ]
  },
  {
   "cell_type": "code",
   "execution_count": 155,
   "id": "e80b2f95-08f2-4b00-8946-9782320e9d1a",
   "metadata": {},
   "outputs": [
    {
     "data": {
      "text/plain": [
       "area_code\n",
       "nan    92\n",
       "567     9\n",
       "281     9\n",
       "712     9\n",
       "441     9\n",
       "       ..\n",
       "915     1\n",
       "509     1\n",
       "947     1\n",
       "216     1\n",
       "402     1\n",
       "Name: count, Length: 157, dtype: int64"
      ]
     },
     "execution_count": 155,
     "metadata": {},
     "output_type": "execute_result"
    }
   ],
   "source": [
    "count = df['area_code'].value_counts()\n",
    "count"
   ]
  },
  {
   "cell_type": "code",
   "execution_count": 174,
   "id": "dd5737d3-eacd-43e4-89f6-92c043370d2f",
   "metadata": {},
   "outputs": [
    {
     "data": {
      "text/html": [
       "<div>\n",
       "<style scoped>\n",
       "    .dataframe tbody tr th:only-of-type {\n",
       "        vertical-align: middle;\n",
       "    }\n",
       "\n",
       "    .dataframe tbody tr th {\n",
       "        vertical-align: top;\n",
       "    }\n",
       "\n",
       "    .dataframe thead th {\n",
       "        text-align: right;\n",
       "    }\n",
       "</style>\n",
       "<table border=\"1\" class=\"dataframe\">\n",
       "  <thead>\n",
       "    <tr style=\"text-align: right;\">\n",
       "      <th></th>\n",
       "      <th>total_spent</th>\n",
       "      <th>average_spent</th>\n",
       "    </tr>\n",
       "    <tr>\n",
       "      <th>area_code</th>\n",
       "      <th></th>\n",
       "      <th></th>\n",
       "    </tr>\n",
       "  </thead>\n",
       "  <tbody>\n",
       "    <tr>\n",
       "      <th>212</th>\n",
       "      <td>24.99</td>\n",
       "      <td>359.980000</td>\n",
       "    </tr>\n",
       "    <tr>\n",
       "      <th>215</th>\n",
       "      <td>70.94</td>\n",
       "      <td>169.980000</td>\n",
       "    </tr>\n",
       "    <tr>\n",
       "      <th>662</th>\n",
       "      <td>32.97</td>\n",
       "      <td>144.990000</td>\n",
       "    </tr>\n",
       "    <tr>\n",
       "      <th>705</th>\n",
       "      <td>84.97</td>\n",
       "      <td>124.990000</td>\n",
       "    </tr>\n",
       "    <tr>\n",
       "      <th>402</th>\n",
       "      <td>44.97</td>\n",
       "      <td>114.985000</td>\n",
       "    </tr>\n",
       "    <tr>\n",
       "      <th>...</th>\n",
       "      <td>...</td>\n",
       "      <td>...</td>\n",
       "    </tr>\n",
       "    <tr>\n",
       "      <th>313</th>\n",
       "      <td>94.95</td>\n",
       "      <td>8.323333</td>\n",
       "    </tr>\n",
       "    <tr>\n",
       "      <th>330</th>\n",
       "      <td>39.98</td>\n",
       "      <td>7.490000</td>\n",
       "    </tr>\n",
       "    <tr>\n",
       "      <th>561</th>\n",
       "      <td>54.97</td>\n",
       "      <td>5.490000</td>\n",
       "    </tr>\n",
       "    <tr>\n",
       "      <th>734</th>\n",
       "      <td>22.98</td>\n",
       "      <td>4.990000</td>\n",
       "    </tr>\n",
       "    <tr>\n",
       "      <th>229</th>\n",
       "      <td>74.95</td>\n",
       "      <td>4.990000</td>\n",
       "    </tr>\n",
       "  </tbody>\n",
       "</table>\n",
       "<p>157 rows × 2 columns</p>\n",
       "</div>"
      ],
      "text/plain": [
       "           total_spent  average_spent\n",
       "area_code                            \n",
       "212              24.99     359.980000\n",
       "215              70.94     169.980000\n",
       "662              32.97     144.990000\n",
       "705              84.97     124.990000\n",
       "402              44.97     114.985000\n",
       "...                ...            ...\n",
       "313              94.95       8.323333\n",
       "330              39.98       7.490000\n",
       "561              54.97       5.490000\n",
       "734              22.98       4.990000\n",
       "229              74.95       4.990000\n",
       "\n",
       "[157 rows x 2 columns]"
      ]
     },
     "execution_count": 174,
     "metadata": {},
     "output_type": "execute_result"
    }
   ],
   "source": [
    "spent = df[columns].groupby('area_code').sum().sort_values('total_spent',ascending=False)\n",
    "spent\n",
    "#Masking the dataframe by columns(list of area_code and total spent) and grouping it by the area code. We then obtain the total amount and sort the values by the total spent while putting it all into a variable called spent. \n",
    "average_spent = []\n",
    "#create emtpy list \n",
    "for c in count.items():\n",
    "    average_spent.append(spent.loc[c[0]]['total_spent']/c[1])\n",
    "#For every iteration in count, take their total spent, divide by how many purchases they made, and save that number in a list. \n",
    "\n",
    "spent['average_spent'] = average_spent# takes the spent variable and is masked by 'average spent' and makes it equal to the variable average spent\n",
    "spent.sort_values('average_spent',ascending=False) "
   ]
  },
  {
   "cell_type": "markdown",
   "id": "65e862b8-e56c-4b90-aa7d-79a5c22b43ae",
   "metadata": {},
   "source": [
    "# 10 Come up with a question you want to answer using these data, and write it down. Then, create a data visualization that answers the question, and explain how your visualization answers the question.\n"
   ]
  },
  {
   "cell_type": "code",
   "execution_count": 178,
   "id": "ae532e51-bc6a-4615-ab70-a404bf8263ab",
   "metadata": {},
   "outputs": [
    {
     "data": {
      "text/html": [
       "<div>\n",
       "<style scoped>\n",
       "    .dataframe tbody tr th:only-of-type {\n",
       "        vertical-align: middle;\n",
       "    }\n",
       "\n",
       "    .dataframe tbody tr th {\n",
       "        vertical-align: top;\n",
       "    }\n",
       "\n",
       "    .dataframe thead th {\n",
       "        text-align: right;\n",
       "    }\n",
       "</style>\n",
       "<table border=\"1\" class=\"dataframe\">\n",
       "  <thead>\n",
       "    <tr style=\"text-align: right;\">\n",
       "      <th></th>\n",
       "      <th>first_name</th>\n",
       "      <th>last_name</th>\n",
       "      <th>age</th>\n",
       "      <th>phone_number</th>\n",
       "      <th>set_id</th>\n",
       "      <th>number</th>\n",
       "      <th>theme</th>\n",
       "      <th>subtheme</th>\n",
       "      <th>year</th>\n",
       "      <th>name</th>\n",
       "      <th>pieces</th>\n",
       "      <th>us_price</th>\n",
       "      <th>image_url</th>\n",
       "      <th>quantity</th>\n",
       "      <th>total_spent</th>\n",
       "      <th>area_code</th>\n",
       "    </tr>\n",
       "  </thead>\n",
       "  <tbody>\n",
       "    <tr>\n",
       "      <th>0</th>\n",
       "      <td>Kimberly</td>\n",
       "      <td>Beckstead</td>\n",
       "      <td>24</td>\n",
       "      <td>216-555-2549</td>\n",
       "      <td>24701</td>\n",
       "      <td>76062</td>\n",
       "      <td>DC Comics Super Heroes</td>\n",
       "      <td>Mighty Micros</td>\n",
       "      <td>2018</td>\n",
       "      <td>Robin vs. Bane</td>\n",
       "      <td>77.0</td>\n",
       "      <td>9.99</td>\n",
       "      <td>http://images.brickset.com/sets/images/76062-1...</td>\n",
       "      <td>1</td>\n",
       "      <td>9.99</td>\n",
       "      <td>216</td>\n",
       "    </tr>\n",
       "    <tr>\n",
       "      <th>1</th>\n",
       "      <td>Neel</td>\n",
       "      <td>Garvin</td>\n",
       "      <td>35</td>\n",
       "      <td>819-555-3189</td>\n",
       "      <td>25626</td>\n",
       "      <td>70595</td>\n",
       "      <td>Ninjago</td>\n",
       "      <td>Rise of the Villains</td>\n",
       "      <td>2018</td>\n",
       "      <td>Ultra Stealth Raider</td>\n",
       "      <td>1093.0</td>\n",
       "      <td>119.99</td>\n",
       "      <td>http://images.brickset.com/sets/images/70595-1...</td>\n",
       "      <td>1</td>\n",
       "      <td>119.99</td>\n",
       "      <td>819</td>\n",
       "    </tr>\n",
       "    <tr>\n",
       "      <th>2</th>\n",
       "      <td>Neel</td>\n",
       "      <td>Garvin</td>\n",
       "      <td>35</td>\n",
       "      <td>819-555-3189</td>\n",
       "      <td>24665</td>\n",
       "      <td>21031</td>\n",
       "      <td>Architecture</td>\n",
       "      <td>NaN</td>\n",
       "      <td>2018</td>\n",
       "      <td>Burj Khalifa</td>\n",
       "      <td>333.0</td>\n",
       "      <td>39.99</td>\n",
       "      <td>http://images.brickset.com/sets/images/21031-1...</td>\n",
       "      <td>1</td>\n",
       "      <td>39.99</td>\n",
       "      <td>819</td>\n",
       "    </tr>\n",
       "    <tr>\n",
       "      <th>3</th>\n",
       "      <td>Chelsea</td>\n",
       "      <td>Bouchard</td>\n",
       "      <td>41</td>\n",
       "      <td>NaN</td>\n",
       "      <td>24695</td>\n",
       "      <td>31048</td>\n",
       "      <td>Creator</td>\n",
       "      <td>NaN</td>\n",
       "      <td>2018</td>\n",
       "      <td>Lakeside Lodge</td>\n",
       "      <td>368.0</td>\n",
       "      <td>29.99</td>\n",
       "      <td>http://images.brickset.com/sets/images/31048-1...</td>\n",
       "      <td>1</td>\n",
       "      <td>29.99</td>\n",
       "      <td>nan</td>\n",
       "    </tr>\n",
       "    <tr>\n",
       "      <th>4</th>\n",
       "      <td>Chelsea</td>\n",
       "      <td>Bouchard</td>\n",
       "      <td>41</td>\n",
       "      <td>NaN</td>\n",
       "      <td>25626</td>\n",
       "      <td>70595</td>\n",
       "      <td>Ninjago</td>\n",
       "      <td>Rise of the Villains</td>\n",
       "      <td>2018</td>\n",
       "      <td>Ultra Stealth Raider</td>\n",
       "      <td>1093.0</td>\n",
       "      <td>119.99</td>\n",
       "      <td>http://images.brickset.com/sets/images/70595-1...</td>\n",
       "      <td>1</td>\n",
       "      <td>119.99</td>\n",
       "      <td>nan</td>\n",
       "    </tr>\n",
       "    <tr>\n",
       "      <th>...</th>\n",
       "      <td>...</td>\n",
       "      <td>...</td>\n",
       "      <td>...</td>\n",
       "      <td>...</td>\n",
       "      <td>...</td>\n",
       "      <td>...</td>\n",
       "      <td>...</td>\n",
       "      <td>...</td>\n",
       "      <td>...</td>\n",
       "      <td>...</td>\n",
       "      <td>...</td>\n",
       "      <td>...</td>\n",
       "      <td>...</td>\n",
       "      <td>...</td>\n",
       "      <td>...</td>\n",
       "      <td>...</td>\n",
       "    </tr>\n",
       "    <tr>\n",
       "      <th>615</th>\n",
       "      <td>Talise</td>\n",
       "      <td>Nieukirk</td>\n",
       "      <td>16</td>\n",
       "      <td>801-555-2343</td>\n",
       "      <td>24902</td>\n",
       "      <td>41556</td>\n",
       "      <td>Mixels</td>\n",
       "      <td>Series 7</td>\n",
       "      <td>2018</td>\n",
       "      <td>Tiketz</td>\n",
       "      <td>62.0</td>\n",
       "      <td>4.99</td>\n",
       "      <td>http://images.brickset.com/sets/images/41556-1...</td>\n",
       "      <td>2</td>\n",
       "      <td>9.98</td>\n",
       "      <td>801</td>\n",
       "    </tr>\n",
       "    <tr>\n",
       "      <th>616</th>\n",
       "      <td>Spencer</td>\n",
       "      <td>Morgan</td>\n",
       "      <td>28</td>\n",
       "      <td>784-555-3455</td>\n",
       "      <td>26041</td>\n",
       "      <td>41580</td>\n",
       "      <td>Mixels</td>\n",
       "      <td>Series 9</td>\n",
       "      <td>2018</td>\n",
       "      <td>Myke</td>\n",
       "      <td>63.0</td>\n",
       "      <td>4.99</td>\n",
       "      <td>NaN</td>\n",
       "      <td>2</td>\n",
       "      <td>9.98</td>\n",
       "      <td>784</td>\n",
       "    </tr>\n",
       "    <tr>\n",
       "      <th>617</th>\n",
       "      <td>Spencer</td>\n",
       "      <td>Morgan</td>\n",
       "      <td>28</td>\n",
       "      <td>784-555-3455</td>\n",
       "      <td>26060</td>\n",
       "      <td>5005051</td>\n",
       "      <td>Gear</td>\n",
       "      <td>Digital Media</td>\n",
       "      <td>2018</td>\n",
       "      <td>Friends of Heartlake City Girlz 4 Life</td>\n",
       "      <td>NaN</td>\n",
       "      <td>19.99</td>\n",
       "      <td>NaN</td>\n",
       "      <td>1</td>\n",
       "      <td>19.99</td>\n",
       "      <td>784</td>\n",
       "    </tr>\n",
       "    <tr>\n",
       "      <th>618</th>\n",
       "      <td>Amelia</td>\n",
       "      <td>Hageman</td>\n",
       "      <td>40</td>\n",
       "      <td>336-555-1950</td>\n",
       "      <td>24702</td>\n",
       "      <td>76063</td>\n",
       "      <td>DC Comics Super Heroes</td>\n",
       "      <td>Mighty Micros</td>\n",
       "      <td>2018</td>\n",
       "      <td>The Flash vs. Captain Cold</td>\n",
       "      <td>88.0</td>\n",
       "      <td>9.99</td>\n",
       "      <td>http://images.brickset.com/sets/images/76063-1...</td>\n",
       "      <td>2</td>\n",
       "      <td>19.98</td>\n",
       "      <td>336</td>\n",
       "    </tr>\n",
       "    <tr>\n",
       "      <th>619</th>\n",
       "      <td>Amelia</td>\n",
       "      <td>Hageman</td>\n",
       "      <td>40</td>\n",
       "      <td>336-555-1950</td>\n",
       "      <td>24720</td>\n",
       "      <td>10830</td>\n",
       "      <td>Duplo</td>\n",
       "      <td>NaN</td>\n",
       "      <td>2018</td>\n",
       "      <td>Minnie's Café</td>\n",
       "      <td>27.0</td>\n",
       "      <td>19.99</td>\n",
       "      <td>http://images.brickset.com/sets/images/10830-1...</td>\n",
       "      <td>4</td>\n",
       "      <td>79.96</td>\n",
       "      <td>336</td>\n",
       "    </tr>\n",
       "  </tbody>\n",
       "</table>\n",
       "<p>620 rows × 16 columns</p>\n",
       "</div>"
      ],
      "text/plain": [
       "    first_name  last_name  age  phone_number  set_id   number  \\\n",
       "0     Kimberly  Beckstead   24  216-555-2549   24701    76062   \n",
       "1         Neel     Garvin   35  819-555-3189   25626    70595   \n",
       "2         Neel     Garvin   35  819-555-3189   24665    21031   \n",
       "3      Chelsea   Bouchard   41           NaN   24695    31048   \n",
       "4      Chelsea   Bouchard   41           NaN   25626    70595   \n",
       "..         ...        ...  ...           ...     ...      ...   \n",
       "615     Talise   Nieukirk   16  801-555-2343   24902    41556   \n",
       "616    Spencer     Morgan   28  784-555-3455   26041    41580   \n",
       "617    Spencer     Morgan   28  784-555-3455   26060  5005051   \n",
       "618     Amelia    Hageman   40  336-555-1950   24702    76063   \n",
       "619     Amelia    Hageman   40  336-555-1950   24720    10830   \n",
       "\n",
       "                      theme              subtheme  year  \\\n",
       "0    DC Comics Super Heroes         Mighty Micros  2018   \n",
       "1                   Ninjago  Rise of the Villains  2018   \n",
       "2              Architecture                   NaN  2018   \n",
       "3                   Creator                   NaN  2018   \n",
       "4                   Ninjago  Rise of the Villains  2018   \n",
       "..                      ...                   ...   ...   \n",
       "615                  Mixels              Series 7  2018   \n",
       "616                  Mixels              Series 9  2018   \n",
       "617                    Gear         Digital Media  2018   \n",
       "618  DC Comics Super Heroes         Mighty Micros  2018   \n",
       "619                   Duplo                   NaN  2018   \n",
       "\n",
       "                                       name  pieces  us_price  \\\n",
       "0                            Robin vs. Bane    77.0      9.99   \n",
       "1                      Ultra Stealth Raider  1093.0    119.99   \n",
       "2                              Burj Khalifa   333.0     39.99   \n",
       "3                            Lakeside Lodge   368.0     29.99   \n",
       "4                      Ultra Stealth Raider  1093.0    119.99   \n",
       "..                                      ...     ...       ...   \n",
       "615                                  Tiketz    62.0      4.99   \n",
       "616                                    Myke    63.0      4.99   \n",
       "617  Friends of Heartlake City Girlz 4 Life     NaN     19.99   \n",
       "618              The Flash vs. Captain Cold    88.0      9.99   \n",
       "619                           Minnie's Café    27.0     19.99   \n",
       "\n",
       "                                             image_url  quantity  total_spent  \\\n",
       "0    http://images.brickset.com/sets/images/76062-1...         1         9.99   \n",
       "1    http://images.brickset.com/sets/images/70595-1...         1       119.99   \n",
       "2    http://images.brickset.com/sets/images/21031-1...         1        39.99   \n",
       "3    http://images.brickset.com/sets/images/31048-1...         1        29.99   \n",
       "4    http://images.brickset.com/sets/images/70595-1...         1       119.99   \n",
       "..                                                 ...       ...          ...   \n",
       "615  http://images.brickset.com/sets/images/41556-1...         2         9.98   \n",
       "616                                                NaN         2         9.98   \n",
       "617                                                NaN         1        19.99   \n",
       "618  http://images.brickset.com/sets/images/76063-1...         2        19.98   \n",
       "619  http://images.brickset.com/sets/images/10830-1...         4        79.96   \n",
       "\n",
       "    area_code  \n",
       "0         216  \n",
       "1         819  \n",
       "2         819  \n",
       "3         nan  \n",
       "4         nan  \n",
       "..        ...  \n",
       "615       801  \n",
       "616       784  \n",
       "617       784  \n",
       "618       336  \n",
       "619       336  \n",
       "\n",
       "[620 rows x 16 columns]"
      ]
     },
     "execution_count": 178,
     "metadata": {},
     "output_type": "execute_result"
    }
   ],
   "source": [
    "df "
   ]
  },
  {
   "cell_type": "markdown",
   "id": "db92169b-70be-439d-b669-2ad8c8e9c175",
   "metadata": {},
   "source": [
    "# Which lego themes have the most expensive sets?"
   ]
  },
  {
   "cell_type": "code",
   "execution_count": 224,
   "id": "8652ece2-b8ea-4060-abcd-ee8778c36f4d",
   "metadata": {},
   "outputs": [
    {
     "data": {
      "application/vnd.plotly.v1+json": {
       "config": {
        "plotlyServerURL": "https://plot.ly"
       },
       "data": [
        {
         "bingroup": "y",
         "histfunc": "sum",
         "hovertemplate": "subtheme=Mighty Micros<br>sum of us_price=%{x}<br>theme=%{y}<extra></extra>",
         "legendgroup": "Mighty Micros",
         "marker": {
          "color": "#636efa",
          "pattern": {
           "shape": ""
          }
         },
         "name": "Mighty Micros",
         "nbinsy": 18,
         "orientation": "h",
         "showlegend": true,
         "type": "histogram",
         "x": {
          "_inputArray": {
           "0": 9.99,
           "1": 9.99,
           "10": 9.99,
           "11": 9.99,
           "12": 9.99,
           "2": 9.99,
           "3": 9.99,
           "4": 9.99,
           "5": 9.99,
           "6": 9.99,
           "7": 9.99,
           "8": 9.99,
           "9": 9.99,
           "bdata": "exSuR+H6I0B7FK5H4fojQHsUrkfh+iNAexSuR+H6I0B7FK5H4fojQHsUrkfh+iNAexSuR+H6I0B7FK5H4fojQHsUrkfh+iNAexSuR+H6I0B7FK5H4fojQHsUrkfh+iNAexSuR+H6I0A=",
           "dtype": "f8",
           "shape": "13"
          },
          "bdata": "exSuR+H6I0B7FK5H4fojQHsUrkfh+iNAexSuR+H6I0B7FK5H4fojQHsUrkfh+iNAexSuR+H6I0B7FK5H4fojQHsUrkfh+iNAexSuR+H6I0B7FK5H4fojQHsUrkfh+iNAexSuR+H6I0A=",
          "dtype": "f8"
         },
         "xaxis": "x",
         "y": [
          "DC Comics Super Heroes",
          "DC Comics Super Heroes",
          "Marvel Super Heroes",
          "Marvel Super Heroes",
          "Marvel Super Heroes",
          "Marvel Super Heroes",
          "DC Comics Super Heroes",
          "DC Comics Super Heroes",
          "Marvel Super Heroes",
          "DC Comics Super Heroes",
          "Marvel Super Heroes",
          "DC Comics Super Heroes",
          "DC Comics Super Heroes"
         ],
         "yaxis": "y"
        },
        {
         "bingroup": "y",
         "histfunc": "sum",
         "hovertemplate": "subtheme=Rise of the Villains<br>sum of us_price=%{x}<br>theme=%{y}<extra></extra>",
         "legendgroup": "Rise of the Villains",
         "marker": {
          "color": "#EF553B",
          "pattern": {
           "shape": ""
          }
         },
         "name": "Rise of the Villains",
         "nbinsy": 18,
         "orientation": "h",
         "showlegend": true,
         "type": "histogram",
         "x": {
          "_inputArray": {
           "0": 119.99,
           "1": 119.99,
           "2": 119.99,
           "3": 39.99,
           "4": 29.99,
           "5": 39.99,
           "6": 119.99,
           "7": 39.99,
           "8": 119.99,
           "bdata": "j8L1KFz/XUCPwvUoXP9dQI/C9Shc/11AH4XrUbj+Q0A9CtejcP09QB+F61G4/kNAj8L1KFz/XUAfhetRuP5DQI/C9Shc/11A",
           "dtype": "f8",
           "shape": "9"
          },
          "bdata": "j8L1KFz/XUCPwvUoXP9dQI/C9Shc/11AH4XrUbj+Q0A9CtejcP09QB+F61G4/kNAj8L1KFz/XUAfhetRuP5DQI/C9Shc/11A",
          "dtype": "f8"
         },
         "xaxis": "x",
         "y": [
          "Ninjago",
          "Ninjago",
          "Ninjago",
          "Ninjago",
          "Ninjago",
          "Ninjago",
          "Ninjago",
          "Ninjago",
          "Ninjago"
         ],
         "yaxis": "y"
        },
        {
         "bingroup": "y",
         "histfunc": "sum",
         "hovertemplate": "subtheme=Episode V<br>sum of us_price=%{x}<br>theme=%{y}<extra></extra>",
         "legendgroup": "Episode V",
         "marker": {
          "color": "#ab63fa",
          "pattern": {
           "shape": ""
          }
         },
         "name": "Episode V",
         "nbinsy": 18,
         "orientation": "h",
         "showlegend": true,
         "type": "histogram",
         "x": {
          "_inputArray": {
           "0": 24.99,
           "1": 24.99,
           "2": 24.99,
           "3": 24.99,
           "4": 24.99,
           "5": 24.99,
           "6": 24.99,
           "7": 24.99,
           "8": 24.99,
           "9": 24.99,
           "bdata": "PQrXo3D9OEA9CtejcP04QD0K16Nw/ThAPQrXo3D9OEA9CtejcP04QD0K16Nw/ThAPQrXo3D9OEA9CtejcP04QD0K16Nw/ThAPQrXo3D9OEA=",
           "dtype": "f8",
           "shape": "10"
          },
          "bdata": "PQrXo3D9OEA9CtejcP04QD0K16Nw/ThAPQrXo3D9OEA9CtejcP04QD0K16Nw/ThAPQrXo3D9OEA9CtejcP04QD0K16Nw/ThAPQrXo3D9OEA=",
          "dtype": "f8"
         },
         "xaxis": "x",
         "y": [
          "Star Wars",
          "Star Wars",
          "Star Wars",
          "Star Wars",
          "Star Wars",
          "Star Wars",
          "Star Wars",
          "Star Wars",
          "Star Wars",
          "Star Wars"
         ],
         "yaxis": "y"
        },
        {
         "bingroup": "y",
         "histfunc": "sum",
         "hovertemplate": "subtheme=Minifig-scale<br>sum of us_price=%{x}<br>theme=%{y}<extra></extra>",
         "legendgroup": "Minifig-scale",
         "marker": {
          "color": "#FFA15A",
          "pattern": {
           "shape": ""
          }
         },
         "name": "Minifig-scale",
         "nbinsy": 18,
         "orientation": "h",
         "showlegend": true,
         "type": "histogram",
         "x": {
          "_inputArray": {
           "0": 109.99,
           "1": 199.99,
           "2": 199.99,
           "3": 109.99,
           "4": 199.99,
           "5": 109.99,
           "6": 199.99,
           "7": 109.99,
           "8": 199.99,
           "bdata": "j8L1KFx/W0BI4XoUrv9oQEjhehSu/2hAj8L1KFx/W0BI4XoUrv9oQI/C9Shcf1tASOF6FK7/aECPwvUoXH9bQEjhehSu/2hA",
           "dtype": "f8",
           "shape": "9"
          },
          "bdata": "j8L1KFx/W0BI4XoUrv9oQEjhehSu/2hAj8L1KFx/W0BI4XoUrv9oQI/C9Shcf1tASOF6FK7/aECPwvUoXH9bQEjhehSu/2hA",
          "dtype": "f8"
         },
         "xaxis": "x",
         "y": [
          "Minecraft",
          "Minecraft",
          "Minecraft",
          "Minecraft",
          "Minecraft",
          "Minecraft",
          "Minecraft",
          "Minecraft",
          "Minecraft"
         ],
         "yaxis": "y"
        },
        {
         "bingroup": "y",
         "histfunc": "sum",
         "hovertemplate": "subtheme=Ultimate<br>sum of us_price=%{x}<br>theme=%{y}<extra></extra>",
         "legendgroup": "Ultimate",
         "marker": {
          "color": "#19d3f3",
          "pattern": {
           "shape": ""
          }
         },
         "name": "Ultimate",
         "nbinsy": 18,
         "orientation": "h",
         "showlegend": true,
         "type": "histogram",
         "x": {
          "_inputArray": {
           "0": 9.99,
           "1": 9.99,
           "10": 9.99,
           "11": 9.99,
           "12": 9.99,
           "13": 9.99,
           "14": 9.99,
           "15": 9.99,
           "16": 9.99,
           "17": 9.99,
           "18": 9.99,
           "19": 9.99,
           "2": 9.99,
           "20": 9.99,
           "21": 9.99,
           "3": 9.99,
           "4": 9.99,
           "5": 9.99,
           "6": 9.99,
           "7": 9.99,
           "8": 9.99,
           "9": 9.99,
           "bdata": "exSuR+H6I0B7FK5H4fojQHsUrkfh+iNAexSuR+H6I0B7FK5H4fojQHsUrkfh+iNAexSuR+H6I0B7FK5H4fojQHsUrkfh+iNAexSuR+H6I0B7FK5H4fojQHsUrkfh+iNAexSuR+H6I0B7FK5H4fojQHsUrkfh+iNAexSuR+H6I0B7FK5H4fojQHsUrkfh+iNAexSuR+H6I0B7FK5H4fojQHsUrkfh+iNAexSuR+H6I0A=",
           "dtype": "f8",
           "shape": "22"
          },
          "bdata": "exSuR+H6I0B7FK5H4fojQHsUrkfh+iNAexSuR+H6I0B7FK5H4fojQHsUrkfh+iNAexSuR+H6I0B7FK5H4fojQHsUrkfh+iNAexSuR+H6I0B7FK5H4fojQHsUrkfh+iNAexSuR+H6I0B7FK5H4fojQHsUrkfh+iNAexSuR+H6I0B7FK5H4fojQHsUrkfh+iNAexSuR+H6I0B7FK5H4fojQHsUrkfh+iNAexSuR+H6I0A=",
          "dtype": "f8"
         },
         "xaxis": "x",
         "y": [
          "Nexo Knights",
          "Nexo Knights",
          "Nexo Knights",
          "Nexo Knights",
          "Nexo Knights",
          "Nexo Knights",
          "Nexo Knights",
          "Nexo Knights",
          "Nexo Knights",
          "Nexo Knights",
          "Nexo Knights",
          "Nexo Knights",
          "Nexo Knights",
          "Nexo Knights",
          "Nexo Knights",
          "Nexo Knights",
          "Nexo Knights",
          "Nexo Knights",
          "Nexo Knights",
          "Nexo Knights",
          "Nexo Knights",
          "Nexo Knights"
         ],
         "yaxis": "y"
        },
        {
         "bingroup": "y",
         "histfunc": "sum",
         "hovertemplate": "subtheme=Fun Pack<br>sum of us_price=%{x}<br>theme=%{y}<extra></extra>",
         "legendgroup": "Fun Pack",
         "marker": {
          "color": "#FF6692",
          "pattern": {
           "shape": ""
          }
         },
         "name": "Fun Pack",
         "nbinsy": 18,
         "orientation": "h",
         "showlegend": true,
         "type": "histogram",
         "x": {
          "_inputArray": {
           "0": 14.99,
           "1": 14.99,
           "10": 14.99,
           "2": 14.99,
           "3": 14.99,
           "4": 14.99,
           "5": 14.99,
           "6": 14.99,
           "7": 14.99,
           "8": 14.99,
           "9": 14.99,
           "bdata": "exSuR+H6LUB7FK5H4fotQHsUrkfh+i1AexSuR+H6LUB7FK5H4fotQHsUrkfh+i1AexSuR+H6LUB7FK5H4fotQHsUrkfh+i1AexSuR+H6LUB7FK5H4fotQA==",
           "dtype": "f8",
           "shape": "11"
          },
          "bdata": "exSuR+H6LUB7FK5H4fotQHsUrkfh+i1AexSuR+H6LUB7FK5H4fotQHsUrkfh+i1AexSuR+H6LUB7FK5H4fotQHsUrkfh+i1AexSuR+H6LUB7FK5H4fotQA==",
          "dtype": "f8"
         },
         "xaxis": "x",
         "y": [
          "Dimensions",
          "Dimensions",
          "Dimensions",
          "Dimensions",
          "Dimensions",
          "Dimensions",
          "Dimensions",
          "Dimensions",
          "Dimensions",
          "Dimensions",
          "Dimensions"
         ],
         "yaxis": "y"
        },
        {
         "bingroup": "y",
         "histfunc": "sum",
         "hovertemplate": "subtheme=Fire<br>sum of us_price=%{x}<br>theme=%{y}<extra></extra>",
         "legendgroup": "Fire",
         "marker": {
          "color": "#B6E880",
          "pattern": {
           "shape": ""
          }
         },
         "name": "Fire",
         "nbinsy": 18,
         "orientation": "h",
         "showlegend": true,
         "type": "histogram",
         "x": {
          "_inputArray": {
           "0": 49.99,
           "1": 39.99,
           "10": 6.99,
           "11": 3.99,
           "12": 3.99,
           "13": 24.99,
           "14": 9.99,
           "15": 39.99,
           "16": 39.99,
           "17": 39.99,
           "18": 79.99,
           "19": 9.99,
           "2": 3.99,
           "20": 49.99,
           "21": 79.99,
           "3": 3.99,
           "4": 79.99,
           "5": 3.99,
           "6": 6.99,
           "7": 79.99,
           "8": 39.99,
           "9": 79.99,
           "bdata": "H4XrUbj+SEAfhetRuP5DQOxRuB6F6w9A7FG4HoXrD0CPwvUoXP9TQOxRuB6F6w9A9ihcj8L1G0CPwvUoXP9TQB+F61G4/kNAj8L1KFz/U0D2KFyPwvUbQOxRuB6F6w9A7FG4HoXrD0A9CtejcP04QHsUrkfh+iNAH4XrUbj+Q0AfhetRuP5DQB+F61G4/kNAj8L1KFz/U0B7FK5H4fojQB+F61G4/khAj8L1KFz/U0A=",
           "dtype": "f8",
           "shape": "22"
          },
          "bdata": "H4XrUbj+SEAfhetRuP5DQOxRuB6F6w9A7FG4HoXrD0CPwvUoXP9TQOxRuB6F6w9A9ihcj8L1G0CPwvUoXP9TQB+F61G4/kNAj8L1KFz/U0D2KFyPwvUbQOxRuB6F6w9A7FG4HoXrD0A9CtejcP04QHsUrkfh+iNAH4XrUbj+Q0AfhetRuP5DQB+F61G4/kNAj8L1KFz/U0B7FK5H4fojQB+F61G4/khAj8L1KFz/U0A=",
          "dtype": "f8"
         },
         "xaxis": "x",
         "y": [
          "City",
          "City",
          "City",
          "City",
          "City",
          "City",
          "City",
          "City",
          "City",
          "City",
          "City",
          "City",
          "City",
          "City",
          "City",
          "City",
          "City",
          "City",
          "City",
          "City",
          "City",
          "City"
         ],
         "yaxis": "y"
        },
        {
         "bingroup": "y",
         "histfunc": "sum",
         "hovertemplate": "subtheme=Series 9<br>sum of us_price=%{x}<br>theme=%{y}<extra></extra>",
         "legendgroup": "Series 9",
         "marker": {
          "color": "#FF97FF",
          "pattern": {
           "shape": ""
          }
         },
         "name": "Series 9",
         "nbinsy": 18,
         "orientation": "h",
         "showlegend": true,
         "type": "histogram",
         "x": {
          "_inputArray": {
           "0": 4.99,
           "1": 4.99,
           "10": 4.99,
           "11": 4.99,
           "12": 4.99,
           "13": 4.99,
           "14": 4.99,
           "15": 4.99,
           "16": 4.99,
           "17": 4.99,
           "18": 4.99,
           "19": 4.99,
           "2": 4.99,
           "20": 4.99,
           "3": 4.99,
           "4": 4.99,
           "5": 4.99,
           "6": 4.99,
           "7": 4.99,
           "8": 4.99,
           "9": 4.99,
           "bdata": "9ihcj8L1E0D2KFyPwvUTQPYoXI/C9RNA9ihcj8L1E0D2KFyPwvUTQPYoXI/C9RNA9ihcj8L1E0D2KFyPwvUTQPYoXI/C9RNA9ihcj8L1E0D2KFyPwvUTQPYoXI/C9RNA9ihcj8L1E0D2KFyPwvUTQPYoXI/C9RNA9ihcj8L1E0D2KFyPwvUTQPYoXI/C9RNA9ihcj8L1E0D2KFyPwvUTQPYoXI/C9RNA",
           "dtype": "f8",
           "shape": "21"
          },
          "bdata": "9ihcj8L1E0D2KFyPwvUTQPYoXI/C9RNA9ihcj8L1E0D2KFyPwvUTQPYoXI/C9RNA9ihcj8L1E0D2KFyPwvUTQPYoXI/C9RNA9ihcj8L1E0D2KFyPwvUTQPYoXI/C9RNA9ihcj8L1E0D2KFyPwvUTQPYoXI/C9RNA9ihcj8L1E0D2KFyPwvUTQPYoXI/C9RNA9ihcj8L1E0D2KFyPwvUTQPYoXI/C9RNA",
          "dtype": "f8"
         },
         "xaxis": "x",
         "y": [
          "Mixels",
          "Mixels",
          "Mixels",
          "Mixels",
          "Mixels",
          "Mixels",
          "Mixels",
          "Mixels",
          "Mixels",
          "Mixels",
          "Mixels",
          "Mixels",
          "Mixels",
          "Mixels",
          "Mixels",
          "Mixels",
          "Mixels",
          "Mixels",
          "Mixels",
          "Mixels",
          "Mixels"
         ],
         "yaxis": "y"
        },
        {
         "bingroup": "y",
         "histfunc": "sum",
         "hovertemplate": "subtheme=Modular Buildings<br>sum of us_price=%{x}<br>theme=%{y}<extra></extra>",
         "legendgroup": "Modular Buildings",
         "marker": {
          "color": "#FECB52",
          "pattern": {
           "shape": ""
          }
         },
         "name": "Modular Buildings",
         "nbinsy": 18,
         "orientation": "h",
         "showlegend": true,
         "type": "histogram",
         "x": {
          "_inputArray": {
           "0": 169.99,
           "1": 169.99,
           "2": 169.99,
           "3": 169.99,
           "bdata": "SOF6FK4/ZUBI4XoUrj9lQEjhehSuP2VASOF6FK4/ZUA=",
           "dtype": "f8",
           "shape": "4"
          },
          "bdata": "SOF6FK4/ZUBI4XoUrj9lQEjhehSuP2VASOF6FK4/ZUA=",
          "dtype": "f8"
         },
         "xaxis": "x",
         "y": [
          "Advanced Models",
          "Advanced Models",
          "Advanced Models",
          "Advanced Models"
         ],
         "yaxis": "y"
        },
        {
         "bingroup": "y",
         "histfunc": "sum",
         "hovertemplate": "subtheme=Series 7<br>sum of us_price=%{x}<br>theme=%{y}<extra></extra>",
         "legendgroup": "Series 7",
         "marker": {
          "color": "#636efa",
          "pattern": {
           "shape": ""
          }
         },
         "name": "Series 7",
         "nbinsy": 18,
         "orientation": "h",
         "showlegend": true,
         "type": "histogram",
         "x": {
          "_inputArray": {
           "0": 4.99,
           "1": 4.99,
           "10": 4.99,
           "11": 4.99,
           "12": 4.99,
           "13": 4.99,
           "14": 4.99,
           "15": 4.99,
           "16": 4.99,
           "17": 4.99,
           "2": 4.99,
           "3": 4.99,
           "4": 4.99,
           "5": 4.99,
           "6": 4.99,
           "7": 4.99,
           "8": 4.99,
           "9": 4.99,
           "bdata": "9ihcj8L1E0D2KFyPwvUTQPYoXI/C9RNA9ihcj8L1E0D2KFyPwvUTQPYoXI/C9RNA9ihcj8L1E0D2KFyPwvUTQPYoXI/C9RNA9ihcj8L1E0D2KFyPwvUTQPYoXI/C9RNA9ihcj8L1E0D2KFyPwvUTQPYoXI/C9RNA9ihcj8L1E0D2KFyPwvUTQPYoXI/C9RNA",
           "dtype": "f8",
           "shape": "18"
          },
          "bdata": "9ihcj8L1E0D2KFyPwvUTQPYoXI/C9RNA9ihcj8L1E0D2KFyPwvUTQPYoXI/C9RNA9ihcj8L1E0D2KFyPwvUTQPYoXI/C9RNA9ihcj8L1E0D2KFyPwvUTQPYoXI/C9RNA9ihcj8L1E0D2KFyPwvUTQPYoXI/C9RNA9ihcj8L1E0D2KFyPwvUTQPYoXI/C9RNA",
          "dtype": "f8"
         },
         "xaxis": "x",
         "y": [
          "Mixels",
          "Mixels",
          "Mixels",
          "Mixels",
          "Mixels",
          "Mixels",
          "Mixels",
          "Mixels",
          "Mixels",
          "Mixels",
          "Mixels",
          "Mixels",
          "Mixels",
          "Mixels",
          "Mixels",
          "Mixels",
          "Mixels",
          "Mixels"
         ],
         "yaxis": "y"
        },
        {
         "bingroup": "y",
         "histfunc": "sum",
         "hovertemplate": "subtheme=Video Games/PS3<br>sum of us_price=%{x}<br>theme=%{y}<extra></extra>",
         "legendgroup": "Video Games/PS3",
         "marker": {
          "color": "#EF553B",
          "pattern": {
           "shape": ""
          }
         },
         "name": "Video Games/PS3",
         "nbinsy": 18,
         "orientation": "h",
         "showlegend": true,
         "type": "histogram",
         "x": {
          "_inputArray": {
           "0": 49.99,
           "1": 49.99,
           "2": 49.99,
           "3": 49.99,
           "4": 49.99,
           "bdata": "H4XrUbj+SEAfhetRuP5IQB+F61G4/khAH4XrUbj+SEAfhetRuP5IQA==",
           "dtype": "f8",
           "shape": "5"
          },
          "bdata": "H4XrUbj+SEAfhetRuP5IQB+F61G4/khAH4XrUbj+SEAfhetRuP5IQA==",
          "dtype": "f8"
         },
         "xaxis": "x",
         "y": [
          "Gear",
          "Gear",
          "Gear",
          "Gear",
          "Gear"
         ],
         "yaxis": "y"
        },
        {
         "bingroup": "y",
         "histfunc": "sum",
         "hovertemplate": "subtheme=Key Chains/Friends<br>sum of us_price=%{x}<br>theme=%{y}<extra></extra>",
         "legendgroup": "Key Chains/Friends",
         "marker": {
          "color": "#00cc96",
          "pattern": {
           "shape": ""
          }
         },
         "name": "Key Chains/Friends",
         "nbinsy": 18,
         "orientation": "h",
         "showlegend": true,
         "type": "histogram",
         "x": {
          "_inputArray": {
           "0": 5.99,
           "1": 5.99,
           "2": 5.99,
           "3": 5.99,
           "4": 5.99,
           "5": 5.99,
           "bdata": "9ihcj8L1F0D2KFyPwvUXQPYoXI/C9RdA9ihcj8L1F0D2KFyPwvUXQPYoXI/C9RdA",
           "dtype": "f8",
           "shape": "6"
          },
          "bdata": "9ihcj8L1F0D2KFyPwvUXQPYoXI/C9RdA9ihcj8L1F0D2KFyPwvUXQPYoXI/C9RdA",
          "dtype": "f8"
         },
         "xaxis": "x",
         "y": [
          "Gear",
          "Gear",
          "Gear",
          "Gear",
          "Gear",
          "Gear"
         ],
         "yaxis": "y"
        },
        {
         "bingroup": "y",
         "histfunc": "sum",
         "hovertemplate": "subtheme=The Force Awakens<br>sum of us_price=%{x}<br>theme=%{y}<extra></extra>",
         "legendgroup": "The Force Awakens",
         "marker": {
          "color": "#ab63fa",
          "pattern": {
           "shape": ""
          }
         },
         "name": "The Force Awakens",
         "nbinsy": 18,
         "orientation": "h",
         "showlegend": true,
         "type": "histogram",
         "x": {
          "_inputArray": {
           "0": 59.99,
           "1": 69.99,
           "10": 79.99,
           "11": 59.99,
           "12": 59.99,
           "13": 12.99,
           "14": 79.99,
           "2": 59.99,
           "3": 59.99,
           "4": 69.99,
           "5": 12.99,
           "6": 79.99,
           "7": 12.99,
           "8": 69.99,
           "9": 12.99,
           "bdata": "H4XrUbj+TUCPwvUoXH9RQB+F61G4/k1AH4XrUbj+TUCPwvUoXH9RQHsUrkfh+ilAj8L1KFz/U0B7FK5H4fopQI/C9Shcf1FAexSuR+H6KUCPwvUoXP9TQB+F61G4/k1AH4XrUbj+TUB7FK5H4fopQI/C9Shc/1NA",
           "dtype": "f8",
           "shape": "15"
          },
          "bdata": "H4XrUbj+TUCPwvUoXH9RQB+F61G4/k1AH4XrUbj+TUCPwvUoXH9RQHsUrkfh+ilAj8L1KFz/U0B7FK5H4fopQI/C9Shcf1FAexSuR+H6KUCPwvUoXP9TQB+F61G4/k1AH4XrUbj+TUB7FK5H4fopQI/C9Shc/1NA",
          "dtype": "f8"
         },
         "xaxis": "x",
         "y": [
          "Star Wars",
          "Star Wars",
          "Star Wars",
          "Star Wars",
          "Star Wars",
          "Star Wars",
          "Star Wars",
          "Star Wars",
          "Star Wars",
          "Star Wars",
          "Star Wars",
          "Star Wars",
          "Star Wars",
          "Star Wars",
          "Star Wars"
         ],
         "yaxis": "y"
        },
        {
         "bingroup": "y",
         "histfunc": "sum",
         "hovertemplate": "subtheme=Traffic<br>sum of us_price=%{x}<br>theme=%{y}<extra></extra>",
         "legendgroup": "Traffic",
         "marker": {
          "color": "#FFA15A",
          "pattern": {
           "shape": ""
          }
         },
         "name": "Traffic",
         "nbinsy": 18,
         "orientation": "h",
         "showlegend": true,
         "type": "histogram",
         "x": {
          "_inputArray": {
           "0": 19.99,
           "1": 19.99,
           "2": 9.99,
           "3": 19.99,
           "4": 19.99,
           "5": 19.99,
           "bdata": "PQrXo3D9M0A9CtejcP0zQHsUrkfh+iNAPQrXo3D9M0A9CtejcP0zQD0K16Nw/TNA",
           "dtype": "f8",
           "shape": "6"
          },
          "bdata": "PQrXo3D9M0A9CtejcP0zQHsUrkfh+iNAPQrXo3D9M0A9CtejcP0zQD0K16Nw/TNA",
          "dtype": "f8"
         },
         "xaxis": "x",
         "y": [
          "City",
          "City",
          "City",
          "City",
          "City",
          "City"
         ],
         "yaxis": "y"
        },
        {
         "bingroup": "y",
         "histfunc": "sum",
         "hovertemplate": "subtheme=Watches/Clocks<br>sum of us_price=%{x}<br>theme=%{y}<extra></extra>",
         "legendgroup": "Watches/Clocks",
         "marker": {
          "color": "#19d3f3",
          "pattern": {
           "shape": ""
          }
         },
         "name": "Watches/Clocks",
         "nbinsy": 18,
         "orientation": "h",
         "showlegend": true,
         "type": "histogram",
         "x": {
          "_inputArray": {
           "0": 24.99,
           "1": 24.99,
           "2": 24.99,
           "3": 24.99,
           "bdata": "PQrXo3D9OEA9CtejcP04QD0K16Nw/ThAPQrXo3D9OEA=",
           "dtype": "f8",
           "shape": "4"
          },
          "bdata": "PQrXo3D9OEA9CtejcP04QD0K16Nw/ThAPQrXo3D9OEA=",
          "dtype": "f8"
         },
         "xaxis": "x",
         "y": [
          "Gear",
          "Gear",
          "Gear",
          "Gear"
         ],
         "yaxis": "y"
        },
        {
         "bingroup": "y",
         "histfunc": "sum",
         "hovertemplate": "subtheme=Pop Star<br>sum of us_price=%{x}<br>theme=%{y}<extra></extra>",
         "legendgroup": "Pop Star",
         "marker": {
          "color": "#FF6692",
          "pattern": {
           "shape": ""
          }
         },
         "name": "Pop Star",
         "nbinsy": 18,
         "orientation": "h",
         "showlegend": true,
         "type": "histogram",
         "x": {
          "_inputArray": {
           "0": 19.99,
           "1": 49.99,
           "2": 49.99,
           "3": 49.99,
           "4": 49.99,
           "bdata": "PQrXo3D9M0AfhetRuP5IQB+F61G4/khAH4XrUbj+SEAfhetRuP5IQA==",
           "dtype": "f8",
           "shape": "5"
          },
          "bdata": "PQrXo3D9M0AfhetRuP5IQB+F61G4/khAH4XrUbj+SEAfhetRuP5IQA==",
          "dtype": "f8"
         },
         "xaxis": "x",
         "y": [
          "Friends",
          "Friends",
          "Friends",
          "Friends",
          "Friends"
         ],
         "yaxis": "y"
        },
        {
         "bingroup": "y",
         "histfunc": "sum",
         "hovertemplate": "subtheme=Battlefront<br>sum of us_price=%{x}<br>theme=%{y}<extra></extra>",
         "legendgroup": "Battlefront",
         "marker": {
          "color": "#B6E880",
          "pattern": {
           "shape": ""
          }
         },
         "name": "Battlefront",
         "nbinsy": 18,
         "orientation": "h",
         "showlegend": true,
         "type": "histogram",
         "x": {
          "_inputArray": {
           "0": 12.99,
           "1": 12.99,
           "2": 12.99,
           "3": 12.99,
           "4": 12.99,
           "5": 12.99,
           "6": 12.99,
           "bdata": "exSuR+H6KUB7FK5H4fopQHsUrkfh+ilAexSuR+H6KUB7FK5H4fopQHsUrkfh+ilAexSuR+H6KUA=",
           "dtype": "f8",
           "shape": "7"
          },
          "bdata": "exSuR+H6KUB7FK5H4fopQHsUrkfh+ilAexSuR+H6KUB7FK5H4fopQHsUrkfh+ilAexSuR+H6KUA=",
          "dtype": "f8"
         },
         "xaxis": "x",
         "y": [
          "Star Wars",
          "Star Wars",
          "Star Wars",
          "Star Wars",
          "Star Wars",
          "Star Wars",
          "Star Wars"
         ],
         "yaxis": "y"
        },
        {
         "bingroup": "y",
         "histfunc": "sum",
         "hovertemplate": "subtheme=Episode III<br>sum of us_price=%{x}<br>theme=%{y}<extra></extra>",
         "legendgroup": "Episode III",
         "marker": {
          "color": "#FF97FF",
          "pattern": {
           "shape": ""
          }
         },
         "name": "Episode III",
         "nbinsy": 18,
         "orientation": "h",
         "showlegend": true,
         "type": "histogram",
         "x": {
          "_inputArray": {
           "0": 109.99,
           "1": 24.99,
           "2": 24.99,
           "3": 24.99,
           "4": 24.99,
           "5": 109.99,
           "bdata": "j8L1KFx/W0A9CtejcP04QD0K16Nw/ThAPQrXo3D9OEA9CtejcP04QI/C9Shcf1tA",
           "dtype": "f8",
           "shape": "6"
          },
          "bdata": "j8L1KFx/W0A9CtejcP04QD0K16Nw/ThAPQrXo3D9OEA9CtejcP04QI/C9Shcf1tA",
          "dtype": "f8"
         },
         "xaxis": "x",
         "y": [
          "Star Wars",
          "Star Wars",
          "Star Wars",
          "Star Wars",
          "Star Wars",
          "Star Wars"
         ],
         "yaxis": "y"
        },
        {
         "bingroup": "y",
         "histfunc": "sum",
         "hovertemplate": "subtheme=Skybound<br>sum of us_price=%{x}<br>theme=%{y}<extra></extra>",
         "legendgroup": "Skybound",
         "marker": {
          "color": "#FECB52",
          "pattern": {
           "shape": ""
          }
         },
         "name": "Skybound",
         "nbinsy": 18,
         "orientation": "h",
         "showlegend": true,
         "type": "histogram",
         "x": {
          "_inputArray": {
           "0": 49.99,
           "1": 49.99,
           "10": 19.99,
           "11": 19.99,
           "12": 79.99,
           "13": 49.99,
           "14": 19.99,
           "15": 29.99,
           "16": 19.99,
           "17": 49.99,
           "18": 29.99,
           "19": 19.99,
           "2": 19.99,
           "20": 49.99,
           "21": 49.99,
           "22": 19.99,
           "3": 9.99,
           "4": 29.99,
           "5": 79.99,
           "6": 19.99,
           "7": 29.99,
           "8": 19.99,
           "9": 29.99,
           "bdata": "H4XrUbj+SEAfhetRuP5IQD0K16Nw/TNAexSuR+H6I0A9CtejcP09QI/C9Shc/1NAPQrXo3D9M0A9CtejcP09QD0K16Nw/TNAPQrXo3D9PUA9CtejcP0zQD0K16Nw/TNAj8L1KFz/U0AfhetRuP5IQD0K16Nw/TNAPQrXo3D9PUA9CtejcP0zQB+F61G4/khAPQrXo3D9PUA9CtejcP0zQB+F61G4/khAH4XrUbj+SEA9CtejcP0zQA==",
           "dtype": "f8",
           "shape": "23"
          },
          "bdata": "H4XrUbj+SEAfhetRuP5IQD0K16Nw/TNAexSuR+H6I0A9CtejcP09QI/C9Shc/1NAPQrXo3D9M0A9CtejcP09QD0K16Nw/TNAPQrXo3D9PUA9CtejcP0zQD0K16Nw/TNAj8L1KFz/U0AfhetRuP5IQD0K16Nw/TNAPQrXo3D9PUA9CtejcP0zQB+F61G4/khAPQrXo3D9PUA9CtejcP0zQB+F61G4/khAH4XrUbj+SEA9CtejcP0zQA==",
          "dtype": "f8"
         },
         "xaxis": "x",
         "y": [
          "Ninjago",
          "Ninjago",
          "Ninjago",
          "Ninjago",
          "Ninjago",
          "Ninjago",
          "Ninjago",
          "Ninjago",
          "Ninjago",
          "Ninjago",
          "Ninjago",
          "Ninjago",
          "Ninjago",
          "Ninjago",
          "Ninjago",
          "Ninjago",
          "Ninjago",
          "Ninjago",
          "Ninjago",
          "Ninjago",
          "Ninjago",
          "Ninjago",
          "Ninjago"
         ],
         "yaxis": "y"
        },
        {
         "bingroup": "y",
         "histfunc": "sum",
         "hovertemplate": "subtheme=Companions<br>sum of us_price=%{x}<br>theme=%{y}<extra></extra>",
         "legendgroup": "Companions",
         "marker": {
          "color": "#636efa",
          "pattern": {
           "shape": ""
          }
         },
         "name": "Companions",
         "nbinsy": 18,
         "orientation": "h",
         "showlegend": true,
         "type": "histogram",
         "x": {
          "_inputArray": {
           "0": 9.99,
           "1": 9.99,
           "2": 9.99,
           "3": 9.99,
           "4": 9.99,
           "5": 9.99,
           "bdata": "exSuR+H6I0B7FK5H4fojQHsUrkfh+iNAexSuR+H6I0B7FK5H4fojQHsUrkfh+iNA",
           "dtype": "f8",
           "shape": "6"
          },
          "bdata": "exSuR+H6I0B7FK5H4fojQHsUrkfh+iNAexSuR+H6I0B7FK5H4fojQHsUrkfh+iNA",
          "dtype": "f8"
         },
         "xaxis": "x",
         "y": [
          "Bionicle",
          "Bionicle",
          "Bionicle",
          "Bionicle",
          "Bionicle",
          "Bionicle"
         ],
         "yaxis": "y"
        },
        {
         "bingroup": "y",
         "histfunc": "sum",
         "hovertemplate": "subtheme=MicroFighters<br>sum of us_price=%{x}<br>theme=%{y}<extra></extra>",
         "legendgroup": "MicroFighters",
         "marker": {
          "color": "#EF553B",
          "pattern": {
           "shape": ""
          }
         },
         "name": "MicroFighters",
         "nbinsy": 18,
         "orientation": "h",
         "showlegend": true,
         "type": "histogram",
         "x": {
          "_inputArray": {
           "0": 9.99,
           "1": 9.99,
           "2": 9.99,
           "3": 9.99,
           "4": 9.99,
           "5": 9.99,
           "6": 9.99,
           "7": 9.99,
           "8": 9.99,
           "9": 9.99,
           "bdata": "exSuR+H6I0B7FK5H4fojQHsUrkfh+iNAexSuR+H6I0B7FK5H4fojQHsUrkfh+iNAexSuR+H6I0B7FK5H4fojQHsUrkfh+iNAexSuR+H6I0A=",
           "dtype": "f8",
           "shape": "10"
          },
          "bdata": "exSuR+H6I0B7FK5H4fojQHsUrkfh+iNAexSuR+H6I0B7FK5H4fojQHsUrkfh+iNAexSuR+H6I0B7FK5H4fojQHsUrkfh+iNAexSuR+H6I0A=",
          "dtype": "f8"
         },
         "xaxis": "x",
         "y": [
          "Star Wars",
          "Star Wars",
          "Star Wars",
          "Star Wars",
          "Star Wars",
          "Star Wars",
          "Star Wars",
          "Star Wars",
          "Star Wars",
          "Star Wars"
         ],
         "yaxis": "y"
        },
        {
         "bingroup": "y",
         "histfunc": "sum",
         "hovertemplate": "subtheme=Buildable Figures<br>sum of us_price=%{x}<br>theme=%{y}<extra></extra>",
         "legendgroup": "Buildable Figures",
         "marker": {
          "color": "#00cc96",
          "pattern": {
           "shape": ""
          }
         },
         "name": "Buildable Figures",
         "nbinsy": 18,
         "orientation": "h",
         "showlegend": true,
         "type": "histogram",
         "x": {
          "_inputArray": {
           "0": 24.99,
           "1": 24.99,
           "10": 19.99,
           "2": 19.99,
           "3": 24.99,
           "4": 24.99,
           "5": 19.99,
           "6": 24.99,
           "7": 24.99,
           "8": 24.99,
           "9": 24.99,
           "bdata": "PQrXo3D9OEA9CtejcP04QD0K16Nw/TNAPQrXo3D9OEA9CtejcP04QD0K16Nw/TNAPQrXo3D9OEA9CtejcP04QD0K16Nw/ThAPQrXo3D9OEA9CtejcP0zQA==",
           "dtype": "f8",
           "shape": "11"
          },
          "bdata": "PQrXo3D9OEA9CtejcP04QD0K16Nw/TNAPQrXo3D9OEA9CtejcP04QD0K16Nw/TNAPQrXo3D9OEA9CtejcP04QD0K16Nw/ThAPQrXo3D9OEA9CtejcP0zQA==",
          "dtype": "f8"
         },
         "xaxis": "x",
         "y": [
          "Star Wars",
          "Star Wars",
          "Star Wars",
          "Star Wars",
          "Star Wars",
          "Star Wars",
          "Star Wars",
          "Star Wars",
          "Star Wars",
          "Star Wars",
          "Star Wars"
         ],
         "yaxis": "y"
        },
        {
         "bingroup": "y",
         "histfunc": "sum",
         "hovertemplate": "subtheme=Ultimate Collector Series<br>sum of us_price=%{x}<br>theme=%{y}<extra></extra>",
         "legendgroup": "Ultimate Collector Series",
         "marker": {
          "color": "#ab63fa",
          "pattern": {
           "shape": ""
          }
         },
         "name": "Ultimate Collector Series",
         "nbinsy": 18,
         "orientation": "h",
         "showlegend": true,
         "type": "histogram",
         "x": {
          "_inputArray": {
           "0": 249.99,
           "bdata": "SOF6FK4/b0A=",
           "dtype": "f8",
           "shape": "1"
          },
          "bdata": "SOF6FK4/b0A=",
          "dtype": "f8"
         },
         "xaxis": "x",
         "y": [
          "Star Wars"
         ],
         "yaxis": "y"
        },
        {
         "bingroup": "y",
         "histfunc": "sum",
         "hovertemplate": "subtheme=Role-Play toys<br>sum of us_price=%{x}<br>theme=%{y}<extra></extra>",
         "legendgroup": "Role-Play toys",
         "marker": {
          "color": "#FFA15A",
          "pattern": {
           "shape": ""
          }
         },
         "name": "Role-Play toys",
         "nbinsy": 18,
         "orientation": "h",
         "showlegend": true,
         "type": "histogram",
         "x": {
          "_inputArray": {
           "0": 9.99,
           "1": 9.99,
           "2": 9.99,
           "3": 12.99,
           "4": 12.99,
           "5": 12.99,
           "6": 12.99,
           "bdata": "exSuR+H6I0B7FK5H4fojQHsUrkfh+iNAexSuR+H6KUB7FK5H4fopQHsUrkfh+ilAexSuR+H6KUA=",
           "dtype": "f8",
           "shape": "7"
          },
          "bdata": "exSuR+H6I0B7FK5H4fojQHsUrkfh+iNAexSuR+H6KUB7FK5H4fopQHsUrkfh+ilAexSuR+H6KUA=",
          "dtype": "f8"
         },
         "xaxis": "x",
         "y": [
          "Gear",
          "Gear",
          "Gear",
          "Gear",
          "Gear",
          "Gear",
          "Gear"
         ],
         "yaxis": "y"
        },
        {
         "bingroup": "y",
         "histfunc": "sum",
         "hovertemplate": "subtheme=Party<br>sum of us_price=%{x}<br>theme=%{y}<extra></extra>",
         "legendgroup": "Party",
         "marker": {
          "color": "#19d3f3",
          "pattern": {
           "shape": ""
          }
         },
         "name": "Party",
         "nbinsy": 18,
         "orientation": "h",
         "showlegend": true,
         "type": "histogram",
         "x": {
          "_inputArray": {
           "0": 4.99,
           "1": 4.99,
           "10": 9.99,
           "11": 4.99,
           "2": 4.99,
           "3": 4.99,
           "4": 4.99,
           "5": 4.99,
           "6": 9.99,
           "7": 19.99,
           "8": 4.99,
           "9": 4.99,
           "bdata": "9ihcj8L1E0D2KFyPwvUTQPYoXI/C9RNA9ihcj8L1E0D2KFyPwvUTQPYoXI/C9RNAexSuR+H6I0A9CtejcP0zQPYoXI/C9RNA9ihcj8L1E0B7FK5H4fojQPYoXI/C9RNA",
           "dtype": "f8",
           "shape": "12"
          },
          "bdata": "9ihcj8L1E0D2KFyPwvUTQPYoXI/C9RNA9ihcj8L1E0D2KFyPwvUTQPYoXI/C9RNAexSuR+H6I0A9CtejcP0zQPYoXI/C9RNA9ihcj8L1E0B7FK5H4fojQPYoXI/C9RNA",
          "dtype": "f8"
         },
         "xaxis": "x",
         "y": [
          "Friends",
          "Friends",
          "Friends",
          "Friends",
          "Friends",
          "Friends",
          "Friends",
          "Friends",
          "Friends",
          "Friends",
          "Friends",
          "Friends"
         ],
         "yaxis": "y"
        },
        {
         "bingroup": "y",
         "histfunc": "sum",
         "hovertemplate": "subtheme=Skylines<br>sum of us_price=%{x}<br>theme=%{y}<extra></extra>",
         "legendgroup": "Skylines",
         "marker": {
          "color": "#FF6692",
          "pattern": {
           "shape": ""
          }
         },
         "name": "Skylines",
         "nbinsy": 18,
         "orientation": "h",
         "showlegend": true,
         "type": "histogram",
         "x": {
          "_inputArray": {
           "0": 59.99,
           "1": 59.99,
           "2": 29.99,
           "3": 29.99,
           "4": 29.99,
           "5": 29.99,
           "6": 29.99,
           "bdata": "H4XrUbj+TUAfhetRuP5NQD0K16Nw/T1APQrXo3D9PUA9CtejcP09QD0K16Nw/T1APQrXo3D9PUA=",
           "dtype": "f8",
           "shape": "7"
          },
          "bdata": "H4XrUbj+TUAfhetRuP5NQD0K16Nw/T1APQrXo3D9PUA9CtejcP09QD0K16Nw/T1APQrXo3D9PUA=",
          "dtype": "f8"
         },
         "xaxis": "x",
         "y": [
          "Architecture",
          "Architecture",
          "Architecture",
          "Architecture",
          "Architecture",
          "Architecture",
          "Architecture"
         ],
         "yaxis": "y"
        },
        {
         "bingroup": "y",
         "histfunc": "sum",
         "hovertemplate": "subtheme=Stationery<br>sum of us_price=%{x}<br>theme=%{y}<extra></extra>",
         "legendgroup": "Stationery",
         "marker": {
          "color": "#B6E880",
          "pattern": {
           "shape": ""
          }
         },
         "name": "Stationery",
         "nbinsy": 18,
         "orientation": "h",
         "showlegend": true,
         "type": "histogram",
         "x": {
          "_inputArray": {
           "0": 14.99,
           "1": 14.99,
           "2": 14.99,
           "3": 14.99,
           "4": 14.99,
           "5": 14.99,
           "6": 14.99,
           "bdata": "exSuR+H6LUB7FK5H4fotQHsUrkfh+i1AexSuR+H6LUB7FK5H4fotQHsUrkfh+i1AexSuR+H6LUA=",
           "dtype": "f8",
           "shape": "7"
          },
          "bdata": "exSuR+H6LUB7FK5H4fotQHsUrkfh+i1AexSuR+H6LUB7FK5H4fotQHsUrkfh+i1AexSuR+H6LUA=",
          "dtype": "f8"
         },
         "xaxis": "x",
         "y": [
          "Gear",
          "Gear",
          "Gear",
          "Gear",
          "Gear",
          "Gear",
          "Gear"
         ],
         "yaxis": "y"
        },
        {
         "bingroup": "y",
         "histfunc": "sum",
         "hovertemplate": "subtheme=Batman<br>sum of us_price=%{x}<br>theme=%{y}<extra></extra>",
         "legendgroup": "Batman",
         "marker": {
          "color": "#FF97FF",
          "pattern": {
           "shape": ""
          }
         },
         "name": "Batman",
         "nbinsy": 18,
         "orientation": "h",
         "showlegend": true,
         "type": "histogram",
         "x": {
          "_inputArray": {
           "0": 59.99,
           "1": 19.99,
           "2": 19.99,
           "3": 79.99,
           "4": 59.99,
           "bdata": "H4XrUbj+TUA9CtejcP0zQD0K16Nw/TNAj8L1KFz/U0AfhetRuP5NQA==",
           "dtype": "f8",
           "shape": "5"
          },
          "bdata": "H4XrUbj+TUA9CtejcP0zQD0K16Nw/TNAj8L1KFz/U0AfhetRuP5NQA==",
          "dtype": "f8"
         },
         "xaxis": "x",
         "y": [
          "DC Comics Super Heroes",
          "DC Comics Super Heroes",
          "DC Comics Super Heroes",
          "DC Comics Super Heroes",
          "DC Comics Super Heroes"
         ],
         "yaxis": "y"
        },
        {
         "bingroup": "y",
         "histfunc": "sum",
         "hovertemplate": "subtheme=Rebels<br>sum of us_price=%{x}<br>theme=%{y}<extra></extra>",
         "legendgroup": "Rebels",
         "marker": {
          "color": "#FECB52",
          "pattern": {
           "shape": ""
          }
         },
         "name": "Rebels",
         "nbinsy": 18,
         "orientation": "h",
         "showlegend": true,
         "type": "histogram",
         "x": {
          "_inputArray": {
           "0": 119.99,
           "1": 119.99,
           "2": 89.99,
           "bdata": "j8L1KFz/XUCPwvUoXP9dQI/C9Shcf1ZA",
           "dtype": "f8",
           "shape": "3"
          },
          "bdata": "j8L1KFz/XUCPwvUoXP9dQI/C9Shcf1ZA",
          "dtype": "f8"
         },
         "xaxis": "x",
         "y": [
          "Star Wars",
          "Star Wars",
          "Star Wars"
         ],
         "yaxis": "y"
        },
        {
         "bingroup": "y",
         "histfunc": "sum",
         "hovertemplate": "subtheme=Palace Pets<br>sum of us_price=%{x}<br>theme=%{y}<extra></extra>",
         "legendgroup": "Palace Pets",
         "marker": {
          "color": "#636efa",
          "pattern": {
           "shape": ""
          }
         },
         "name": "Palace Pets",
         "nbinsy": 18,
         "orientation": "h",
         "showlegend": true,
         "type": "histogram",
         "x": {
          "_inputArray": {
           "0": 19.99,
           "1": 9.99,
           "10": 9.99,
           "11": 9.99,
           "12": 9.99,
           "13": 5.99,
           "2": 9.99,
           "3": 9.99,
           "4": 5.99,
           "5": 9.99,
           "6": 5.99,
           "7": 9.99,
           "8": 9.99,
           "9": 9.99,
           "bdata": "PQrXo3D9M0B7FK5H4fojQHsUrkfh+iNAexSuR+H6I0D2KFyPwvUXQHsUrkfh+iNA9ihcj8L1F0B7FK5H4fojQHsUrkfh+iNAexSuR+H6I0B7FK5H4fojQHsUrkfh+iNAexSuR+H6I0D2KFyPwvUXQA==",
           "dtype": "f8",
           "shape": "14"
          },
          "bdata": "PQrXo3D9M0B7FK5H4fojQHsUrkfh+iNAexSuR+H6I0D2KFyPwvUXQHsUrkfh+iNA9ihcj8L1F0B7FK5H4fojQHsUrkfh+iNAexSuR+H6I0B7FK5H4fojQHsUrkfh+iNAexSuR+H6I0D2KFyPwvUXQA==",
          "dtype": "f8"
         },
         "xaxis": "x",
         "y": [
          "Disney Princess",
          "Disney Princess",
          "Disney Princess",
          "Disney Princess",
          "Disney Princess",
          "Disney Princess",
          "Disney Princess",
          "Disney Princess",
          "Disney Princess",
          "Disney Princess",
          "Disney Princess",
          "Disney Princess",
          "Disney Princess",
          "Disney Princess"
         ],
         "yaxis": "y"
        },
        {
         "bingroup": "y",
         "histfunc": "sum",
         "hovertemplate": "subtheme=Series 8<br>sum of us_price=%{x}<br>theme=%{y}<extra></extra>",
         "legendgroup": "Series 8",
         "marker": {
          "color": "#EF553B",
          "pattern": {
           "shape": ""
          }
         },
         "name": "Series 8",
         "nbinsy": 18,
         "orientation": "h",
         "showlegend": true,
         "type": "histogram",
         "x": {
          "_inputArray": {
           "0": 4.99,
           "1": 4.99,
           "10": 4.99,
           "11": 4.99,
           "12": 4.99,
           "13": 4.99,
           "14": 4.99,
           "15": 4.99,
           "2": 4.99,
           "3": 4.99,
           "4": 4.99,
           "5": 4.99,
           "6": 4.99,
           "7": 4.99,
           "8": 4.99,
           "9": 4.99,
           "bdata": "9ihcj8L1E0D2KFyPwvUTQPYoXI/C9RNA9ihcj8L1E0D2KFyPwvUTQPYoXI/C9RNA9ihcj8L1E0D2KFyPwvUTQPYoXI/C9RNA9ihcj8L1E0D2KFyPwvUTQPYoXI/C9RNA9ihcj8L1E0D2KFyPwvUTQPYoXI/C9RNA9ihcj8L1E0A=",
           "dtype": "f8",
           "shape": "16"
          },
          "bdata": "9ihcj8L1E0D2KFyPwvUTQPYoXI/C9RNA9ihcj8L1E0D2KFyPwvUTQPYoXI/C9RNA9ihcj8L1E0D2KFyPwvUTQPYoXI/C9RNA9ihcj8L1E0D2KFyPwvUTQPYoXI/C9RNA9ihcj8L1E0D2KFyPwvUTQPYoXI/C9RNA9ihcj8L1E0A=",
          "dtype": "f8"
         },
         "xaxis": "x",
         "y": [
          "Mixels",
          "Mixels",
          "Mixels",
          "Mixels",
          "Mixels",
          "Mixels",
          "Mixels",
          "Mixels",
          "Mixels",
          "Mixels",
          "Mixels",
          "Mixels",
          "Mixels",
          "Mixels",
          "Mixels",
          "Mixels"
         ],
         "yaxis": "y"
        },
        {
         "bingroup": "y",
         "histfunc": "sum",
         "hovertemplate": "subtheme=Key Chains/City<br>sum of us_price=%{x}<br>theme=%{y}<extra></extra>",
         "legendgroup": "Key Chains/City",
         "marker": {
          "color": "#00cc96",
          "pattern": {
           "shape": ""
          }
         },
         "name": "Key Chains/City",
         "nbinsy": 18,
         "orientation": "h",
         "showlegend": true,
         "type": "histogram",
         "x": {
          "_inputArray": {
           "0": 5.99,
           "1": 5.99,
           "2": 5.99,
           "bdata": "9ihcj8L1F0D2KFyPwvUXQPYoXI/C9RdA",
           "dtype": "f8",
           "shape": "3"
          },
          "bdata": "9ihcj8L1F0D2KFyPwvUXQPYoXI/C9RdA",
          "dtype": "f8"
         },
         "xaxis": "x",
         "y": [
          "Gear",
          "Gear",
          "Gear"
         ],
         "yaxis": "y"
        },
        {
         "bingroup": "y",
         "histfunc": "sum",
         "hovertemplate": "subtheme=Playmats<br>sum of us_price=%{x}<br>theme=%{y}<extra></extra>",
         "legendgroup": "Playmats",
         "marker": {
          "color": "#ab63fa",
          "pattern": {
           "shape": ""
          }
         },
         "name": "Playmats",
         "nbinsy": 18,
         "orientation": "h",
         "showlegend": true,
         "type": "histogram",
         "x": {
          "_inputArray": {
           "0": 14.99,
           "1": 14.99,
           "bdata": "exSuR+H6LUB7FK5H4fotQA==",
           "dtype": "f8",
           "shape": "2"
          },
          "bdata": "exSuR+H6LUB7FK5H4fotQA==",
          "dtype": "f8"
         },
         "xaxis": "x",
         "y": [
          "Gear",
          "Gear"
         ],
         "yaxis": "y"
        },
        {
         "bingroup": "y",
         "histfunc": "sum",
         "hovertemplate": "subtheme=Original Content<br>sum of us_price=%{x}<br>theme=%{y}<extra></extra>",
         "legendgroup": "Original Content",
         "marker": {
          "color": "#FFA15A",
          "pattern": {
           "shape": ""
          }
         },
         "name": "Original Content",
         "nbinsy": 18,
         "orientation": "h",
         "showlegend": true,
         "type": "histogram",
         "x": {
          "_inputArray": {
           "0": 29.99,
           "1": 49.99,
           "2": 49.99,
           "3": 49.99,
           "4": 29.99,
           "5": 29.99,
           "6": 29.99,
           "bdata": "PQrXo3D9PUAfhetRuP5IQB+F61G4/khAH4XrUbj+SEA9CtejcP09QD0K16Nw/T1APQrXo3D9PUA=",
           "dtype": "f8",
           "shape": "7"
          },
          "bdata": "PQrXo3D9PUAfhetRuP5IQB+F61G4/khAH4XrUbj+SEA9CtejcP09QD0K16Nw/T1APQrXo3D9PUA=",
          "dtype": "f8"
         },
         "xaxis": "x",
         "y": [
          "Star Wars",
          "Star Wars",
          "Star Wars",
          "Star Wars",
          "Star Wars",
          "Star Wars",
          "Star Wars"
         ],
         "yaxis": "y"
        },
        {
         "bingroup": "y",
         "histfunc": "sum",
         "hovertemplate": "subtheme=Batman v Superman: Dawn of Justice<br>sum of us_price=%{x}<br>theme=%{y}<extra></extra>",
         "legendgroup": "Batman v Superman: Dawn of Justice",
         "marker": {
          "color": "#19d3f3",
          "pattern": {
           "shape": ""
          }
         },
         "name": "Batman v Superman: Dawn of Justice",
         "nbinsy": 18,
         "orientation": "h",
         "showlegend": true,
         "type": "histogram",
         "x": {
          "_inputArray": {
           "0": 59.99,
           "1": 12.99,
           "2": 12.99,
           "3": 3.99,
           "4": 12.99,
           "5": 12.99,
           "6": 3.99,
           "7": 12.99,
           "8": 3.99,
           "9": 3.99,
           "bdata": "H4XrUbj+TUB7FK5H4fopQHsUrkfh+ilA7FG4HoXrD0B7FK5H4fopQHsUrkfh+ilA7FG4HoXrD0B7FK5H4fopQOxRuB6F6w9A7FG4HoXrD0A=",
           "dtype": "f8",
           "shape": "10"
          },
          "bdata": "H4XrUbj+TUB7FK5H4fopQHsUrkfh+ilA7FG4HoXrD0B7FK5H4fopQHsUrkfh+ilA7FG4HoXrD0B7FK5H4fopQOxRuB6F6w9A7FG4HoXrD0A=",
          "dtype": "f8"
         },
         "xaxis": "x",
         "y": [
          "DC Comics Super Heroes",
          "DC Comics Super Heroes",
          "DC Comics Super Heroes",
          "DC Comics Super Heroes",
          "DC Comics Super Heroes",
          "DC Comics Super Heroes",
          "DC Comics Super Heroes",
          "DC Comics Super Heroes",
          "DC Comics Super Heroes",
          "DC Comics Super Heroes"
         ],
         "yaxis": "y"
        },
        {
         "bingroup": "y",
         "histfunc": "sum",
         "hovertemplate": "subtheme=Video Games/3DS<br>sum of us_price=%{x}<br>theme=%{y}<extra></extra>",
         "legendgroup": "Video Games/3DS",
         "marker": {
          "color": "#FF6692",
          "pattern": {
           "shape": ""
          }
         },
         "name": "Video Games/3DS",
         "nbinsy": 18,
         "orientation": "h",
         "showlegend": true,
         "type": "histogram",
         "x": {
          "_inputArray": {
           "0": 29.99,
           "1": 29.99,
           "bdata": "PQrXo3D9PUA9CtejcP09QA==",
           "dtype": "f8",
           "shape": "2"
          },
          "bdata": "PQrXo3D9PUA9CtejcP09QA==",
          "dtype": "f8"
         },
         "xaxis": "x",
         "y": [
          "Gear",
          "Gear"
         ],
         "yaxis": "y"
        },
        {
         "bingroup": "y",
         "histfunc": "sum",
         "hovertemplate": "subtheme=Adventure Camp<br>sum of us_price=%{x}<br>theme=%{y}<extra></extra>",
         "legendgroup": "Adventure Camp",
         "marker": {
          "color": "#B6E880",
          "pattern": {
           "shape": ""
          }
         },
         "name": "Adventure Camp",
         "nbinsy": 18,
         "orientation": "h",
         "showlegend": true,
         "type": "histogram",
         "x": {
          "_inputArray": {
           "0": 79.99,
           "1": 9.99,
           "2": 29.99,
           "3": 9.99,
           "4": 29.99,
           "5": 9.99,
           "6": 29.99,
           "7": 9.99,
           "8": 9.99,
           "9": 29.99,
           "bdata": "j8L1KFz/U0B7FK5H4fojQD0K16Nw/T1AexSuR+H6I0A9CtejcP09QHsUrkfh+iNAPQrXo3D9PUB7FK5H4fojQHsUrkfh+iNAPQrXo3D9PUA=",
           "dtype": "f8",
           "shape": "10"
          },
          "bdata": "j8L1KFz/U0B7FK5H4fojQD0K16Nw/T1AexSuR+H6I0A9CtejcP09QHsUrkfh+iNAPQrXo3D9PUB7FK5H4fojQHsUrkfh+iNAPQrXo3D9PUA=",
          "dtype": "f8"
         },
         "xaxis": "x",
         "y": [
          "Friends",
          "Friends",
          "Friends",
          "Friends",
          "Friends",
          "Friends",
          "Friends",
          "Friends",
          "Friends",
          "Friends"
         ],
         "yaxis": "y"
        },
        {
         "bingroup": "y",
         "histfunc": "sum",
         "hovertemplate": "subtheme=Reboot<br>sum of us_price=%{x}<br>theme=%{y}<extra></extra>",
         "legendgroup": "Reboot",
         "marker": {
          "color": "#FF97FF",
          "pattern": {
           "shape": ""
          }
         },
         "name": "Reboot",
         "nbinsy": 18,
         "orientation": "h",
         "showlegend": true,
         "type": "histogram",
         "x": {
          "_inputArray": {
           "0": 59.99,
           "1": 59.99,
           "bdata": "H4XrUbj+TUAfhetRuP5NQA==",
           "dtype": "f8",
           "shape": "2"
          },
          "bdata": "H4XrUbj+TUAfhetRuP5NQA==",
          "dtype": "f8"
         },
         "xaxis": "x",
         "y": [
          "Ghostbusters",
          "Ghostbusters"
         ],
         "yaxis": "y"
        },
        {
         "bingroup": "y",
         "histfunc": "sum",
         "hovertemplate": "subtheme=Reboot Villains<br>sum of us_price=%{x}<br>theme=%{y}<extra></extra>",
         "legendgroup": "Reboot Villains",
         "marker": {
          "color": "#FECB52",
          "pattern": {
           "shape": ""
          }
         },
         "name": "Reboot Villains",
         "nbinsy": 18,
         "orientation": "h",
         "showlegend": true,
         "type": "histogram",
         "x": {
          "_inputArray": {
           "0": 14.99,
           "1": 19.99,
           "2": 14.99,
           "3": 24.99,
           "4": 24.99,
           "5": 24.99,
           "6": 14.99,
           "7": 14.99,
           "8": 14.99,
           "bdata": "exSuR+H6LUA9CtejcP0zQHsUrkfh+i1APQrXo3D9OEA9CtejcP04QD0K16Nw/ThAexSuR+H6LUB7FK5H4fotQHsUrkfh+i1A",
           "dtype": "f8",
           "shape": "9"
          },
          "bdata": "exSuR+H6LUA9CtejcP0zQHsUrkfh+i1APQrXo3D9OEA9CtejcP04QD0K16Nw/ThAexSuR+H6LUB7FK5H4fotQHsUrkfh+i1A",
          "dtype": "f8"
         },
         "xaxis": "x",
         "y": [
          "Bionicle",
          "Bionicle",
          "Bionicle",
          "Bionicle",
          "Bionicle",
          "Bionicle",
          "Bionicle",
          "Bionicle",
          "Bionicle"
         ],
         "yaxis": "y"
        },
        {
         "bingroup": "y",
         "histfunc": "sum",
         "hovertemplate": "subtheme=Key Chains/Ninjago<br>sum of us_price=%{x}<br>theme=%{y}<extra></extra>",
         "legendgroup": "Key Chains/Ninjago",
         "marker": {
          "color": "#636efa",
          "pattern": {
           "shape": ""
          }
         },
         "name": "Key Chains/Ninjago",
         "nbinsy": 18,
         "orientation": "h",
         "showlegend": true,
         "type": "histogram",
         "x": {
          "_inputArray": {
           "0": 5.99,
           "1": 5.99,
           "2": 5.99,
           "3": 5.99,
           "4": 5.99,
           "bdata": "9ihcj8L1F0D2KFyPwvUXQPYoXI/C9RdA9ihcj8L1F0D2KFyPwvUXQA==",
           "dtype": "f8",
           "shape": "5"
          },
          "bdata": "9ihcj8L1F0D2KFyPwvUXQPYoXI/C9RdA9ihcj8L1F0D2KFyPwvUXQA==",
          "dtype": "f8"
         },
         "xaxis": "x",
         "y": [
          "Gear",
          "Gear",
          "Gear",
          "Gear",
          "Gear"
         ],
         "yaxis": "y"
        },
        {
         "bingroup": "y",
         "histfunc": "sum",
         "hovertemplate": "subtheme=Video Games/XBOX 360<br>sum of us_price=%{x}<br>theme=%{y}<extra></extra>",
         "legendgroup": "Video Games/XBOX 360",
         "marker": {
          "color": "#EF553B",
          "pattern": {
           "shape": ""
          }
         },
         "name": "Video Games/XBOX 360",
         "nbinsy": 18,
         "orientation": "h",
         "showlegend": true,
         "type": "histogram",
         "x": {
          "_inputArray": {
           "0": 49.99,
           "1": 49.99,
           "bdata": "H4XrUbj+SEAfhetRuP5IQA==",
           "dtype": "f8",
           "shape": "2"
          },
          "bdata": "H4XrUbj+SEAfhetRuP5IQA==",
          "dtype": "f8"
         },
         "xaxis": "x",
         "y": [
          "Gear",
          "Gear"
         ],
         "yaxis": "y"
        },
        {
         "bingroup": "y",
         "histfunc": "sum",
         "hovertemplate": "subtheme=Video Games/Wii U<br>sum of us_price=%{x}<br>theme=%{y}<extra></extra>",
         "legendgroup": "Video Games/Wii U",
         "marker": {
          "color": "#00cc96",
          "pattern": {
           "shape": ""
          }
         },
         "name": "Video Games/Wii U",
         "nbinsy": 18,
         "orientation": "h",
         "showlegend": true,
         "type": "histogram",
         "x": {
          "_inputArray": {
           "0": 49.99,
           "1": 49.99,
           "2": 49.99,
           "bdata": "H4XrUbj+SEAfhetRuP5IQB+F61G4/khA",
           "dtype": "f8",
           "shape": "3"
          },
          "bdata": "H4XrUbj+SEAfhetRuP5IQB+F61G4/khA",
          "dtype": "f8"
         },
         "xaxis": "x",
         "y": [
          "Gear",
          "Gear",
          "Gear"
         ],
         "yaxis": "y"
        },
        {
         "bingroup": "y",
         "histfunc": "sum",
         "hovertemplate": "subtheme=Key Chains/Miscellaneous<br>sum of us_price=%{x}<br>theme=%{y}<extra></extra>",
         "legendgroup": "Key Chains/Miscellaneous",
         "marker": {
          "color": "#ab63fa",
          "pattern": {
           "shape": ""
          }
         },
         "name": "Key Chains/Miscellaneous",
         "nbinsy": 18,
         "orientation": "h",
         "showlegend": true,
         "type": "histogram",
         "x": {
          "_inputArray": {
           "0": 5.99,
           "1": 5.99,
           "2": 5.99,
           "3": 5.99,
           "4": 5.99,
           "5": 5.99,
           "bdata": "9ihcj8L1F0D2KFyPwvUXQPYoXI/C9RdA9ihcj8L1F0D2KFyPwvUXQPYoXI/C9RdA",
           "dtype": "f8",
           "shape": "6"
          },
          "bdata": "9ihcj8L1F0D2KFyPwvUXQPYoXI/C9RdA9ihcj8L1F0D2KFyPwvUXQPYoXI/C9RdA",
          "dtype": "f8"
         },
         "xaxis": "x",
         "y": [
          "Gear",
          "Gear",
          "Gear",
          "Gear",
          "Gear",
          "Gear"
         ],
         "yaxis": "y"
        },
        {
         "bingroup": "y",
         "histfunc": "sum",
         "hovertemplate": "subtheme=Ultimate Spider-Man<br>sum of us_price=%{x}<br>theme=%{y}<extra></extra>",
         "legendgroup": "Ultimate Spider-Man",
         "marker": {
          "color": "#FFA15A",
          "pattern": {
           "shape": ""
          }
         },
         "name": "Ultimate Spider-Man",
         "nbinsy": 18,
         "orientation": "h",
         "showlegend": true,
         "type": "histogram",
         "x": {
          "_inputArray": {
           "0": 39.99,
           "1": 19.99,
           "2": 19.99,
           "3": 19.99,
           "bdata": "H4XrUbj+Q0A9CtejcP0zQD0K16Nw/TNAPQrXo3D9M0A=",
           "dtype": "f8",
           "shape": "4"
          },
          "bdata": "H4XrUbj+Q0A9CtejcP0zQD0K16Nw/TNAPQrXo3D9M0A=",
          "dtype": "f8"
         },
         "xaxis": "x",
         "y": [
          "Marvel Super Heroes",
          "Marvel Super Heroes",
          "Marvel Super Heroes",
          "Marvel Super Heroes"
         ],
         "yaxis": "y"
        },
        {
         "bingroup": "y",
         "histfunc": "sum",
         "hovertemplate": "subtheme=Avengers Assemble<br>sum of us_price=%{x}<br>theme=%{y}<extra></extra>",
         "legendgroup": "Avengers Assemble",
         "marker": {
          "color": "#19d3f3",
          "pattern": {
           "shape": ""
          }
         },
         "name": "Avengers Assemble",
         "nbinsy": 18,
         "orientation": "h",
         "showlegend": true,
         "type": "histogram",
         "x": {
          "_inputArray": {
           "0": 29.99,
           "1": 29.99,
           "2": 59.99,
           "bdata": "PQrXo3D9PUA9CtejcP09QB+F61G4/k1A",
           "dtype": "f8",
           "shape": "3"
          },
          "bdata": "PQrXo3D9PUA9CtejcP09QB+F61G4/k1A",
          "dtype": "f8"
         },
         "xaxis": "x",
         "y": [
          "Marvel Super Heroes",
          "Marvel Super Heroes",
          "Marvel Super Heroes"
         ],
         "yaxis": "y"
        },
        {
         "bingroup": "y",
         "histfunc": "sum",
         "hovertemplate": "subtheme=Toa<br>sum of us_price=%{x}<br>theme=%{y}<extra></extra>",
         "legendgroup": "Toa",
         "marker": {
          "color": "#FF6692",
          "pattern": {
           "shape": ""
          }
         },
         "name": "Toa",
         "nbinsy": 18,
         "orientation": "h",
         "showlegend": true,
         "type": "histogram",
         "x": {
          "_inputArray": {
           "0": 19.99,
           "1": 14.99,
           "10": 14.99,
           "11": 19.99,
           "12": 14.99,
           "13": 19.99,
           "2": 14.99,
           "3": 19.99,
           "4": 14.99,
           "5": 14.99,
           "6": 19.99,
           "7": 19.99,
           "8": 14.99,
           "9": 14.99,
           "bdata": "PQrXo3D9M0B7FK5H4fotQHsUrkfh+i1APQrXo3D9M0B7FK5H4fotQHsUrkfh+i1APQrXo3D9M0A9CtejcP0zQHsUrkfh+i1AexSuR+H6LUB7FK5H4fotQD0K16Nw/TNAexSuR+H6LUA9CtejcP0zQA==",
           "dtype": "f8",
           "shape": "14"
          },
          "bdata": "PQrXo3D9M0B7FK5H4fotQHsUrkfh+i1APQrXo3D9M0B7FK5H4fotQHsUrkfh+i1APQrXo3D9M0A9CtejcP0zQHsUrkfh+i1AexSuR+H6LUB7FK5H4fotQD0K16Nw/TNAexSuR+H6LUA9CtejcP0zQA==",
          "dtype": "f8"
         },
         "xaxis": "x",
         "y": [
          "Bionicle",
          "Bionicle",
          "Bionicle",
          "Bionicle",
          "Bionicle",
          "Bionicle",
          "Bionicle",
          "Bionicle",
          "Bionicle",
          "Bionicle",
          "Bionicle",
          "Bionicle",
          "Bionicle",
          "Bionicle"
         ],
         "yaxis": "y"
        },
        {
         "bingroup": "y",
         "histfunc": "sum",
         "hovertemplate": "subtheme=Level Pack<br>sum of us_price=%{x}<br>theme=%{y}<extra></extra>",
         "legendgroup": "Level Pack",
         "marker": {
          "color": "#B6E880",
          "pattern": {
           "shape": ""
          }
         },
         "name": "Level Pack",
         "nbinsy": 18,
         "orientation": "h",
         "showlegend": true,
         "type": "histogram",
         "x": {
          "_inputArray": {
           "0": 29.99,
           "1": 29.99,
           "2": 29.99,
           "3": 29.99,
           "4": 29.99,
           "5": 29.99,
           "bdata": "PQrXo3D9PUA9CtejcP09QD0K16Nw/T1APQrXo3D9PUA9CtejcP09QD0K16Nw/T1A",
           "dtype": "f8",
           "shape": "6"
          },
          "bdata": "PQrXo3D9PUA9CtejcP09QD0K16Nw/T1APQrXo3D9PUA9CtejcP09QD0K16Nw/T1A",
          "dtype": "f8"
         },
         "xaxis": "x",
         "y": [
          "Dimensions",
          "Dimensions",
          "Dimensions",
          "Dimensions",
          "Dimensions",
          "Dimensions"
         ],
         "yaxis": "y"
        },
        {
         "bingroup": "y",
         "histfunc": "sum",
         "hovertemplate": "subtheme=Captain America: Civil War<br>sum of us_price=%{x}<br>theme=%{y}<extra></extra>",
         "legendgroup": "Captain America: Civil War",
         "marker": {
          "color": "#FF97FF",
          "pattern": {
           "shape": ""
          }
         },
         "name": "Captain America: Civil War",
         "nbinsy": 18,
         "orientation": "h",
         "showlegend": true,
         "type": "histogram",
         "x": {
          "_inputArray": {
           "0": 29.99,
           "1": 29.99,
           "2": 79.99,
           "3": 79.99,
           "4": 19.99,
           "5": 19.99,
           "bdata": "PQrXo3D9PUA9CtejcP09QI/C9Shc/1NAj8L1KFz/U0A9CtejcP0zQD0K16Nw/TNA",
           "dtype": "f8",
           "shape": "6"
          },
          "bdata": "PQrXo3D9PUA9CtejcP09QI/C9Shc/1NAj8L1KFz/U0A9CtejcP0zQD0K16Nw/TNA",
          "dtype": "f8"
         },
         "xaxis": "x",
         "y": [
          "Marvel Super Heroes",
          "Marvel Super Heroes",
          "Marvel Super Heroes",
          "Marvel Super Heroes",
          "Marvel Super Heroes",
          "Marvel Super Heroes"
         ],
         "yaxis": "y"
        },
        {
         "bingroup": "y",
         "histfunc": "sum",
         "hovertemplate": "subtheme=Easter<br>sum of us_price=%{x}<br>theme=%{y}<extra></extra>",
         "legendgroup": "Easter",
         "marker": {
          "color": "#FECB52",
          "pattern": {
           "shape": ""
          }
         },
         "name": "Easter",
         "nbinsy": 18,
         "orientation": "h",
         "showlegend": true,
         "type": "histogram",
         "x": {
          "_inputArray": {
           "0": 9.99,
           "1": 9.99,
           "bdata": "exSuR+H6I0B7FK5H4fojQA==",
           "dtype": "f8",
           "shape": "2"
          },
          "bdata": "exSuR+H6I0B7FK5H4fojQA==",
          "dtype": "f8"
         },
         "xaxis": "x",
         "y": [
          "Seasonal",
          "Seasonal"
         ],
         "yaxis": "y"
        },
        {
         "bingroup": "y",
         "histfunc": "sum",
         "hovertemplate": "subtheme=companions<br>sum of us_price=%{x}<br>theme=%{y}<extra></extra>",
         "legendgroup": "companions",
         "marker": {
          "color": "#636efa",
          "pattern": {
           "shape": ""
          }
         },
         "name": "companions",
         "nbinsy": 18,
         "orientation": "h",
         "showlegend": true,
         "type": "histogram",
         "x": {
          "_inputArray": {
           "0": 9.99,
           "1": 9.99,
           "2": 9.99,
           "bdata": "exSuR+H6I0B7FK5H4fojQHsUrkfh+iNA",
           "dtype": "f8",
           "shape": "3"
          },
          "bdata": "exSuR+H6I0B7FK5H4fojQHsUrkfh+iNA",
          "dtype": "f8"
         },
         "xaxis": "x",
         "y": [
          "Bionicle",
          "Bionicle",
          "Bionicle"
         ],
         "yaxis": "y"
        },
        {
         "bingroup": "y",
         "histfunc": "sum",
         "hovertemplate": "subtheme=Seasonal<br>sum of us_price=%{x}<br>theme=%{y}<extra></extra>",
         "legendgroup": "Seasonal",
         "marker": {
          "color": "#EF553B",
          "pattern": {
           "shape": ""
          }
         },
         "name": "Seasonal",
         "nbinsy": 18,
         "orientation": "h",
         "showlegend": true,
         "type": "histogram",
         "x": {
          "_inputArray": {
           "0": 39.99,
           "1": 39.99,
           "2": 39.99,
           "bdata": "H4XrUbj+Q0AfhetRuP5DQB+F61G4/kNA",
           "dtype": "f8",
           "shape": "3"
          },
          "bdata": "H4XrUbj+Q0AfhetRuP5DQB+F61G4/kNA",
          "dtype": "f8"
         },
         "xaxis": "x",
         "y": [
          "Star Wars",
          "Star Wars",
          "Star Wars"
         ],
         "yaxis": "y"
        },
        {
         "bingroup": "y",
         "histfunc": "sum",
         "hovertemplate": "subtheme=Series 15<br>sum of us_price=%{x}<br>theme=%{y}<extra></extra>",
         "legendgroup": "Series 15",
         "marker": {
          "color": "#00cc96",
          "pattern": {
           "shape": ""
          }
         },
         "name": "Series 15",
         "nbinsy": 18,
         "orientation": "h",
         "showlegend": true,
         "type": "histogram",
         "x": {
          "_inputArray": {
           "0": 3.99,
           "1": 3.99,
           "2": 3.99,
           "bdata": "7FG4HoXrD0DsUbgehesPQOxRuB6F6w9A",
           "dtype": "f8",
           "shape": "3"
          },
          "bdata": "7FG4HoXrD0DsUbgehesPQOxRuB6F6w9A",
          "dtype": "f8"
         },
         "xaxis": "x",
         "y": [
          "Collectable Minifigures",
          "Collectable Minifigures",
          "Collectable Minifigures"
         ],
         "yaxis": "y"
        },
        {
         "bingroup": "y",
         "histfunc": "sum",
         "hovertemplate": "subtheme=Police<br>sum of us_price=%{x}<br>theme=%{y}<extra></extra>",
         "legendgroup": "Police",
         "marker": {
          "color": "#ab63fa",
          "pattern": {
           "shape": ""
          }
         },
         "name": "Police",
         "nbinsy": 18,
         "orientation": "h",
         "showlegend": true,
         "type": "histogram",
         "x": {
          "_inputArray": {
           "0": 49.99,
           "1": 89.99,
           "10": 89.99,
           "2": 29.99,
           "3": 49.99,
           "4": 49.99,
           "5": 14.99,
           "6": 14.99,
           "7": 89.99,
           "8": 9.99,
           "9": 9.99,
           "bdata": "H4XrUbj+SECPwvUoXH9WQD0K16Nw/T1AH4XrUbj+SEAfhetRuP5IQHsUrkfh+i1AexSuR+H6LUCPwvUoXH9WQHsUrkfh+iNAexSuR+H6I0CPwvUoXH9WQA==",
           "dtype": "f8",
           "shape": "11"
          },
          "bdata": "H4XrUbj+SECPwvUoXH9WQD0K16Nw/T1AH4XrUbj+SEAfhetRuP5IQHsUrkfh+i1AexSuR+H6LUCPwvUoXH9WQHsUrkfh+iNAexSuR+H6I0CPwvUoXH9WQA==",
          "dtype": "f8"
         },
         "xaxis": "x",
         "y": [
          "City",
          "City",
          "City",
          "City",
          "City",
          "City",
          "City",
          "City",
          "City",
          "City",
          "City"
         ],
         "yaxis": "y"
        },
        {
         "bingroup": "y",
         "histfunc": "sum",
         "hovertemplate": "subtheme=Team Pack<br>sum of us_price=%{x}<br>theme=%{y}<extra></extra>",
         "legendgroup": "Team Pack",
         "marker": {
          "color": "#FFA15A",
          "pattern": {
           "shape": ""
          }
         },
         "name": "Team Pack",
         "nbinsy": 18,
         "orientation": "h",
         "showlegend": true,
         "type": "histogram",
         "x": {
          "_inputArray": {
           "0": 24.99,
           "bdata": "PQrXo3D9OEA=",
           "dtype": "f8",
           "shape": "1"
          },
          "bdata": "PQrXo3D9OEA=",
          "dtype": "f8"
         },
         "xaxis": "x",
         "y": [
          "Dimensions"
         ],
         "yaxis": "y"
        },
        {
         "bingroup": "y",
         "histfunc": "sum",
         "hovertemplate": "subtheme=Episode IV<br>sum of us_price=%{x}<br>theme=%{y}<extra></extra>",
         "legendgroup": "Episode IV",
         "marker": {
          "color": "#19d3f3",
          "pattern": {
           "shape": ""
          }
         },
         "name": "Episode IV",
         "nbinsy": 18,
         "orientation": "h",
         "showlegend": true,
         "type": "histogram",
         "x": {
          "_inputArray": {
           "0": 24.99,
           "1": 24.99,
           "bdata": "PQrXo3D9OEA9CtejcP04QA==",
           "dtype": "f8",
           "shape": "2"
          },
          "bdata": "PQrXo3D9OEA9CtejcP04QA==",
          "dtype": "f8"
         },
         "xaxis": "x",
         "y": [
          "Star Wars",
          "Star Wars"
         ],
         "yaxis": "y"
        },
        {
         "bingroup": "y",
         "histfunc": "sum",
         "hovertemplate": "subtheme=Medical<br>sum of us_price=%{x}<br>theme=%{y}<extra></extra>",
         "legendgroup": "Medical",
         "marker": {
          "color": "#FF6692",
          "pattern": {
           "shape": ""
          }
         },
         "name": "Medical",
         "nbinsy": 18,
         "orientation": "h",
         "showlegend": true,
         "type": "histogram",
         "x": {
          "_inputArray": {
           "0": 19.99,
           "1": 19.99,
           "bdata": "PQrXo3D9M0A9CtejcP0zQA==",
           "dtype": "f8",
           "shape": "2"
          },
          "bdata": "PQrXo3D9M0A9CtejcP0zQA==",
          "dtype": "f8"
         },
         "xaxis": "x",
         "y": [
          "City",
          "City"
         ],
         "yaxis": "y"
        },
        {
         "bingroup": "y",
         "histfunc": "sum",
         "hovertemplate": "subtheme=Digital Media<br>sum of us_price=%{x}<br>theme=%{y}<extra></extra>",
         "legendgroup": "Digital Media",
         "marker": {
          "color": "#B6E880",
          "pattern": {
           "shape": ""
          }
         },
         "name": "Digital Media",
         "nbinsy": 18,
         "orientation": "h",
         "showlegend": true,
         "type": "histogram",
         "x": {
          "_inputArray": {
           "0": 19.99,
           "1": 19.99,
           "bdata": "PQrXo3D9M0A9CtejcP0zQA==",
           "dtype": "f8",
           "shape": "2"
          },
          "bdata": "PQrXo3D9M0A9CtejcP0zQA==",
          "dtype": "f8"
         },
         "xaxis": "x",
         "y": [
          "Gear",
          "Gear"
         ],
         "yaxis": "y"
        },
        {
         "bingroup": "y",
         "histfunc": "sum",
         "hovertemplate": "subtheme=Digital media<br>sum of us_price=%{x}<br>theme=%{y}<extra></extra>",
         "legendgroup": "Digital media",
         "marker": {
          "color": "#FF97FF",
          "pattern": {
           "shape": ""
          }
         },
         "name": "Digital media",
         "nbinsy": 18,
         "orientation": "h",
         "showlegend": true,
         "type": "histogram",
         "x": {
          "_inputArray": {
           "0": 19.99,
           "bdata": "PQrXo3D9M0A=",
           "dtype": "f8",
           "shape": "1"
          },
          "bdata": "PQrXo3D9M0A=",
          "dtype": "f8"
         },
         "xaxis": "x",
         "y": [
          "Gear"
         ],
         "yaxis": "y"
        },
        {
         "bingroup": "y",
         "histfunc": "sum",
         "hovertemplate": "subtheme=Frozen<br>sum of us_price=%{x}<br>theme=%{y}<extra></extra>",
         "legendgroup": "Frozen",
         "marker": {
          "color": "#FECB52",
          "pattern": {
           "shape": ""
          }
         },
         "name": "Frozen",
         "nbinsy": 18,
         "orientation": "h",
         "showlegend": true,
         "type": "histogram",
         "x": {
          "_inputArray": {
           "0": 29.99,
           "bdata": "PQrXo3D9PUA=",
           "dtype": "f8",
           "shape": "1"
          },
          "bdata": "PQrXo3D9PUA=",
          "dtype": "f8"
         },
         "xaxis": "x",
         "y": [
          "Disney Princess"
         ],
         "yaxis": "y"
        },
        {
         "bingroup": "y",
         "histfunc": "sum",
         "hovertemplate": "subtheme=Miscellaneous<br>sum of us_price=%{x}<br>theme=%{y}<extra></extra>",
         "legendgroup": "Miscellaneous",
         "marker": {
          "color": "#636efa",
          "pattern": {
           "shape": ""
          }
         },
         "name": "Miscellaneous",
         "nbinsy": 18,
         "orientation": "h",
         "showlegend": true,
         "type": "histogram",
         "x": {
          "_inputArray": {
           "0": 24.99,
           "1": 24.99,
           "bdata": "PQrXo3D9OEA9CtejcP04QA==",
           "dtype": "f8",
           "shape": "2"
          },
          "bdata": "PQrXo3D9OEA9CtejcP04QA==",
          "dtype": "f8"
         },
         "xaxis": "x",
         "y": [
          "Bionicle",
          "Bionicle"
         ],
         "yaxis": "y"
        },
        {
         "bingroup": "y",
         "histfunc": "sum",
         "hovertemplate": "subtheme=Valentine's Day<br>sum of us_price=%{x}<br>theme=%{y}<extra></extra>",
         "legendgroup": "Valentine's Day",
         "marker": {
          "color": "#EF553B",
          "pattern": {
           "shape": ""
          }
         },
         "name": "Valentine's Day",
         "nbinsy": 18,
         "orientation": "h",
         "showlegend": true,
         "type": "histogram",
         "x": {
          "_inputArray": {
           "0": 9.99,
           "bdata": "exSuR+H6I0A=",
           "dtype": "f8",
           "shape": "1"
          },
          "bdata": "exSuR+H6I0A=",
          "dtype": "f8"
         },
         "xaxis": "x",
         "y": [
          "Seasonal"
         ],
         "yaxis": "y"
        },
        {
         "bingroup": "y",
         "histfunc": "sum",
         "hovertemplate": "subtheme=Mickey Mouse Clubhouse<br>sum of us_price=%{x}<br>theme=%{y}<extra></extra>",
         "legendgroup": "Mickey Mouse Clubhouse",
         "marker": {
          "color": "#00cc96",
          "pattern": {
           "shape": ""
          }
         },
         "name": "Mickey Mouse Clubhouse",
         "nbinsy": 18,
         "orientation": "h",
         "showlegend": true,
         "type": "histogram",
         "x": {
          "_inputArray": {
           "0": 19.99,
           "1": 19.99,
           "bdata": "PQrXo3D9M0A9CtejcP0zQA==",
           "dtype": "f8",
           "shape": "2"
          },
          "bdata": "PQrXo3D9M0A9CtejcP0zQA==",
          "dtype": "f8"
         },
         "xaxis": "x",
         "y": [
          "Duplo",
          "Duplo"
         ],
         "yaxis": "y"
        },
        {
         "bingroup": "y",
         "histfunc": "sum",
         "hovertemplate": "subtheme=Miles from Tomorrowland<br>sum of us_price=%{x}<br>theme=%{y}<extra></extra>",
         "legendgroup": "Miles from Tomorrowland",
         "marker": {
          "color": "#ab63fa",
          "pattern": {
           "shape": ""
          }
         },
         "name": "Miles from Tomorrowland",
         "nbinsy": 18,
         "orientation": "h",
         "showlegend": true,
         "type": "histogram",
         "x": {
          "_inputArray": {
           "0": 34.99,
           "bdata": "H4XrUbh+QUA=",
           "dtype": "f8",
           "shape": "1"
          },
          "bdata": "H4XrUbh+QUA=",
          "dtype": "f8"
         },
         "xaxis": "x",
         "y": [
          "Duplo"
         ],
         "yaxis": "y"
        },
        {
         "bingroup": "y",
         "histfunc": "sum",
         "hovertemplate": "subtheme=Harbour<br>sum of us_price=%{x}<br>theme=%{y}<extra></extra>",
         "legendgroup": "Harbour",
         "marker": {
          "color": "#FFA15A",
          "pattern": {
           "shape": ""
          }
         },
         "name": "Harbour",
         "nbinsy": 18,
         "orientation": "h",
         "showlegend": true,
         "type": "histogram",
         "x": {
          "_inputArray": {
           "0": 29.99,
           "1": 9.99,
           "bdata": "PQrXo3D9PUB7FK5H4fojQA==",
           "dtype": "f8",
           "shape": "2"
          },
          "bdata": "PQrXo3D9PUB7FK5H4fojQA==",
          "dtype": "f8"
         },
         "xaxis": "x",
         "y": [
          "City",
          "City"
         ],
         "yaxis": "y"
        }
       ],
       "layout": {
        "autosize": false,
        "bargap": 0.02,
        "barmode": "relative",
        "height": 500,
        "legend": {
         "title": {
          "text": "subtheme"
         },
         "tracegroupgap": 0
        },
        "margin": {
         "t": 60
        },
        "template": {
         "data": {
          "bar": [
           {
            "error_x": {
             "color": "#2a3f5f"
            },
            "error_y": {
             "color": "#2a3f5f"
            },
            "marker": {
             "line": {
              "color": "#E5ECF6",
              "width": 0.5
             },
             "pattern": {
              "fillmode": "overlay",
              "size": 10,
              "solidity": 0.2
             }
            },
            "type": "bar"
           }
          ],
          "barpolar": [
           {
            "marker": {
             "line": {
              "color": "#E5ECF6",
              "width": 0.5
             },
             "pattern": {
              "fillmode": "overlay",
              "size": 10,
              "solidity": 0.2
             }
            },
            "type": "barpolar"
           }
          ],
          "carpet": [
           {
            "aaxis": {
             "endlinecolor": "#2a3f5f",
             "gridcolor": "white",
             "linecolor": "white",
             "minorgridcolor": "white",
             "startlinecolor": "#2a3f5f"
            },
            "baxis": {
             "endlinecolor": "#2a3f5f",
             "gridcolor": "white",
             "linecolor": "white",
             "minorgridcolor": "white",
             "startlinecolor": "#2a3f5f"
            },
            "type": "carpet"
           }
          ],
          "choropleth": [
           {
            "colorbar": {
             "outlinewidth": 0,
             "ticks": ""
            },
            "type": "choropleth"
           }
          ],
          "contour": [
           {
            "colorbar": {
             "outlinewidth": 0,
             "ticks": ""
            },
            "colorscale": [
             [
              0,
              "#0d0887"
             ],
             [
              0.1111111111111111,
              "#46039f"
             ],
             [
              0.2222222222222222,
              "#7201a8"
             ],
             [
              0.3333333333333333,
              "#9c179e"
             ],
             [
              0.4444444444444444,
              "#bd3786"
             ],
             [
              0.5555555555555556,
              "#d8576b"
             ],
             [
              0.6666666666666666,
              "#ed7953"
             ],
             [
              0.7777777777777778,
              "#fb9f3a"
             ],
             [
              0.8888888888888888,
              "#fdca26"
             ],
             [
              1,
              "#f0f921"
             ]
            ],
            "type": "contour"
           }
          ],
          "contourcarpet": [
           {
            "colorbar": {
             "outlinewidth": 0,
             "ticks": ""
            },
            "type": "contourcarpet"
           }
          ],
          "heatmap": [
           {
            "colorbar": {
             "outlinewidth": 0,
             "ticks": ""
            },
            "colorscale": [
             [
              0,
              "#0d0887"
             ],
             [
              0.1111111111111111,
              "#46039f"
             ],
             [
              0.2222222222222222,
              "#7201a8"
             ],
             [
              0.3333333333333333,
              "#9c179e"
             ],
             [
              0.4444444444444444,
              "#bd3786"
             ],
             [
              0.5555555555555556,
              "#d8576b"
             ],
             [
              0.6666666666666666,
              "#ed7953"
             ],
             [
              0.7777777777777778,
              "#fb9f3a"
             ],
             [
              0.8888888888888888,
              "#fdca26"
             ],
             [
              1,
              "#f0f921"
             ]
            ],
            "type": "heatmap"
           }
          ],
          "histogram": [
           {
            "marker": {
             "pattern": {
              "fillmode": "overlay",
              "size": 10,
              "solidity": 0.2
             }
            },
            "type": "histogram"
           }
          ],
          "histogram2d": [
           {
            "colorbar": {
             "outlinewidth": 0,
             "ticks": ""
            },
            "colorscale": [
             [
              0,
              "#0d0887"
             ],
             [
              0.1111111111111111,
              "#46039f"
             ],
             [
              0.2222222222222222,
              "#7201a8"
             ],
             [
              0.3333333333333333,
              "#9c179e"
             ],
             [
              0.4444444444444444,
              "#bd3786"
             ],
             [
              0.5555555555555556,
              "#d8576b"
             ],
             [
              0.6666666666666666,
              "#ed7953"
             ],
             [
              0.7777777777777778,
              "#fb9f3a"
             ],
             [
              0.8888888888888888,
              "#fdca26"
             ],
             [
              1,
              "#f0f921"
             ]
            ],
            "type": "histogram2d"
           }
          ],
          "histogram2dcontour": [
           {
            "colorbar": {
             "outlinewidth": 0,
             "ticks": ""
            },
            "colorscale": [
             [
              0,
              "#0d0887"
             ],
             [
              0.1111111111111111,
              "#46039f"
             ],
             [
              0.2222222222222222,
              "#7201a8"
             ],
             [
              0.3333333333333333,
              "#9c179e"
             ],
             [
              0.4444444444444444,
              "#bd3786"
             ],
             [
              0.5555555555555556,
              "#d8576b"
             ],
             [
              0.6666666666666666,
              "#ed7953"
             ],
             [
              0.7777777777777778,
              "#fb9f3a"
             ],
             [
              0.8888888888888888,
              "#fdca26"
             ],
             [
              1,
              "#f0f921"
             ]
            ],
            "type": "histogram2dcontour"
           }
          ],
          "mesh3d": [
           {
            "colorbar": {
             "outlinewidth": 0,
             "ticks": ""
            },
            "type": "mesh3d"
           }
          ],
          "parcoords": [
           {
            "line": {
             "colorbar": {
              "outlinewidth": 0,
              "ticks": ""
             }
            },
            "type": "parcoords"
           }
          ],
          "pie": [
           {
            "automargin": true,
            "type": "pie"
           }
          ],
          "scatter": [
           {
            "fillpattern": {
             "fillmode": "overlay",
             "size": 10,
             "solidity": 0.2
            },
            "type": "scatter"
           }
          ],
          "scatter3d": [
           {
            "line": {
             "colorbar": {
              "outlinewidth": 0,
              "ticks": ""
             }
            },
            "marker": {
             "colorbar": {
              "outlinewidth": 0,
              "ticks": ""
             }
            },
            "type": "scatter3d"
           }
          ],
          "scattercarpet": [
           {
            "marker": {
             "colorbar": {
              "outlinewidth": 0,
              "ticks": ""
             }
            },
            "type": "scattercarpet"
           }
          ],
          "scattergeo": [
           {
            "marker": {
             "colorbar": {
              "outlinewidth": 0,
              "ticks": ""
             }
            },
            "type": "scattergeo"
           }
          ],
          "scattergl": [
           {
            "marker": {
             "colorbar": {
              "outlinewidth": 0,
              "ticks": ""
             }
            },
            "type": "scattergl"
           }
          ],
          "scattermap": [
           {
            "marker": {
             "colorbar": {
              "outlinewidth": 0,
              "ticks": ""
             }
            },
            "type": "scattermap"
           }
          ],
          "scattermapbox": [
           {
            "marker": {
             "colorbar": {
              "outlinewidth": 0,
              "ticks": ""
             }
            },
            "type": "scattermapbox"
           }
          ],
          "scatterpolar": [
           {
            "marker": {
             "colorbar": {
              "outlinewidth": 0,
              "ticks": ""
             }
            },
            "type": "scatterpolar"
           }
          ],
          "scatterpolargl": [
           {
            "marker": {
             "colorbar": {
              "outlinewidth": 0,
              "ticks": ""
             }
            },
            "type": "scatterpolargl"
           }
          ],
          "scatterternary": [
           {
            "marker": {
             "colorbar": {
              "outlinewidth": 0,
              "ticks": ""
             }
            },
            "type": "scatterternary"
           }
          ],
          "surface": [
           {
            "colorbar": {
             "outlinewidth": 0,
             "ticks": ""
            },
            "colorscale": [
             [
              0,
              "#0d0887"
             ],
             [
              0.1111111111111111,
              "#46039f"
             ],
             [
              0.2222222222222222,
              "#7201a8"
             ],
             [
              0.3333333333333333,
              "#9c179e"
             ],
             [
              0.4444444444444444,
              "#bd3786"
             ],
             [
              0.5555555555555556,
              "#d8576b"
             ],
             [
              0.6666666666666666,
              "#ed7953"
             ],
             [
              0.7777777777777778,
              "#fb9f3a"
             ],
             [
              0.8888888888888888,
              "#fdca26"
             ],
             [
              1,
              "#f0f921"
             ]
            ],
            "type": "surface"
           }
          ],
          "table": [
           {
            "cells": {
             "fill": {
              "color": "#EBF0F8"
             },
             "line": {
              "color": "white"
             }
            },
            "header": {
             "fill": {
              "color": "#C8D4E3"
             },
             "line": {
              "color": "white"
             }
            },
            "type": "table"
           }
          ]
         },
         "layout": {
          "annotationdefaults": {
           "arrowcolor": "#2a3f5f",
           "arrowhead": 0,
           "arrowwidth": 1
          },
          "autotypenumbers": "strict",
          "coloraxis": {
           "colorbar": {
            "outlinewidth": 0,
            "ticks": ""
           }
          },
          "colorscale": {
           "diverging": [
            [
             0,
             "#8e0152"
            ],
            [
             0.1,
             "#c51b7d"
            ],
            [
             0.2,
             "#de77ae"
            ],
            [
             0.3,
             "#f1b6da"
            ],
            [
             0.4,
             "#fde0ef"
            ],
            [
             0.5,
             "#f7f7f7"
            ],
            [
             0.6,
             "#e6f5d0"
            ],
            [
             0.7,
             "#b8e186"
            ],
            [
             0.8,
             "#7fbc41"
            ],
            [
             0.9,
             "#4d9221"
            ],
            [
             1,
             "#276419"
            ]
           ],
           "sequential": [
            [
             0,
             "#0d0887"
            ],
            [
             0.1111111111111111,
             "#46039f"
            ],
            [
             0.2222222222222222,
             "#7201a8"
            ],
            [
             0.3333333333333333,
             "#9c179e"
            ],
            [
             0.4444444444444444,
             "#bd3786"
            ],
            [
             0.5555555555555556,
             "#d8576b"
            ],
            [
             0.6666666666666666,
             "#ed7953"
            ],
            [
             0.7777777777777778,
             "#fb9f3a"
            ],
            [
             0.8888888888888888,
             "#fdca26"
            ],
            [
             1,
             "#f0f921"
            ]
           ],
           "sequentialminus": [
            [
             0,
             "#0d0887"
            ],
            [
             0.1111111111111111,
             "#46039f"
            ],
            [
             0.2222222222222222,
             "#7201a8"
            ],
            [
             0.3333333333333333,
             "#9c179e"
            ],
            [
             0.4444444444444444,
             "#bd3786"
            ],
            [
             0.5555555555555556,
             "#d8576b"
            ],
            [
             0.6666666666666666,
             "#ed7953"
            ],
            [
             0.7777777777777778,
             "#fb9f3a"
            ],
            [
             0.8888888888888888,
             "#fdca26"
            ],
            [
             1,
             "#f0f921"
            ]
           ]
          },
          "colorway": [
           "#636efa",
           "#EF553B",
           "#00cc96",
           "#ab63fa",
           "#FFA15A",
           "#19d3f3",
           "#FF6692",
           "#B6E880",
           "#FF97FF",
           "#FECB52"
          ],
          "font": {
           "color": "#2a3f5f"
          },
          "geo": {
           "bgcolor": "white",
           "lakecolor": "white",
           "landcolor": "#E5ECF6",
           "showlakes": true,
           "showland": true,
           "subunitcolor": "white"
          },
          "hoverlabel": {
           "align": "left"
          },
          "hovermode": "closest",
          "mapbox": {
           "style": "light"
          },
          "paper_bgcolor": "white",
          "plot_bgcolor": "#E5ECF6",
          "polar": {
           "angularaxis": {
            "gridcolor": "white",
            "linecolor": "white",
            "ticks": ""
           },
           "bgcolor": "#E5ECF6",
           "radialaxis": {
            "gridcolor": "white",
            "linecolor": "white",
            "ticks": ""
           }
          },
          "scene": {
           "xaxis": {
            "backgroundcolor": "#E5ECF6",
            "gridcolor": "white",
            "gridwidth": 2,
            "linecolor": "white",
            "showbackground": true,
            "ticks": "",
            "zerolinecolor": "white"
           },
           "yaxis": {
            "backgroundcolor": "#E5ECF6",
            "gridcolor": "white",
            "gridwidth": 2,
            "linecolor": "white",
            "showbackground": true,
            "ticks": "",
            "zerolinecolor": "white"
           },
           "zaxis": {
            "backgroundcolor": "#E5ECF6",
            "gridcolor": "white",
            "gridwidth": 2,
            "linecolor": "white",
            "showbackground": true,
            "ticks": "",
            "zerolinecolor": "white"
           }
          },
          "shapedefaults": {
           "line": {
            "color": "#2a3f5f"
           }
          },
          "ternary": {
           "aaxis": {
            "gridcolor": "white",
            "linecolor": "white",
            "ticks": ""
           },
           "baxis": {
            "gridcolor": "white",
            "linecolor": "white",
            "ticks": ""
           },
           "bgcolor": "#E5ECF6",
           "caxis": {
            "gridcolor": "white",
            "linecolor": "white",
            "ticks": ""
           }
          },
          "title": {
           "x": 0.05
          },
          "xaxis": {
           "automargin": true,
           "gridcolor": "white",
           "linecolor": "white",
           "ticks": "",
           "title": {
            "standoff": 15
           },
           "zerolinecolor": "white",
           "zerolinewidth": 2
          },
          "yaxis": {
           "automargin": true,
           "gridcolor": "white",
           "linecolor": "white",
           "ticks": "",
           "title": {
            "standoff": 15
           },
           "zerolinecolor": "white",
           "zerolinewidth": 2
          }
         }
        },
        "width": 800,
        "xaxis": {
         "anchor": "y",
         "autorange": true,
         "domain": [
          0,
          1
         ],
         "range": [
          0,
          2991.842105263158
         ],
         "title": {
          "text": "US_price"
         },
         "type": "linear"
        },
        "yaxis": {
         "anchor": "x",
         "autorange": true,
         "domain": [
          0,
          1
         ],
         "range": [
          -0.5,
          18.5
         ],
         "title": {
          "text": "theme"
         },
         "type": "category"
        }
       }
      },
      "image/png": "[encoded data removed]"
     },
     "metadata": {},
     "output_type": "display_data"
    }
   ],
   "source": [
    "fig = px.histogram(df,\n",
    "                 x='us_price',\n",
    "                 y= 'theme',\n",
    "                color = 'subtheme',\n",
    "                 nbins=18,\n",
    "                  )\n",
    "\n",
    "fig.update_layout(bargap=0.02,\n",
    "                  yaxis_title=\"theme\",\n",
    "                  xaxis_title=\"US_price\",\n",
    "                  autosize=False,\n",
    "                  width=800,\n",
    "                  height=500)\n",
    "\n",
    "fig.show()"
   ]
  },
  {
   "cell_type": "markdown",
   "id": "80b818ca-6dfa-41cc-87fe-2bdc73cf83f6",
   "metadata": {},
   "source": [
    "This visualization shows that the lego sets that have the most expensive themes are Star Wars with the Force Awakens at 801 dollars. Minecraft minifig- scale at 1,439 dollars. And Lego Ninjago's skybound sets at $799.77. "
   ]
  },
  {
   "cell_type": "code",
   "execution_count": null,
   "id": "1e88fe1a-c838-4960-bfab-7c62106bec6f",
   "metadata": {},
   "outputs": [],
   "source": []
  }
 ],
 "metadata": {
  "kernelspec": {
   "display_name": "Python 3 (ipykernel)",
   "language": "python",
   "name": "python3"
  },
  "language_info": {
   "codemirror_mode": {
    "name": "ipython",
    "version": 3
   },
   "file_extension": ".py",
   "mimetype": "text/x-python",
   "name": "python",
   "nbconvert_exporter": "python",
   "pygments_lexer": "ipython3",
   "version": "3.12.2"
  }
 },
 "nbformat": 4,
 "nbformat_minor": 5
}
