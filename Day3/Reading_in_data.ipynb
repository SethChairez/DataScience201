{
 "cells": [
  {
   "cell_type": "code",
   "execution_count": 2,
   "id": "7490648e-0b95-4308-961a-8e59559a455b",
   "metadata": {},
   "outputs": [],
   "source": [
    "import os\n",
    "import numpy as np\n",
    "import pandas as pd\n",
    "\n",
    "import matplotlib.pyplot as plt\n",
    "import plotly.express as px\n",
    "from plotly.subplots import make_subplots\n",
    "import plotly.io as pio\n",
    "pio.renderers.defaule = 'colab'\n",
    "\n",
    "import kagglehub"
   ]
  },
  {
   "cell_type": "markdown",
   "id": "c86affc1-8fa9-4091-9005-3227b1084594",
   "metadata": {},
   "source": [
    "## 8. **In a NEW NOTEBOOK** Write code that reads in your subset of the data, markdown that explains clearly where you got the data originally (license and references included) and the process you took to create your subset, a description of the question you are answering, and code that can reliably run and answer your question followed by words that explain your results."
   ]
  },
  {
   "cell_type": "code",
   "execution_count": 12,
   "id": "e7668008-dc88-4e6e-985e-05316ebdd966",
   "metadata": {},
   "outputs": [
    {
     "data": {
      "text/html": [
       "<div>\n",
       "<style scoped>\n",
       "    .dataframe tbody tr th:only-of-type {\n",
       "        vertical-align: middle;\n",
       "    }\n",
       "\n",
       "    .dataframe tbody tr th {\n",
       "        vertical-align: top;\n",
       "    }\n",
       "\n",
       "    .dataframe thead th {\n",
       "        text-align: right;\n",
       "    }\n",
       "</style>\n",
       "<table border=\"1\" class=\"dataframe\">\n",
       "  <thead>\n",
       "    <tr style=\"text-align: right;\">\n",
       "      <th></th>\n",
       "      <th>Calories_Burned</th>\n",
       "      <th>Workout_Type</th>\n",
       "      <th>Session_Duration (hours)</th>\n",
       "    </tr>\n",
       "  </thead>\n",
       "  <tbody>\n",
       "    <tr>\n",
       "      <th>0</th>\n",
       "      <td>712.0</td>\n",
       "      <td>Strength</td>\n",
       "      <td>1.12</td>\n",
       "    </tr>\n",
       "    <tr>\n",
       "      <th>1</th>\n",
       "      <td>833.0</td>\n",
       "      <td>Strength</td>\n",
       "      <td>1.00</td>\n",
       "    </tr>\n",
       "    <tr>\n",
       "      <th>2</th>\n",
       "      <td>1678.0</td>\n",
       "      <td>Cardio</td>\n",
       "      <td>1.24</td>\n",
       "    </tr>\n",
       "    <tr>\n",
       "      <th>3</th>\n",
       "      <td>628.0</td>\n",
       "      <td>Cardio</td>\n",
       "      <td>1.45</td>\n",
       "    </tr>\n",
       "    <tr>\n",
       "      <th>4</th>\n",
       "      <td>1286.0</td>\n",
       "      <td>Strength</td>\n",
       "      <td>1.60</td>\n",
       "    </tr>\n",
       "    <tr>\n",
       "      <th>...</th>\n",
       "      <td>...</td>\n",
       "      <td>...</td>\n",
       "      <td>...</td>\n",
       "    </tr>\n",
       "    <tr>\n",
       "      <th>1795</th>\n",
       "      <td>1388.0</td>\n",
       "      <td>HIIT</td>\n",
       "      <td>1.11</td>\n",
       "    </tr>\n",
       "    <tr>\n",
       "      <th>1796</th>\n",
       "      <td>1367.0</td>\n",
       "      <td>HIIT</td>\n",
       "      <td>0.77</td>\n",
       "    </tr>\n",
       "    <tr>\n",
       "      <th>1797</th>\n",
       "      <td>1261.0</td>\n",
       "      <td>Strength</td>\n",
       "      <td>1.20</td>\n",
       "    </tr>\n",
       "    <tr>\n",
       "      <th>1798</th>\n",
       "      <td>956.0</td>\n",
       "      <td>Cardio</td>\n",
       "      <td>1.04</td>\n",
       "    </tr>\n",
       "    <tr>\n",
       "      <th>1799</th>\n",
       "      <td>1178.0</td>\n",
       "      <td>Strength</td>\n",
       "      <td>1.29</td>\n",
       "    </tr>\n",
       "  </tbody>\n",
       "</table>\n",
       "<p>1800 rows × 3 columns</p>\n",
       "</div>"
      ],
      "text/plain": [
       "      Calories_Burned Workout_Type  Session_Duration (hours)\n",
       "0               712.0     Strength                      1.12\n",
       "1               833.0     Strength                      1.00\n",
       "2              1678.0       Cardio                      1.24\n",
       "3               628.0       Cardio                      1.45\n",
       "4              1286.0     Strength                      1.60\n",
       "...               ...          ...                       ...\n",
       "1795           1388.0         HIIT                      1.11\n",
       "1796           1367.0         HIIT                      0.77\n",
       "1797           1261.0     Strength                      1.20\n",
       "1798            956.0       Cardio                      1.04\n",
       "1799           1178.0     Strength                      1.29\n",
       "\n",
       "[1800 rows x 3 columns]"
      ]
     },
     "execution_count": 12,
     "metadata": {},
     "output_type": "execute_result"
    }
   ],
   "source": [
    "file = 'df_for_question.csv'\n",
    "read_in_df = pd.read_csv(file)\n",
    "read_in_df"
   ]
  },
  {
   "cell_type": "markdown",
   "id": "b306eebc-f34b-4d43-b416-3df2ec8e5d8e",
   "metadata": {},
   "source": [
    "This data was obtained from Kaggle. The owner of the data goes by the name of Nadeem Majeed. The license that is on this data is titled \"Community Data License Agreement - Sharing - Version 1.0\". This is the same data that was used in the previous questions however this is more masked to only three columns.\n",
    "\n",
    "Creating the subset of data was simple. I created a new variable named df_for_question and made it equal to the data frame. This data frame has only the columns calories_burned, workout_type, and Session_Duration(hours)'. This subset of data is going to be used to answer the question \"What are the most effect types of workouts that will burn the most burn the most calories in the least amount of time?\""
   ]
  },
  {
   "cell_type": "code",
   "execution_count": 85,
   "id": "18397200-0101-4ae4-95ee-12506f2377c3",
   "metadata": {},
   "outputs": [
    {
     "data": {
      "text/plain": [
       "Workout_Type\n",
       "Cardio        1045.293427\n",
       "HIIT          1005.000000\n",
       "Strength      1019.240088\n",
       "Yoga          1066.334129\n",
       "\\nStrength     912.916667\n",
       "\\tCardio      1143.454545\n",
       "\\tYoga        1115.000000\n",
       "Name: Calories_Burned, dtype: float64"
      ]
     },
     "execution_count": 85,
     "metadata": {},
     "output_type": "execute_result"
    }
   ],
   "source": [
    "workout_summary = read_in_df.groupby('Workout_Type')['Calories_Burned'].mean()\n",
    "workout_summary"
   ]
  },
  {
   "cell_type": "markdown",
   "id": "f3a56f34-2a43-4e33-96d3-8bb20b4a9cff",
   "metadata": {},
   "source": [
    " This code is creating a variable workout_summary and is using the data frame and grouping it buy the workout type and masking the calorie burned. Through this we are able to find the average amount of calories burned for each workout. "
   ]
  },
  {
   "cell_type": "code",
   "execution_count": 92,
   "id": "1955cbae-fe9e-48e0-9051-3e0921f4989d",
   "metadata": {},
   "outputs": [
    {
     "data": {
      "text/plain": [
       "Workout_Type\n",
       "\\tCardio    1143.454545\n",
       "\\tYoga      1115.000000\n",
       "Name: Calories_Burned, dtype: float64"
      ]
     },
     "execution_count": 92,
     "metadata": {},
     "output_type": "execute_result"
    }
   ],
   "source": [
    "The_top = workout_summary.sort_values(ascending = False).head(2)\n",
    "The_top"
   ]
  },
  {
   "cell_type": "markdown",
   "id": "cd3efa77-ff79-4285-a2a3-8f5230c768cb",
   "metadata": {},
   "source": [
    "We are then able to sort the values in descending order to find the top two results that burned the most calories. "
   ]
  },
  {
   "cell_type": "code",
   "execution_count": 79,
   "id": "10bb0a6d-95c8-4c04-bed2-d91070c8e314",
   "metadata": {},
   "outputs": [
    {
     "data": {
      "text/plain": [
       "Workout_Type\n",
       "Cardio        837.632114\n",
       "HIIT          787.695150\n",
       "Strength      790.518912\n",
       "Yoga          809.456354\n",
       "\\nStrength    701.137821\n",
       "\\tCardio      797.710475\n",
       "\\tYoga        906.471420\n",
       "Name: Calories_per_Hour, dtype: float64"
      ]
     },
     "execution_count": 79,
     "metadata": {},
     "output_type": "execute_result"
    }
   ],
   "source": [
    "read_in_df['Calories_per_Hour'] = (read_in_df['Calories_Burned']/ read_in_df['Session_Duration (hours)'])\n",
    "\n",
    "burn_rate_summary = read_in_df.groupby('Workout_Type')['Calories_per_Hour'].mean()\n",
    "\n",
    "burn_rate_summary"
   ]
  },
  {
   "cell_type": "markdown",
   "id": "af9a1d33-91aa-4cc0-bf1b-0c0aa14345c9",
   "metadata": {},
   "source": [
    "This code is creating a new column in the data frame named calories_per_hour and it is dividing the calories burned by the session duration hours. After we create the burn rate summary that groups the workout type and calories per hour average."
   ]
  },
  {
   "cell_type": "code",
   "execution_count": 81,
   "id": "54f177d0-1f53-4e0c-bd6d-fcf4112f98fd",
   "metadata": {},
   "outputs": [
    {
     "data": {
      "text/plain": [
       "Workout_Type\n",
       "\\tYoga    906.471420\n",
       "Cardio    837.632114\n",
       "Name: Calories_per_Hour, dtype: float64"
      ]
     },
     "execution_count": 81,
     "metadata": {},
     "output_type": "execute_result"
    }
   ],
   "source": [
    "burn_rate_summary.sort_values(ascending = False).head(2)"
   ]
  },
  {
   "cell_type": "markdown",
   "id": "7371eaa7-ec16-4fdc-a8c8-d589e879a285",
   "metadata": {},
   "source": [
    "In this data we are able to see that for each hour on average, yoga burned 906 calories and cardio burns 837"
   ]
  }
 ],
 "metadata": {
  "kernelspec": {
   "display_name": "Python 3 (ipykernel)",
   "language": "python",
   "name": "python3"
  },
  "language_info": {
   "codemirror_mode": {
    "name": "ipython",
    "version": 3
   },
   "file_extension": ".py",
   "mimetype": "text/x-python",
   "name": "python",
   "nbconvert_exporter": "python",
   "pygments_lexer": "ipython3",
   "version": "3.12.2"
  }
 },
 "nbformat": 4,
 "nbformat_minor": 5
}
